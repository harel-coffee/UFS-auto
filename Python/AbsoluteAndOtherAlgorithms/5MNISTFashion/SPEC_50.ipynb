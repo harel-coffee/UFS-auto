{
 "cells": [
  {
   "cell_type": "markdown",
   "metadata": {},
   "source": [
    "# 1. Import libraries"
   ]
  },
  {
   "cell_type": "code",
   "execution_count": 1,
   "metadata": {},
   "outputs": [
    {
     "name": "stderr",
     "output_type": "stream",
     "text": [
      "Using TensorFlow backend.\n",
      "/usr/local/lib/python3.7/site-packages/tensorflow/python/framework/dtypes.py:516: FutureWarning: Passing (type, 1) or '1type' as a synonym of type is deprecated; in a future version of numpy, it will be understood as (type, (1,)) / '(1,)type'.\n",
      "  _np_qint8 = np.dtype([(\"qint8\", np.int8, 1)])\n",
      "/usr/local/lib/python3.7/site-packages/tensorflow/python/framework/dtypes.py:517: FutureWarning: Passing (type, 1) or '1type' as a synonym of type is deprecated; in a future version of numpy, it will be understood as (type, (1,)) / '(1,)type'.\n",
      "  _np_quint8 = np.dtype([(\"quint8\", np.uint8, 1)])\n",
      "/usr/local/lib/python3.7/site-packages/tensorflow/python/framework/dtypes.py:518: FutureWarning: Passing (type, 1) or '1type' as a synonym of type is deprecated; in a future version of numpy, it will be understood as (type, (1,)) / '(1,)type'.\n",
      "  _np_qint16 = np.dtype([(\"qint16\", np.int16, 1)])\n",
      "/usr/local/lib/python3.7/site-packages/tensorflow/python/framework/dtypes.py:519: FutureWarning: Passing (type, 1) or '1type' as a synonym of type is deprecated; in a future version of numpy, it will be understood as (type, (1,)) / '(1,)type'.\n",
      "  _np_quint16 = np.dtype([(\"quint16\", np.uint16, 1)])\n",
      "/usr/local/lib/python3.7/site-packages/tensorflow/python/framework/dtypes.py:520: FutureWarning: Passing (type, 1) or '1type' as a synonym of type is deprecated; in a future version of numpy, it will be understood as (type, (1,)) / '(1,)type'.\n",
      "  _np_qint32 = np.dtype([(\"qint32\", np.int32, 1)])\n",
      "/usr/local/lib/python3.7/site-packages/tensorflow/python/framework/dtypes.py:525: FutureWarning: Passing (type, 1) or '1type' as a synonym of type is deprecated; in a future version of numpy, it will be understood as (type, (1,)) / '(1,)type'.\n",
      "  np_resource = np.dtype([(\"resource\", np.ubyte, 1)])\n",
      "/usr/local/lib/python3.7/site-packages/tensorboard/compat/tensorflow_stub/dtypes.py:541: FutureWarning: Passing (type, 1) or '1type' as a synonym of type is deprecated; in a future version of numpy, it will be understood as (type, (1,)) / '(1,)type'.\n",
      "  _np_qint8 = np.dtype([(\"qint8\", np.int8, 1)])\n",
      "/usr/local/lib/python3.7/site-packages/tensorboard/compat/tensorflow_stub/dtypes.py:542: FutureWarning: Passing (type, 1) or '1type' as a synonym of type is deprecated; in a future version of numpy, it will be understood as (type, (1,)) / '(1,)type'.\n",
      "  _np_quint8 = np.dtype([(\"quint8\", np.uint8, 1)])\n",
      "/usr/local/lib/python3.7/site-packages/tensorboard/compat/tensorflow_stub/dtypes.py:543: FutureWarning: Passing (type, 1) or '1type' as a synonym of type is deprecated; in a future version of numpy, it will be understood as (type, (1,)) / '(1,)type'.\n",
      "  _np_qint16 = np.dtype([(\"qint16\", np.int16, 1)])\n",
      "/usr/local/lib/python3.7/site-packages/tensorboard/compat/tensorflow_stub/dtypes.py:544: FutureWarning: Passing (type, 1) or '1type' as a synonym of type is deprecated; in a future version of numpy, it will be understood as (type, (1,)) / '(1,)type'.\n",
      "  _np_quint16 = np.dtype([(\"quint16\", np.uint16, 1)])\n",
      "/usr/local/lib/python3.7/site-packages/tensorboard/compat/tensorflow_stub/dtypes.py:545: FutureWarning: Passing (type, 1) or '1type' as a synonym of type is deprecated; in a future version of numpy, it will be understood as (type, (1,)) / '(1,)type'.\n",
      "  _np_qint32 = np.dtype([(\"qint32\", np.int32, 1)])\n",
      "/usr/local/lib/python3.7/site-packages/tensorboard/compat/tensorflow_stub/dtypes.py:550: FutureWarning: Passing (type, 1) or '1type' as a synonym of type is deprecated; in a future version of numpy, it will be understood as (type, (1,)) / '(1,)type'.\n",
      "  np_resource = np.dtype([(\"resource\", np.ubyte, 1)])\n"
     ]
    }
   ],
   "source": [
    "#----------------------------Reproducible----------------------------------------------------------------------------------------\n",
    "import numpy as np\n",
    "import random as rn\n",
    "import os\n",
    "\n",
    "seed=0\n",
    "os.environ['PYTHONHASHSEED'] = str(seed)\n",
    "\n",
    "np.random.seed(seed)\n",
    "rn.seed(seed)\n",
    "\n",
    "#----------------------------Reproducible----------------------------------------------------------------------------------------\n",
    "\n",
    "os.environ['TF_CPP_MIN_LOG_LEVEL'] = '3'\n",
    "\n",
    "#--------------------------------------------------------------------------------------------------------------------------------\n",
    "import matplotlib\n",
    "import matplotlib.pyplot as plt\n",
    "import matplotlib.cm as cm\n",
    "%matplotlib inline\n",
    "matplotlib.style.use('ggplot')\n",
    "\n",
    "import random\n",
    "import scipy.sparse as sparse\n",
    "import scipy.io\n",
    "\n",
    "from keras.utils import to_categorical\n",
    "from sklearn.ensemble import ExtraTreesClassifier\n",
    "from sklearn.model_selection import cross_val_score\n",
    "from sklearn.preprocessing import MinMaxScaler\n",
    "from sklearn.preprocessing import StandardScaler\n",
    "from sklearn.model_selection import train_test_split\n",
    "from sklearn.metrics import accuracy_score\n",
    "import scipy.io\n",
    "from skfeature.function.similarity_based import SPEC\n",
    "from keras.datasets import fashion_mnist\n",
    "import time\n",
    "import pandas as pd"
   ]
  },
  {
   "cell_type": "code",
   "execution_count": 2,
   "metadata": {},
   "outputs": [],
   "source": [
    "#--------------------------------------------------------------------------------------------------------------------------------\n",
    "def ETree(p_train_feature,p_train_label,p_test_feature,p_test_label,p_seed):\n",
    "    clf = ExtraTreesClassifier(n_estimators=50, random_state=p_seed)\n",
    "    \n",
    "    # Training\n",
    "    clf.fit(p_train_feature, p_train_label)\n",
    "    \n",
    "    # Training accuracy\n",
    "    print('Training accuracy：',clf.score(p_train_feature, np.array(p_train_label)))\n",
    "    print('Training accuracy：',accuracy_score(np.array(p_train_label),clf.predict(p_train_feature)))\n",
    "    #print('Training accuracy：',np.sum(clf.predict(p_train_feature)==np.array(p_train_label))/p_train_label.shape[0])\n",
    "\n",
    "    # Testing accuracy\n",
    "    print('Testing accuracy：',clf.score(p_test_feature, np.array(p_test_label)))\n",
    "    print('Testing accuracy：',accuracy_score(np.array(p_test_label),clf.predict(p_test_feature)))\n",
    "    #print('Testing accuracy：',np.sum(clf.predict(p_test_feature)==np.array(p_test_label))/p_test_label.shape[0])"
   ]
  },
  {
   "cell_type": "code",
   "execution_count": 3,
   "metadata": {},
   "outputs": [],
   "source": [
    "#--------------------------------------------------------------------------------------------------------------------------------\n",
    "def write_to_csv(p_data,p_path):\n",
    "    dataframe = pd.DataFrame(p_data)\n",
    "    dataframe.to_csv(p_path, mode='a',header=False,index=False,sep=',')"
   ]
  },
  {
   "cell_type": "markdown",
   "metadata": {},
   "source": [
    "# 2. Loading data"
   ]
  },
  {
   "cell_type": "code",
   "execution_count": 4,
   "metadata": {},
   "outputs": [
    {
     "name": "stdout",
     "output_type": "stream",
     "text": [
      "Downloading data from http://fashion-mnist.s3-website.eu-central-1.amazonaws.com/train-labels-idx1-ubyte.gz\n",
      "32768/29515 [=================================] - 0s 3us/step\n",
      "Downloading data from http://fashion-mnist.s3-website.eu-central-1.amazonaws.com/train-images-idx3-ubyte.gz\n",
      "26427392/26421880 [==============================] - 7s 0us/step\n",
      "Downloading data from http://fashion-mnist.s3-website.eu-central-1.amazonaws.com/t10k-labels-idx1-ubyte.gz\n",
      "8192/5148 [===============================================] - 0s 0us/step\n",
      "Downloading data from http://fashion-mnist.s3-website.eu-central-1.amazonaws.com/t10k-images-idx3-ubyte.gz\n",
      "4423680/4422102 [==============================] - 2s 1us/step\n",
      "Shape of x_train: (5400, 784)\n",
      "Shape of x_validate: (600, 784)\n",
      "Shape of x_test: (4000, 784)\n",
      "Shape of y_train: (5400,)\n",
      "Shape of y_validate: (600,)\n",
      "Shape of y_test: (4000,)\n",
      "Shape of C_train_x: (6000, 784)\n",
      "Shape of C_train_y: (6000,)\n",
      "Shape of C_test_x: (4000, 784)\n",
      "Shape of C_test_y: (4000,)\n"
     ]
    }
   ],
   "source": [
    "Training_samples=5400\n",
    "Validating_samples=600\n",
    "Testing_samples=4000\n",
    "\n",
    "(x_train_, y_train_), (x_test_, y_test_) = fashion_mnist.load_data()\n",
    "x_train = x_train_.reshape(60000, 28*28).astype('float32')[0:Training_samples] / 255.\n",
    "x_validate = x_train_.reshape(60000, 28*28).astype('float32')[Training_samples:Training_samples+Validating_samples] / 255.\n",
    "x_test__ = x_test_.reshape(10000, 28*28).astype('float32') / 255.\n",
    "\n",
    "np.random.seed(seed)\n",
    "x_test__num,_=x_test__.shape\n",
    "index=np.arange(x_test__num)\n",
    "np.random.shuffle(index)\n",
    "\n",
    "x_test=x_test__[index][0:Testing_samples]\n",
    "\n",
    "y_train=y_train_[0:Training_samples]\n",
    "y_validate=y_train_[Training_samples:Training_samples+Validating_samples]\n",
    "y_test=y_test_[index][0:Testing_samples]\n",
    "\n",
    "y_train_onehot_ = np.array(y_train)\n",
    "y_validate_onehot_ = np.array(y_validate)\n",
    "y_test_onehot_ = np.array(y_test)\n",
    "\n",
    "C_train_x=x_train_.reshape(60000, 28*28).astype('float32')[0:Training_samples+Validating_samples] / 255.\n",
    "C_train_y=y_train_[0:Training_samples+Validating_samples]\n",
    "C_test_x=x_test\n",
    "C_test_y=np.array(y_test)\n",
    "\n",
    "y_train_onehot = y_train_onehot_#to_categorical(y_train_onehot_)\n",
    "y_validate_onehot = y_validate_onehot_#to_categorical(y_validate_onehot_)\n",
    "y_test_onehot = y_test_onehot_#to_categorical(y_test_onehot_)\n",
    "\n",
    "print('Shape of x_train: ' + str(x_train.shape)) \n",
    "print('Shape of x_validate: ' + str(x_validate.shape)) \n",
    "print('Shape of x_test: ' + str(x_test.shape))\n",
    "print('Shape of y_train: ' + str(y_train_onehot.shape))\n",
    "print('Shape of y_validate: ' + str(y_validate_onehot.shape))\n",
    "print('Shape of y_test: ' + str(y_test_onehot.shape))\n",
    "\n",
    "print('Shape of C_train_x: ' + str(C_train_x.shape)) \n",
    "print('Shape of C_train_y: ' + str(C_train_y.shape)) \n",
    "print('Shape of C_test_x: ' + str(C_test_x.shape)) \n",
    "print('Shape of C_test_y: ' + str(C_test_y.shape)) \n",
    "#F.show_data_figures(x_train_[0:120],28,28,40)"
   ]
  },
  {
   "cell_type": "code",
   "execution_count": 5,
   "metadata": {},
   "outputs": [],
   "source": [
    "key_feture_number=50"
   ]
  },
  {
   "cell_type": "markdown",
   "metadata": {},
   "source": [
    "# 3. Classifying 1"
   ]
  },
  {
   "cell_type": "markdown",
   "metadata": {},
   "source": [
    "### Extra Trees"
   ]
  },
  {
   "cell_type": "code",
   "execution_count": 6,
   "metadata": {},
   "outputs": [
    {
     "name": "stdout",
     "output_type": "stream",
     "text": [
      "Shape of train_feature: (6000, 784)\n",
      "Shape of train_label: (6000,)\n",
      "Shape of test_feature: (4000, 784)\n",
      "Shape of test_label: (4000,)\n",
      "Training accuracy： 1.0\n",
      "Training accuracy： 1.0\n",
      "Testing accuracy： 0.83725\n",
      "Testing accuracy： 0.83725\n"
     ]
    }
   ],
   "source": [
    "train_feature=C_train_x\n",
    "train_label=C_train_y\n",
    "test_feature=C_test_x\n",
    "test_label=C_test_y\n",
    "\n",
    "print('Shape of train_feature: ' + str(train_feature.shape)) \n",
    "print('Shape of train_label: ' + str(train_label.shape)) \n",
    "print('Shape of test_feature: ' + str(test_feature.shape)) \n",
    "print('Shape of test_label: ' + str(test_label.shape)) \n",
    "\n",
    "p_seed=seed\n",
    "ETree(train_feature,train_label,test_feature,test_label,p_seed)"
   ]
  },
  {
   "cell_type": "markdown",
   "metadata": {},
   "source": [
    "# 4. Model"
   ]
  },
  {
   "cell_type": "code",
   "execution_count": 7,
   "metadata": {},
   "outputs": [
    {
     "name": "stderr",
     "output_type": "stream",
     "text": [
      "/usr/local/lib/python3.7/site-packages/ipykernel_launcher.py:1: DeprecationWarning: time.clock has been deprecated in Python 3.3 and will be removed from Python 3.8: use time.perf_counter or time.process_time instead\n",
      "  \"\"\"Entry point for launching an IPython kernel.\n"
     ]
    },
    {
     "name": "stdout",
     "output_type": "stream",
     "text": [
      "train_selected_x (6000, 50)\n",
      "test_selected_x (4000, 50)\n"
     ]
    },
    {
     "name": "stderr",
     "output_type": "stream",
     "text": [
      "/usr/local/lib/python3.7/site-packages/ipykernel_launcher.py:26: DeprecationWarning: time.clock has been deprecated in Python 3.3 and will be removed from Python 3.8: use time.perf_counter or time.process_time instead\n"
     ]
    }
   ],
   "source": [
    "start = time.clock()\n",
    "\n",
    "# construct affinity matrix\n",
    "kwargs = {'style': 0}\n",
    "\n",
    "# obtain the scores of features, and sort the feature scores in an ascending order according to the feature scores\n",
    "train_score = SPEC.spec(train_feature, **kwargs)\n",
    "\n",
    "train_idx = SPEC.feature_ranking(train_score, **kwargs)\n",
    "\n",
    "# obtain the dataset on the selected features\n",
    "train_selected_x = train_feature[:, train_idx[0:key_feture_number]]\n",
    "print(\"train_selected_x\",train_selected_x.shape)\n",
    "\n",
    "\n",
    "# obtain the scores of features, and sort the feature scores in an ascending order according to the feature scores\n",
    "test_score = SPEC.spec(test_feature, **kwargs)\n",
    "\n",
    "test_idx = SPEC.feature_ranking(test_score, **kwargs)\n",
    "\n",
    "# obtain the dataset on the selected features\n",
    "test_selected_x = test_feature[:, test_idx[0:key_feture_number]]\n",
    "print(\"test_selected_x\",test_selected_x.shape)\n",
    "\n",
    "\n",
    "time_cost=time.clock() - start\n",
    "\n",
    "write_to_csv(np.array([time_cost]),\"./log/SPEC_time\"+str(key_feture_number)+\".csv\")"
   ]
  },
  {
   "cell_type": "code",
   "execution_count": 8,
   "metadata": {},
   "outputs": [
    {
     "name": "stdout",
     "output_type": "stream",
     "text": [
      "Shape of C_train_selected_x: (6000, 50)\n",
      "Shape of C_test_selected_x: (4000, 50)\n",
      "Shape of C_train_selected_y: (6000,)\n",
      "Shape of C_test_selected_y: (4000,)\n"
     ]
    }
   ],
   "source": [
    "C_train_selected_x=train_selected_x\n",
    "C_test_selected_x=test_selected_x\n",
    "C_train_selected_y=C_train_y\n",
    "C_test_selected_y=C_test_y\n",
    "\n",
    "\n",
    "print('Shape of C_train_selected_x: ' + str(C_train_selected_x.shape)) \n",
    "print('Shape of C_test_selected_x: ' + str(C_test_selected_x.shape)) \n",
    "print('Shape of C_train_selected_y: ' + str(C_train_selected_y.shape)) \n",
    "print('Shape of C_test_selected_y: ' + str(C_test_selected_y.shape)) "
   ]
  },
  {
   "cell_type": "markdown",
   "metadata": {},
   "source": [
    "# 5. Classifying 2"
   ]
  },
  {
   "cell_type": "markdown",
   "metadata": {},
   "source": [
    "### Extra Trees"
   ]
  },
  {
   "cell_type": "code",
   "execution_count": 9,
   "metadata": {},
   "outputs": [
    {
     "name": "stdout",
     "output_type": "stream",
     "text": [
      "Shape of train_feature: (6000, 50)\n",
      "Shape of train_label: (6000,)\n",
      "Shape of test_feature: (4000, 50)\n",
      "Shape of test_label: (4000,)\n",
      "Training accuracy： 1.0\n",
      "Training accuracy： 1.0\n",
      "Testing accuracy： 0.27575\n",
      "Testing accuracy： 0.27575\n"
     ]
    }
   ],
   "source": [
    "train_feature=C_train_selected_x\n",
    "train_label=C_train_y\n",
    "\n",
    "test_feature=C_test_selected_x\n",
    "test_label=C_test_y\n",
    "\n",
    "print('Shape of train_feature: ' + str(train_feature.shape)) \n",
    "print('Shape of train_label: ' + str(train_label.shape)) \n",
    "print('Shape of test_feature: ' + str(test_feature.shape)) \n",
    "print('Shape of test_label: ' + str(test_label.shape)) \n",
    "\n",
    "p_seed=seed\n",
    "ETree(train_feature,train_label,test_feature,test_label,p_seed)"
   ]
  },
  {
   "cell_type": "markdown",
   "metadata": {},
   "source": [
    "# 6. Reconstruction loss"
   ]
  },
  {
   "cell_type": "code",
   "execution_count": 10,
   "metadata": {},
   "outputs": [],
   "source": [
    "from sklearn.linear_model import LinearRegression\n",
    "\n",
    "def mse_check(train, test):\n",
    "    LR = LinearRegression(n_jobs = -1)\n",
    "    LR.fit(train[0], train[1])\n",
    "    MSELR = ((LR.predict(test[0]) - test[1]) ** 2).mean()\n",
    "    return MSELR"
   ]
  },
  {
   "cell_type": "code",
   "execution_count": 11,
   "metadata": {},
   "outputs": [
    {
     "name": "stdout",
     "output_type": "stream",
     "text": [
      "0.10705208\n"
     ]
    }
   ],
   "source": [
    "train_feature_tuple=(C_train_selected_x,C_train_x)\n",
    "test_feature_tuple=(C_test_selected_x,C_test_x)\n",
    "\n",
    "reconstruction_loss=mse_check(train_feature_tuple, test_feature_tuple)\n",
    "print(reconstruction_loss)"
   ]
  },
  {
   "cell_type": "code",
   "execution_count": null,
   "metadata": {},
   "outputs": [],
   "source": []
  }
 ],
 "metadata": {
  "kernelspec": {
   "display_name": "Python 3",
   "language": "python",
   "name": "python3"
  },
  "language_info": {
   "codemirror_mode": {
    "name": "ipython",
    "version": 3
   },
   "file_extension": ".py",
   "mimetype": "text/x-python",
   "name": "python",
   "nbconvert_exporter": "python",
   "pygments_lexer": "ipython3",
   "version": "3.8.6"
  },
  "widgets": {
   "application/vnd.jupyter.widget-state+json": {
    "state": {},
    "version_major": 2,
    "version_minor": 0
   }
  }
 },
 "nbformat": 4,
 "nbformat_minor": 4
}
