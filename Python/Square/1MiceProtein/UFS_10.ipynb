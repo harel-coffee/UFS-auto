{
 "cells": [
  {
   "cell_type": "markdown",
   "metadata": {},
   "source": [
    "# 1. Import libraries"
   ]
  },
  {
   "cell_type": "code",
   "execution_count": 1,
   "metadata": {
    "scrolled": true
   },
   "outputs": [
    {
     "name": "stderr",
     "output_type": "stream",
     "text": [
      "/usr/local/lib/python3.7/site-packages/tensorflow/python/framework/dtypes.py:516: FutureWarning: Passing (type, 1) or '1type' as a synonym of type is deprecated; in a future version of numpy, it will be understood as (type, (1,)) / '(1,)type'.\n",
      "  _np_qint8 = np.dtype([(\"qint8\", np.int8, 1)])\n",
      "/usr/local/lib/python3.7/site-packages/tensorflow/python/framework/dtypes.py:517: FutureWarning: Passing (type, 1) or '1type' as a synonym of type is deprecated; in a future version of numpy, it will be understood as (type, (1,)) / '(1,)type'.\n",
      "  _np_quint8 = np.dtype([(\"quint8\", np.uint8, 1)])\n",
      "/usr/local/lib/python3.7/site-packages/tensorflow/python/framework/dtypes.py:518: FutureWarning: Passing (type, 1) or '1type' as a synonym of type is deprecated; in a future version of numpy, it will be understood as (type, (1,)) / '(1,)type'.\n",
      "  _np_qint16 = np.dtype([(\"qint16\", np.int16, 1)])\n",
      "/usr/local/lib/python3.7/site-packages/tensorflow/python/framework/dtypes.py:519: FutureWarning: Passing (type, 1) or '1type' as a synonym of type is deprecated; in a future version of numpy, it will be understood as (type, (1,)) / '(1,)type'.\n",
      "  _np_quint16 = np.dtype([(\"quint16\", np.uint16, 1)])\n",
      "/usr/local/lib/python3.7/site-packages/tensorflow/python/framework/dtypes.py:520: FutureWarning: Passing (type, 1) or '1type' as a synonym of type is deprecated; in a future version of numpy, it will be understood as (type, (1,)) / '(1,)type'.\n",
      "  _np_qint32 = np.dtype([(\"qint32\", np.int32, 1)])\n",
      "/usr/local/lib/python3.7/site-packages/tensorflow/python/framework/dtypes.py:525: FutureWarning: Passing (type, 1) or '1type' as a synonym of type is deprecated; in a future version of numpy, it will be understood as (type, (1,)) / '(1,)type'.\n",
      "  np_resource = np.dtype([(\"resource\", np.ubyte, 1)])\n",
      "/usr/local/lib/python3.7/site-packages/tensorboard/compat/tensorflow_stub/dtypes.py:541: FutureWarning: Passing (type, 1) or '1type' as a synonym of type is deprecated; in a future version of numpy, it will be understood as (type, (1,)) / '(1,)type'.\n",
      "  _np_qint8 = np.dtype([(\"qint8\", np.int8, 1)])\n",
      "/usr/local/lib/python3.7/site-packages/tensorboard/compat/tensorflow_stub/dtypes.py:542: FutureWarning: Passing (type, 1) or '1type' as a synonym of type is deprecated; in a future version of numpy, it will be understood as (type, (1,)) / '(1,)type'.\n",
      "  _np_quint8 = np.dtype([(\"quint8\", np.uint8, 1)])\n",
      "/usr/local/lib/python3.7/site-packages/tensorboard/compat/tensorflow_stub/dtypes.py:543: FutureWarning: Passing (type, 1) or '1type' as a synonym of type is deprecated; in a future version of numpy, it will be understood as (type, (1,)) / '(1,)type'.\n",
      "  _np_qint16 = np.dtype([(\"qint16\", np.int16, 1)])\n",
      "/usr/local/lib/python3.7/site-packages/tensorboard/compat/tensorflow_stub/dtypes.py:544: FutureWarning: Passing (type, 1) or '1type' as a synonym of type is deprecated; in a future version of numpy, it will be understood as (type, (1,)) / '(1,)type'.\n",
      "  _np_quint16 = np.dtype([(\"quint16\", np.uint16, 1)])\n",
      "/usr/local/lib/python3.7/site-packages/tensorboard/compat/tensorflow_stub/dtypes.py:545: FutureWarning: Passing (type, 1) or '1type' as a synonym of type is deprecated; in a future version of numpy, it will be understood as (type, (1,)) / '(1,)type'.\n",
      "  _np_qint32 = np.dtype([(\"qint32\", np.int32, 1)])\n",
      "/usr/local/lib/python3.7/site-packages/tensorboard/compat/tensorflow_stub/dtypes.py:550: FutureWarning: Passing (type, 1) or '1type' as a synonym of type is deprecated; in a future version of numpy, it will be understood as (type, (1,)) / '(1,)type'.\n",
      "  np_resource = np.dtype([(\"resource\", np.ubyte, 1)])\n",
      "Using TensorFlow backend.\n"
     ]
    }
   ],
   "source": [
    "#----------------------------Reproducible----------------------------------------------------------------------------------------\n",
    "import numpy as np\n",
    "import tensorflow as tf\n",
    "import random as rn\n",
    "import os\n",
    "\n",
    "seed=0\n",
    "os.environ['PYTHONHASHSEED'] = str(seed)\n",
    "\n",
    "np.random.seed(seed)\n",
    "rn.seed(seed)\n",
    "#session_conf = tf.ConfigProto(intra_op_parallelism_threads=1, inter_op_parallelism_threads=1)\n",
    "session_conf =tf.compat.v1.ConfigProto(intra_op_parallelism_threads=1, inter_op_parallelism_threads=1)\n",
    "\n",
    "from keras import backend as K\n",
    "\n",
    "#tf.set_random_seed(seed)\n",
    "tf.compat.v1.set_random_seed(seed)\n",
    "#sess = tf.Session(graph=tf.get_default_graph(), config=session_conf)\n",
    "sess = tf.compat.v1.Session(graph=tf.compat.v1.get_default_graph(), config=session_conf)\n",
    "\n",
    "K.set_session(sess)\n",
    "#----------------------------Reproducible----------------------------------------------------------------------------------------\n",
    "\n",
    "os.environ['TF_CPP_MIN_LOG_LEVEL'] = '3'\n",
    "\n",
    "#--------------------------------------------------------------------------------------------------------------------------------\n",
    "from keras.datasets import mnist\n",
    "from keras.models import Model\n",
    "from keras.layers import Dense, Input, Flatten, Activation, Dropout, Layer\n",
    "from keras.layers.normalization import BatchNormalization\n",
    "from keras.utils import to_categorical\n",
    "from keras import optimizers,initializers,constraints,regularizers\n",
    "from keras import backend as K\n",
    "from keras.callbacks import LambdaCallback,ModelCheckpoint\n",
    "from keras.utils import plot_model\n",
    "\n",
    "from sklearn.model_selection import StratifiedKFold\n",
    "from sklearn.ensemble import ExtraTreesClassifier\n",
    "from sklearn import svm\n",
    "from sklearn.model_selection import cross_val_score\n",
    "from sklearn.model_selection import ShuffleSplit\n",
    "from sklearn.model_selection import train_test_split\n",
    "from sklearn.metrics import accuracy_score\n",
    "from sklearn.svm import SVC\n",
    "\n",
    "import h5py\n",
    "import math\n",
    "import matplotlib\n",
    "import matplotlib.pyplot as plt\n",
    "import matplotlib.cm as cm\n",
    "%matplotlib inline\n",
    "matplotlib.style.use('ggplot')\n",
    "\n",
    "import pandas as pd\n",
    "from sklearn.impute import SimpleImputer \n",
    "from sklearn.preprocessing import MinMaxScaler\n",
    "from sklearn.model_selection import train_test_split\n",
    "import scipy.sparse as sparse\n",
    "\n",
    "#--------------------------------------------------------------------------------------------------------------------------------\n",
    "#Import ourslef defined methods\n",
    "import sys\n",
    "sys.path.append(r\"./Defined\")\n",
    "import Functions as F\n",
    "\n",
    "# The following code should be added before the keras model\n",
    "#np.random.seed(seed)"
   ]
  },
  {
   "cell_type": "markdown",
   "metadata": {},
   "source": [
    "# 2. Loading data"
   ]
  },
  {
   "cell_type": "code",
   "execution_count": 2,
   "metadata": {},
   "outputs": [],
   "source": [
    "data_frame=pd.read_excel('./Dataset/Data_Cortex_Nuclear.xls',sheet_name='Hoja1')\n",
    "\n",
    "data_arr=(np.array(data_frame)[:,1:78]).copy()\n",
    "label_arr=(np.array(data_frame)[:,81]).copy()\n",
    "\n",
    "for index_i in np.arange(len(label_arr)):\n",
    "    if label_arr[index_i]=='c-CS-s':\n",
    "        label_arr[index_i]='0'\n",
    "    if label_arr[index_i]=='c-CS-m':\n",
    "        label_arr[index_i]='1'\n",
    "    if label_arr[index_i]=='c-SC-s':\n",
    "        label_arr[index_i]='2'\n",
    "    if label_arr[index_i]=='c-SC-m':\n",
    "        label_arr[index_i]='3'\n",
    "    if label_arr[index_i]=='t-CS-s':\n",
    "        label_arr[index_i]='4'\n",
    "    if label_arr[index_i]=='t-CS-m':\n",
    "        label_arr[index_i]='5'\n",
    "    if label_arr[index_i]=='t-SC-s':\n",
    "        label_arr[index_i]='6'\n",
    "    if label_arr[index_i]=='t-SC-m':\n",
    "        label_arr[index_i]='7' \n",
    "\n",
    "label_arr_onehot=label_arr#to_categorical(label_arr)\n",
    "# Show before Imputer\n",
    "#print(data_arr[558])\n",
    "imp_mean = SimpleImputer(missing_values=np.nan, strategy='mean')\n",
    "imp_mean.fit(data_arr)\n",
    "data_arr=imp_mean.transform(data_arr)\n",
    "\n",
    "# Show after Imputer\n",
    "#print(data_arr[558])"
   ]
  },
  {
   "cell_type": "code",
   "execution_count": 3,
   "metadata": {},
   "outputs": [],
   "source": [
    "data_arr=MinMaxScaler(feature_range=(0,1)).fit_transform(data_arr)"
   ]
  },
  {
   "cell_type": "code",
   "execution_count": 4,
   "metadata": {},
   "outputs": [
    {
     "name": "stdout",
     "output_type": "stream",
     "text": [
      "Shape of x_train: (777, 77)\n",
      "Shape of x_validate: (87, 77)\n",
      "Shape of x_test: (216, 77)\n",
      "Shape of y_train: (777,)\n",
      "Shape of y_validate: (87,)\n",
      "Shape of y_test: (216,)\n",
      "Shape of C_train_x: (864, 77)\n",
      "Shape of C_train_y: (864,)\n",
      "Shape of C_test_x: (216, 77)\n",
      "Shape of C_test_y: (216,)\n"
     ]
    }
   ],
   "source": [
    "C_train_x,C_test_x,C_train_y,C_test_y= train_test_split(data_arr,label_arr_onehot,test_size=0.2,random_state=seed)\n",
    "x_train,x_validate,y_train_onehot,y_validate_onehot= train_test_split(C_train_x,C_train_y,test_size=0.1,random_state=seed)\n",
    "x_test=C_test_x\n",
    "y_test_onehot=C_test_y\n",
    "\n",
    "print('Shape of x_train: ' + str(x_train.shape)) \n",
    "print('Shape of x_validate: ' + str(x_validate.shape)) \n",
    "print('Shape of x_test: ' + str(x_test.shape))\n",
    "print('Shape of y_train: ' + str(y_train_onehot.shape))\n",
    "print('Shape of y_validate: ' + str(y_validate_onehot.shape))\n",
    "print('Shape of y_test: ' + str(y_test_onehot.shape))\n",
    "\n",
    "print('Shape of C_train_x: ' + str(C_train_x.shape)) \n",
    "print('Shape of C_train_y: ' + str(C_train_y.shape)) \n",
    "print('Shape of C_test_x: ' + str(C_test_x.shape)) \n",
    "print('Shape of C_test_y: ' + str(C_test_y.shape)) "
   ]
  },
  {
   "cell_type": "code",
   "execution_count": 5,
   "metadata": {},
   "outputs": [],
   "source": [
    "key_feture_number=10"
   ]
  },
  {
   "cell_type": "markdown",
   "metadata": {},
   "source": [
    "# 3.Model"
   ]
  },
  {
   "cell_type": "code",
   "execution_count": 6,
   "metadata": {},
   "outputs": [],
   "source": [
    "np.random.seed(seed)\n",
    "\n",
    "#--------------------------------------------------------------------------------------------------------------------------------\n",
    "class Feature_Select_Layer(Layer):\n",
    "    \n",
    "    def __init__(self, output_dim, **kwargs):\n",
    "        super(Feature_Select_Layer, self).__init__(**kwargs)\n",
    "        self.output_dim = output_dim\n",
    "\n",
    "    def build(self, input_shape):\n",
    "        self.kernel = self.add_weight(name='kernel',  \n",
    "                                      shape=(input_shape[1],),\n",
    "                                      initializer=initializers.RandomUniform(minval=0.999999, maxval=0.9999999, seed=seed),\n",
    "                                      trainable=True)\n",
    "        super(Feature_Select_Layer, self).build(input_shape)\n",
    "    \n",
    "    def call(self, x, selection=False,k=key_feture_number):\n",
    "        kernel=K.pow(self.kernel,2)       \n",
    "        if selection:\n",
    "            kernel_=K.transpose(kernel)\n",
    "            kth_largest = tf.math.top_k(kernel_, k=k)[0][-1]\n",
    "            kernel = tf.where(condition=K.less(kernel,kth_largest),x=K.zeros_like(kernel),y=kernel)        \n",
    "        return K.dot(x, tf.linalg.tensor_diag(kernel))\n",
    "\n",
    "    def compute_output_shape(self, input_shape):\n",
    "        return (input_shape[0], self.output_dim)\n",
    "\n",
    "#--------------------------------------------------------------------------------------------------------------------------------\n",
    "def Autoencoder(p_data_feature=x_train.shape[1],\\\n",
    "                p_encoding_dim=key_feture_number,\\\n",
    "                p_learning_rate= 1E-3):\n",
    "    input_img = Input(shape=(p_data_feature,), name='input_img')\n",
    "\n",
    "    encoded = Dense(p_encoding_dim, activation='linear',kernel_initializer=initializers.glorot_uniform(seed))(input_img)\n",
    "    bottleneck=encoded\n",
    "    decoded = Dense(p_data_feature, activation='linear',kernel_initializer=initializers.glorot_uniform(seed))(encoded)\n",
    "\n",
    "    latent_encoder = Model(input_img, bottleneck)\n",
    "    autoencoder = Model(input_img, decoded)\n",
    "    \n",
    "    autoencoder.compile(loss='mean_squared_error', optimizer=optimizers.Adam(lr=p_learning_rate))\n",
    "    \n",
    "    print('Autoencoder Structure-------------------------------------')\n",
    "    autoencoder.summary()\n",
    "    #print('Latent Encoder Structure-------------------------------------')\n",
    "    #latent_encoder.summary()\n",
    "    return autoencoder,latent_encoder\n",
    "\n",
    "#--------------------------------------------------------------------------------------------------------------------------------\n",
    "def Identity_Autoencoder(p_data_feature=x_train.shape[1],\\\n",
    "                         p_encoding_dim=key_feture_number,\\\n",
    "                         p_learning_rate= 1E-3):\n",
    "    \n",
    "    input_img = Input(shape=(p_data_feature,), name='autoencoder_input')\n",
    "\n",
    "    feature_selection = Feature_Select_Layer(output_dim=p_data_feature,\\\n",
    "                                             input_shape=(p_data_feature,),\\\n",
    "                                             name='feature_selection')\n",
    "\n",
    "    feature_selection_score=feature_selection(input_img)\n",
    "\n",
    "    encoded = Dense(p_encoding_dim,\\\n",
    "                    activation='linear',\\\n",
    "                    kernel_initializer=initializers.glorot_uniform(seed),\\\n",
    "                    name='autoencoder_hidden_layer')\n",
    "    \n",
    "    encoded_score=encoded(feature_selection_score)\n",
    "    \n",
    "    bottleneck_score=encoded_score\n",
    "    \n",
    "    decoded = Dense(p_data_feature,\\\n",
    "                    activation='linear',\\\n",
    "                    kernel_initializer=initializers.glorot_uniform(seed),\\\n",
    "                    name='autoencoder_output')\n",
    "    \n",
    "    decoded_score =decoded(bottleneck_score)\n",
    "\n",
    "    latent_encoder_score = Model(input_img, bottleneck_score)\n",
    "    autoencoder = Model(input_img, decoded_score)\n",
    "    \n",
    "    autoencoder.compile(loss='mean_squared_error',\\\n",
    "                        optimizer=optimizers.Adam(lr=p_learning_rate))\n",
    "    \n",
    "    print('Autoencoder Structure-------------------------------------')\n",
    "    autoencoder.summary()\n",
    "    return autoencoder,latent_encoder_score\n",
    "\n",
    "#--------------------------------------------------------------------------------------------------------------------------------\n",
    "def Fractal_Autoencoder(p_data_feature=x_train.shape[1],\\\n",
    "                        p_feture_number=key_feture_number,\\\n",
    "                        p_encoding_dim=key_feture_number,\\\n",
    "                        p_learning_rate=1E-3,\\\n",
    "                        p_loss_weight_1=1,\\\n",
    "                        p_loss_weight_2=2):\n",
    "    \n",
    "    input_img = Input(shape=(p_data_feature,), name='autoencoder_input')\n",
    "\n",
    "    feature_selection = Feature_Select_Layer(output_dim=p_data_feature,\\\n",
    "                                             input_shape=(p_data_feature,),\\\n",
    "                                             name='feature_selection')\n",
    "\n",
    "    feature_selection_score=feature_selection(input_img)\n",
    "    feature_selection_choose=feature_selection(input_img,selection=True,k=p_feture_number)\n",
    "\n",
    "    encoded = Dense(p_encoding_dim,\\\n",
    "                    activation='linear',\\\n",
    "                    kernel_initializer=initializers.glorot_uniform(seed),\\\n",
    "                    name='autoencoder_hidden_layer')\n",
    "    \n",
    "    encoded_score=encoded(feature_selection_score)\n",
    "    encoded_choose=encoded(feature_selection_choose)\n",
    "    \n",
    "    bottleneck_score=encoded_score\n",
    "    bottleneck_choose=encoded_choose\n",
    "    \n",
    "    decoded = Dense(p_data_feature,\\\n",
    "                    activation='linear',\\\n",
    "                    kernel_initializer=initializers.glorot_uniform(seed),\\\n",
    "                    name='autoencoder_output')\n",
    "    \n",
    "    decoded_score =decoded(bottleneck_score)\n",
    "    decoded_choose =decoded(bottleneck_choose)\n",
    "\n",
    "    latent_encoder_score = Model(input_img, bottleneck_score)\n",
    "    latent_encoder_choose = Model(input_img, bottleneck_choose)\n",
    "    feature_selection_output=Model(input_img,feature_selection_choose)\n",
    "    autoencoder = Model(input_img, [decoded_score,decoded_choose])\n",
    "    \n",
    "    autoencoder.compile(loss=['mean_squared_error','mean_squared_error'],\\\n",
    "                        loss_weights=[p_loss_weight_1, p_loss_weight_2],\\\n",
    "                        optimizer=optimizers.Adam(lr=p_learning_rate))\n",
    "    \n",
    "    print('Autoencoder Structure-------------------------------------')\n",
    "    autoencoder.summary()\n",
    "    return autoencoder,feature_selection_output,latent_encoder_score,latent_encoder_choose"
   ]
  },
  {
   "cell_type": "markdown",
   "metadata": {},
   "source": [
    "## 3.1 Structure and paramter testing"
   ]
  },
  {
   "cell_type": "code",
   "execution_count": 7,
   "metadata": {},
   "outputs": [],
   "source": [
    "epochs_number=200\n",
    "batch_size_value=128"
   ]
  },
  {
   "cell_type": "markdown",
   "metadata": {},
   "source": [
    "---\n",
    "### 3.1.1 Fractal Autoencoder\n",
    "---"
   ]
  },
  {
   "cell_type": "code",
   "execution_count": 8,
   "metadata": {
    "scrolled": true
   },
   "outputs": [
    {
     "name": "stdout",
     "output_type": "stream",
     "text": [
      "WARNING:tensorflow:From /usr/local/lib/python3.7/site-packages/keras/backend/tensorflow_backend.py:541: The name tf.placeholder is deprecated. Please use tf.compat.v1.placeholder instead.\n",
      "\n",
      "WARNING:tensorflow:From /usr/local/lib/python3.7/site-packages/keras/backend/tensorflow_backend.py:4432: The name tf.random_uniform is deprecated. Please use tf.random.uniform instead.\n",
      "\n",
      "WARNING:tensorflow:From <ipython-input-6-478f6b761227>:22: add_dispatch_support.<locals>.wrapper (from tensorflow.python.ops.array_ops) is deprecated and will be removed in a future version.\n",
      "Instructions for updating:\n",
      "Use tf.where in 2.0, which has the same broadcast rule as np.where\n",
      "WARNING:tensorflow:From /usr/local/lib/python3.7/site-packages/keras/backend/tensorflow_backend.py:66: The name tf.get_default_graph is deprecated. Please use tf.compat.v1.get_default_graph instead.\n",
      "\n",
      "WARNING:tensorflow:From /usr/local/lib/python3.7/site-packages/keras/optimizers.py:793: The name tf.train.Optimizer is deprecated. Please use tf.compat.v1.train.Optimizer instead.\n",
      "\n",
      "Autoencoder Structure-------------------------------------\n",
      "Model: \"model_4\"\n",
      "__________________________________________________________________________________________________\n",
      "Layer (type)                    Output Shape         Param #     Connected to                     \n",
      "==================================================================================================\n",
      "autoencoder_input (InputLayer)  (None, 77)           0                                            \n",
      "__________________________________________________________________________________________________\n",
      "feature_selection (Feature_Sele (None, 77)           77          autoencoder_input[0][0]          \n",
      "                                                                 autoencoder_input[0][0]          \n",
      "__________________________________________________________________________________________________\n",
      "autoencoder_hidden_layer (Dense (None, 10)           780         feature_selection[0][0]          \n",
      "                                                                 feature_selection[1][0]          \n",
      "__________________________________________________________________________________________________\n",
      "autoencoder_output (Dense)      (None, 77)           847         autoencoder_hidden_layer[0][0]   \n",
      "                                                                 autoencoder_hidden_layer[1][0]   \n",
      "==================================================================================================\n",
      "Total params: 1,704\n",
      "Trainable params: 1,704\n",
      "Non-trainable params: 0\n",
      "__________________________________________________________________________________________________\n"
     ]
    },
    {
     "data": {
      "image/png": "[encoded data removed]",
      "text/plain": [
       "<IPython.core.display.Image object>"
      ]
     },
     "execution_count": 8,
     "metadata": {},
     "output_type": "execute_result"
    }
   ],
   "source": [
    "loss_weight_1=0.0078125\n",
    "F_AE,\\\n",
    "feature_selection_output,\\\n",
    "latent_encoder_score_F_AE,\\\n",
    "latent_encoder_choose_F_AE=Fractal_Autoencoder(p_data_feature=x_train.shape[1],\\\n",
    "                                               p_feture_number=key_feture_number,\\\n",
    "                                               p_encoding_dim=key_feture_number,\\\n",
    "                                               p_learning_rate= 1E-3,\\\n",
    "                                               p_loss_weight_1=loss_weight_1,\\\n",
    "                                               p_loss_weight_2=1)\n",
    "\n",
    "file_name=\"./log/F_AE_\"+str(key_feture_number)+\".png\"\n",
    "plot_model(F_AE, to_file=file_name,show_shapes=True)"
   ]
  },
  {
   "cell_type": "code",
   "execution_count": 9,
   "metadata": {
    "scrolled": true
   },
   "outputs": [
    {
     "name": "stdout",
     "output_type": "stream",
     "text": [
      "WARNING:tensorflow:From /usr/local/lib/python3.7/site-packages/keras/backend/tensorflow_backend.py:1033: The name tf.assign_add is deprecated. Please use tf.compat.v1.assign_add instead.\n",
      "\n",
      "WARNING:tensorflow:From /usr/local/lib/python3.7/site-packages/keras/backend/tensorflow_backend.py:1020: The name tf.assign is deprecated. Please use tf.compat.v1.assign instead.\n",
      "\n",
      "Train on 777 samples, validate on 87 samples\n",
      "Epoch 1/200\n",
      "777/777 [==============================] - 1s 774us/step - loss: 0.1904 - autoencoder_output_loss: 0.1879 - val_loss: 0.1693 - val_autoencoder_output_loss: 0.1671\n",
      "Epoch 2/200\n",
      "777/777 [==============================] - 0s 39us/step - loss: 0.1623 - autoencoder_output_loss: 0.1602 - val_loss: 0.1516 - val_autoencoder_output_loss: 0.1498\n",
      "Epoch 3/200\n",
      "777/777 [==============================] - 0s 21us/step - loss: 0.1457 - autoencoder_output_loss: 0.1440 - val_loss: 0.1362 - val_autoencoder_output_loss: 0.1347\n",
      "Epoch 4/200\n",
      "777/777 [==============================] - 0s 18us/step - loss: 0.1299 - autoencoder_output_loss: 0.1285 - val_loss: 0.1199 - val_autoencoder_output_loss: 0.1187\n",
      "Epoch 5/200\n",
      "777/777 [==============================] - 0s 20us/step - loss: 0.1135 - autoencoder_output_loss: 0.1124 - val_loss: 0.1034 - val_autoencoder_output_loss: 0.1024\n",
      "Epoch 6/200\n",
      "777/777 [==============================] - 0s 23us/step - loss: 0.0970 - autoencoder_output_loss: 0.0961 - val_loss: 0.0871 - val_autoencoder_output_loss: 0.0863\n",
      "Epoch 7/200\n",
      "777/777 [==============================] - 0s 19us/step - loss: 0.0811 - autoencoder_output_loss: 0.0804 - val_loss: 0.0719 - val_autoencoder_output_loss: 0.0713\n",
      "Epoch 8/200\n",
      "777/777 [==============================] - 0s 19us/step - loss: 0.0665 - autoencoder_output_loss: 0.0660 - val_loss: 0.0585 - val_autoencoder_output_loss: 0.0581\n",
      "Epoch 9/200\n",
      "777/777 [==============================] - 0s 18us/step - loss: 0.0540 - autoencoder_output_loss: 0.0536 - val_loss: 0.0477 - val_autoencoder_output_loss: 0.0473\n",
      "Epoch 10/200\n",
      "777/777 [==============================] - 0s 20us/step - loss: 0.0440 - autoencoder_output_loss: 0.0437 - val_loss: 0.0392 - val_autoencoder_output_loss: 0.0389\n",
      "Epoch 11/200\n",
      "777/777 [==============================] - 0s 27us/step - loss: 0.0364 - autoencoder_output_loss: 0.0361 - val_loss: 0.0330 - val_autoencoder_output_loss: 0.0327\n",
      "Epoch 12/200\n",
      "777/777 [==============================] - 0s 19us/step - loss: 0.0308 - autoencoder_output_loss: 0.0305 - val_loss: 0.0285 - val_autoencoder_output_loss: 0.0282\n",
      "Epoch 13/200\n",
      "777/777 [==============================] - 0s 19us/step - loss: 0.0268 - autoencoder_output_loss: 0.0265 - val_loss: 0.0253 - val_autoencoder_output_loss: 0.0250\n",
      "Epoch 14/200\n",
      "777/777 [==============================] - 0s 19us/step - loss: 0.0240 - autoencoder_output_loss: 0.0237 - val_loss: 0.0231 - val_autoencoder_output_loss: 0.0228\n",
      "Epoch 15/200\n",
      "777/777 [==============================] - 0s 19us/step - loss: 0.0220 - autoencoder_output_loss: 0.0218 - val_loss: 0.0216 - val_autoencoder_output_loss: 0.0214\n",
      "Epoch 16/200\n",
      "777/777 [==============================] - 0s 23us/step - loss: 0.0208 - autoencoder_output_loss: 0.0206 - val_loss: 0.0206 - val_autoencoder_output_loss: 0.0204\n",
      "Epoch 17/200\n",
      "777/777 [==============================] - 0s 22us/step - loss: 0.0199 - autoencoder_output_loss: 0.0197 - val_loss: 0.0199 - val_autoencoder_output_loss: 0.0198\n",
      "Epoch 18/200\n",
      "777/777 [==============================] - 0s 35us/step - loss: 0.0194 - autoencoder_output_loss: 0.0192 - val_loss: 0.0195 - val_autoencoder_output_loss: 0.0193\n",
      "Epoch 19/200\n",
      "777/777 [==============================] - 0s 34us/step - loss: 0.0190 - autoencoder_output_loss: 0.0188 - val_loss: 0.0191 - val_autoencoder_output_loss: 0.0190\n",
      "Epoch 20/200\n",
      "777/777 [==============================] - 0s 31us/step - loss: 0.0187 - autoencoder_output_loss: 0.0185 - val_loss: 0.0189 - val_autoencoder_output_loss: 0.0187\n",
      "Epoch 21/200\n",
      "777/777 [==============================] - 0s 24us/step - loss: 0.0185 - autoencoder_output_loss: 0.0184 - val_loss: 0.0187 - val_autoencoder_output_loss: 0.0186\n",
      "Epoch 22/200\n",
      "777/777 [==============================] - 0s 25us/step - loss: 0.0184 - autoencoder_output_loss: 0.0182 - val_loss: 0.0187 - val_autoencoder_output_loss: 0.0185\n",
      "Epoch 23/200\n",
      "777/777 [==============================] - 0s 25us/step - loss: 0.0183 - autoencoder_output_loss: 0.0181 - val_loss: 0.0186 - val_autoencoder_output_loss: 0.0184\n",
      "Epoch 24/200\n",
      "777/777 [==============================] - 0s 27us/step - loss: 0.0182 - autoencoder_output_loss: 0.0180 - val_loss: 0.0185 - val_autoencoder_output_loss: 0.0183\n",
      "Epoch 25/200\n",
      "777/777 [==============================] - 0s 26us/step - loss: 0.0181 - autoencoder_output_loss: 0.0179 - val_loss: 0.0184 - val_autoencoder_output_loss: 0.0182\n",
      "Epoch 26/200\n",
      "777/777 [==============================] - 0s 27us/step - loss: 0.0180 - autoencoder_output_loss: 0.0178 - val_loss: 0.0183 - val_autoencoder_output_loss: 0.0182\n",
      "Epoch 27/200\n",
      "777/777 [==============================] - 0s 23us/step - loss: 0.0181 - autoencoder_output_loss: 0.0179 - val_loss: 0.0182 - val_autoencoder_output_loss: 0.0181\n",
      "Epoch 28/200\n",
      "777/777 [==============================] - 0s 30us/step - loss: 0.0179 - autoencoder_output_loss: 0.0177 - val_loss: 0.0182 - val_autoencoder_output_loss: 0.0180\n",
      "Epoch 29/200\n",
      "777/777 [==============================] - 0s 22us/step - loss: 0.0178 - autoencoder_output_loss: 0.0176 - val_loss: 0.0181 - val_autoencoder_output_loss: 0.0180\n",
      "Epoch 30/200\n",
      "777/777 [==============================] - 0s 35us/step - loss: 0.0177 - autoencoder_output_loss: 0.0176 - val_loss: 0.0181 - val_autoencoder_output_loss: 0.0179\n",
      "Epoch 31/200\n",
      "777/777 [==============================] - 0s 25us/step - loss: 0.0177 - autoencoder_output_loss: 0.0175 - val_loss: 0.0180 - val_autoencoder_output_loss: 0.0179\n",
      "Epoch 32/200\n",
      "777/777 [==============================] - 0s 27us/step - loss: 0.0176 - autoencoder_output_loss: 0.0174 - val_loss: 0.0189 - val_autoencoder_output_loss: 0.0187\n",
      "Epoch 33/200\n",
      "777/777 [==============================] - 0s 32us/step - loss: 0.0177 - autoencoder_output_loss: 0.0175 - val_loss: 0.0179 - val_autoencoder_output_loss: 0.0177\n",
      "Epoch 34/200\n",
      "777/777 [==============================] - 0s 26us/step - loss: 0.0175 - autoencoder_output_loss: 0.0173 - val_loss: 0.0178 - val_autoencoder_output_loss: 0.0176\n",
      "Epoch 35/200\n",
      "777/777 [==============================] - 0s 30us/step - loss: 0.0174 - autoencoder_output_loss: 0.0173 - val_loss: 0.0177 - val_autoencoder_output_loss: 0.0176\n",
      "Epoch 36/200\n",
      "777/777 [==============================] - 0s 25us/step - loss: 0.0174 - autoencoder_output_loss: 0.0172 - val_loss: 0.0177 - val_autoencoder_output_loss: 0.0175\n",
      "Epoch 37/200\n",
      "777/777 [==============================] - 0s 25us/step - loss: 0.0173 - autoencoder_output_loss: 0.0171 - val_loss: 0.0176 - val_autoencoder_output_loss: 0.0175\n",
      "Epoch 38/200\n",
      "777/777 [==============================] - 0s 30us/step - loss: 0.0174 - autoencoder_output_loss: 0.0172 - val_loss: 0.0176 - val_autoencoder_output_loss: 0.0174\n",
      "Epoch 39/200\n",
      "777/777 [==============================] - 0s 27us/step - loss: 0.0172 - autoencoder_output_loss: 0.0170 - val_loss: 0.0175 - val_autoencoder_output_loss: 0.0174\n",
      "Epoch 40/200\n",
      "777/777 [==============================] - 0s 27us/step - loss: 0.0171 - autoencoder_output_loss: 0.0170 - val_loss: 0.0175 - val_autoencoder_output_loss: 0.0174\n",
      "Epoch 41/200\n",
      "777/777 [==============================] - 0s 26us/step - loss: 0.0171 - autoencoder_output_loss: 0.0169 - val_loss: 0.0175 - val_autoencoder_output_loss: 0.0174\n",
      "Epoch 42/200\n",
      "777/777 [==============================] - 0s 25us/step - loss: 0.0170 - autoencoder_output_loss: 0.0169 - val_loss: 0.0174 - val_autoencoder_output_loss: 0.0173\n",
      "Epoch 43/200\n",
      "777/777 [==============================] - 0s 28us/step - loss: 0.0171 - autoencoder_output_loss: 0.0169 - val_loss: 0.0173 - val_autoencoder_output_loss: 0.0171\n",
      "Epoch 44/200\n",
      "777/777 [==============================] - 0s 21us/step - loss: 0.0169 - autoencoder_output_loss: 0.0168 - val_loss: 0.0172 - val_autoencoder_output_loss: 0.0170\n",
      "Epoch 45/200\n",
      "777/777 [==============================] - 0s 25us/step - loss: 0.0168 - autoencoder_output_loss: 0.0167 - val_loss: 0.0171 - val_autoencoder_output_loss: 0.0170\n",
      "Epoch 46/200\n",
      "777/777 [==============================] - 0s 24us/step - loss: 0.0168 - autoencoder_output_loss: 0.0167 - val_loss: 0.0171 - val_autoencoder_output_loss: 0.0169\n",
      "Epoch 47/200\n",
      "777/777 [==============================] - 0s 24us/step - loss: 0.0167 - autoencoder_output_loss: 0.0166 - val_loss: 0.0170 - val_autoencoder_output_loss: 0.0169\n",
      "Epoch 48/200\n",
      "777/777 [==============================] - 0s 26us/step - loss: 0.0169 - autoencoder_output_loss: 0.0167 - val_loss: 0.0170 - val_autoencoder_output_loss: 0.0169\n",
      "Epoch 49/200\n",
      "777/777 [==============================] - 0s 25us/step - loss: 0.0166 - autoencoder_output_loss: 0.0165 - val_loss: 0.0175 - val_autoencoder_output_loss: 0.0174\n",
      "Epoch 50/200\n",
      "777/777 [==============================] - 0s 23us/step - loss: 0.0169 - autoencoder_output_loss: 0.0168 - val_loss: 0.0169 - val_autoencoder_output_loss: 0.0168\n",
      "Epoch 51/200\n",
      "777/777 [==============================] - 0s 24us/step - loss: 0.0167 - autoencoder_output_loss: 0.0166 - val_loss: 0.0170 - val_autoencoder_output_loss: 0.0169\n",
      "Epoch 52/200\n",
      "777/777 [==============================] - 0s 23us/step - loss: 0.0170 - autoencoder_output_loss: 0.0168 - val_loss: 0.0200 - val_autoencoder_output_loss: 0.0199\n",
      "Epoch 53/200\n",
      "777/777 [==============================] - 0s 27us/step - loss: 0.0173 - autoencoder_output_loss: 0.0172 - val_loss: 0.0187 - val_autoencoder_output_loss: 0.0185\n",
      "Epoch 54/200\n",
      "777/777 [==============================] - 0s 23us/step - loss: 0.0183 - autoencoder_output_loss: 0.0181 - val_loss: 0.0177 - val_autoencoder_output_loss: 0.0176\n",
      "Epoch 55/200\n",
      "777/777 [==============================] - 0s 22us/step - loss: 0.0167 - autoencoder_output_loss: 0.0166 - val_loss: 0.0167 - val_autoencoder_output_loss: 0.0165\n",
      "Epoch 56/200\n",
      "777/777 [==============================] - 0s 27us/step - loss: 0.0168 - autoencoder_output_loss: 0.0167 - val_loss: 0.0166 - val_autoencoder_output_loss: 0.0165\n",
      "Epoch 57/200\n",
      "777/777 [==============================] - 0s 29us/step - loss: 0.0170 - autoencoder_output_loss: 0.0169 - val_loss: 0.0177 - val_autoencoder_output_loss: 0.0175\n",
      "Epoch 58/200\n",
      "777/777 [==============================] - 0s 44us/step - loss: 0.0172 - autoencoder_output_loss: 0.0171 - val_loss: 0.0168 - val_autoencoder_output_loss: 0.0167\n",
      "Epoch 59/200\n",
      "777/777 [==============================] - 0s 21us/step - loss: 0.0164 - autoencoder_output_loss: 0.0163 - val_loss: 0.0165 - val_autoencoder_output_loss: 0.0163\n",
      "Epoch 60/200\n",
      "777/777 [==============================] - 0s 23us/step - loss: 0.0164 - autoencoder_output_loss: 0.0162 - val_loss: 0.0165 - val_autoencoder_output_loss: 0.0164\n",
      "Epoch 61/200\n",
      "777/777 [==============================] - 0s 25us/step - loss: 0.0162 - autoencoder_output_loss: 0.0161 - val_loss: 0.0171 - val_autoencoder_output_loss: 0.0169\n",
      "Epoch 62/200\n",
      "777/777 [==============================] - 0s 25us/step - loss: 0.0164 - autoencoder_output_loss: 0.0162 - val_loss: 0.0179 - val_autoencoder_output_loss: 0.0177\n",
      "Epoch 63/200\n",
      "777/777 [==============================] - 0s 21us/step - loss: 0.0165 - autoencoder_output_loss: 0.0164 - val_loss: 0.0162 - val_autoencoder_output_loss: 0.0161\n",
      "Epoch 64/200\n",
      "777/777 [==============================] - 0s 24us/step - loss: 0.0166 - autoencoder_output_loss: 0.0165 - val_loss: 0.0168 - val_autoencoder_output_loss: 0.0167\n",
      "Epoch 65/200\n",
      "777/777 [==============================] - 0s 31us/step - loss: 0.0169 - autoencoder_output_loss: 0.0167 - val_loss: 0.0161 - val_autoencoder_output_loss: 0.0159\n",
      "Epoch 66/200\n",
      "777/777 [==============================] - 0s 27us/step - loss: 0.0161 - autoencoder_output_loss: 0.0160 - val_loss: 0.0160 - val_autoencoder_output_loss: 0.0158\n",
      "Epoch 67/200\n",
      "777/777 [==============================] - 0s 24us/step - loss: 0.0155 - autoencoder_output_loss: 0.0154 - val_loss: 0.0160 - val_autoencoder_output_loss: 0.0158\n",
      "Epoch 68/200\n",
      "777/777 [==============================] - 0s 25us/step - loss: 0.0159 - autoencoder_output_loss: 0.0158 - val_loss: 0.0188 - val_autoencoder_output_loss: 0.0187\n",
      "Epoch 69/200\n",
      "777/777 [==============================] - 0s 25us/step - loss: 0.0162 - autoencoder_output_loss: 0.0161 - val_loss: 0.0163 - val_autoencoder_output_loss: 0.0162\n",
      "Epoch 70/200\n",
      "777/777 [==============================] - 0s 26us/step - loss: 0.0160 - autoencoder_output_loss: 0.0159 - val_loss: 0.0160 - val_autoencoder_output_loss: 0.0159\n",
      "Epoch 71/200\n",
      "777/777 [==============================] - 0s 22us/step - loss: 0.0157 - autoencoder_output_loss: 0.0156 - val_loss: 0.0156 - val_autoencoder_output_loss: 0.0154\n",
      "Epoch 72/200\n",
      "777/777 [==============================] - 0s 23us/step - loss: 0.0160 - autoencoder_output_loss: 0.0159 - val_loss: 0.0164 - val_autoencoder_output_loss: 0.0163\n",
      "Epoch 73/200\n",
      "777/777 [==============================] - 0s 22us/step - loss: 0.0154 - autoencoder_output_loss: 0.0153 - val_loss: 0.0156 - val_autoencoder_output_loss: 0.0155\n",
      "Epoch 74/200\n",
      "777/777 [==============================] - 0s 21us/step - loss: 0.0152 - autoencoder_output_loss: 0.0151 - val_loss: 0.0155 - val_autoencoder_output_loss: 0.0154\n",
      "Epoch 75/200\n",
      "777/777 [==============================] - 0s 32us/step - loss: 0.0156 - autoencoder_output_loss: 0.0154 - val_loss: 0.0157 - val_autoencoder_output_loss: 0.0155\n",
      "Epoch 76/200\n",
      "777/777 [==============================] - 0s 24us/step - loss: 0.0155 - autoencoder_output_loss: 0.0154 - val_loss: 0.0163 - val_autoencoder_output_loss: 0.0162\n",
      "Epoch 77/200\n",
      "777/777 [==============================] - 0s 24us/step - loss: 0.0156 - autoencoder_output_loss: 0.0155 - val_loss: 0.0165 - val_autoencoder_output_loss: 0.0163\n",
      "Epoch 78/200\n",
      "777/777 [==============================] - 0s 26us/step - loss: 0.0154 - autoencoder_output_loss: 0.0153 - val_loss: 0.0154 - val_autoencoder_output_loss: 0.0153\n",
      "Epoch 79/200\n",
      "777/777 [==============================] - 0s 23us/step - loss: 0.0156 - autoencoder_output_loss: 0.0155 - val_loss: 0.0154 - val_autoencoder_output_loss: 0.0153\n",
      "Epoch 80/200\n",
      "777/777 [==============================] - 0s 25us/step - loss: 0.0150 - autoencoder_output_loss: 0.0149 - val_loss: 0.0150 - val_autoencoder_output_loss: 0.0149\n",
      "Epoch 81/200\n",
      "777/777 [==============================] - 0s 31us/step - loss: 0.0146 - autoencoder_output_loss: 0.0145 - val_loss: 0.0149 - val_autoencoder_output_loss: 0.0148\n",
      "Epoch 82/200\n",
      "777/777 [==============================] - 0s 30us/step - loss: 0.0145 - autoencoder_output_loss: 0.0144 - val_loss: 0.0148 - val_autoencoder_output_loss: 0.0147\n",
      "Epoch 83/200\n",
      "777/777 [==============================] - 0s 32us/step - loss: 0.0144 - autoencoder_output_loss: 0.0143 - val_loss: 0.0148 - val_autoencoder_output_loss: 0.0147\n",
      "Epoch 84/200\n",
      "777/777 [==============================] - 0s 23us/step - loss: 0.0144 - autoencoder_output_loss: 0.0142 - val_loss: 0.0147 - val_autoencoder_output_loss: 0.0146\n",
      "Epoch 85/200\n",
      "777/777 [==============================] - 0s 22us/step - loss: 0.0143 - autoencoder_output_loss: 0.0142 - val_loss: 0.0146 - val_autoencoder_output_loss: 0.0145\n",
      "Epoch 86/200\n",
      "777/777 [==============================] - 0s 25us/step - loss: 0.0142 - autoencoder_output_loss: 0.0141 - val_loss: 0.0145 - val_autoencoder_output_loss: 0.0144\n",
      "Epoch 87/200\n",
      "777/777 [==============================] - 0s 36us/step - loss: 0.0141 - autoencoder_output_loss: 0.0140 - val_loss: 0.0145 - val_autoencoder_output_loss: 0.0144\n",
      "Epoch 88/200\n",
      "777/777 [==============================] - 0s 26us/step - loss: 0.0141 - autoencoder_output_loss: 0.0139 - val_loss: 0.0144 - val_autoencoder_output_loss: 0.0143\n",
      "Epoch 89/200\n",
      "777/777 [==============================] - 0s 33us/step - loss: 0.0140 - autoencoder_output_loss: 0.0139 - val_loss: 0.0144 - val_autoencoder_output_loss: 0.0143\n",
      "Epoch 90/200\n",
      "777/777 [==============================] - 0s 21us/step - loss: 0.0139 - autoencoder_output_loss: 0.0138 - val_loss: 0.0143 - val_autoencoder_output_loss: 0.0142\n",
      "Epoch 91/200\n",
      "777/777 [==============================] - 0s 23us/step - loss: 0.0139 - autoencoder_output_loss: 0.0137 - val_loss: 0.0142 - val_autoencoder_output_loss: 0.0141\n",
      "Epoch 92/200\n",
      "777/777 [==============================] - 0s 37us/step - loss: 0.0138 - autoencoder_output_loss: 0.0137 - val_loss: 0.0141 - val_autoencoder_output_loss: 0.0140\n",
      "Epoch 93/200\n",
      "777/777 [==============================] - 0s 20us/step - loss: 0.0137 - autoencoder_output_loss: 0.0136 - val_loss: 0.0141 - val_autoencoder_output_loss: 0.0140\n",
      "Epoch 94/200\n",
      "777/777 [==============================] - 0s 25us/step - loss: 0.0137 - autoencoder_output_loss: 0.0135 - val_loss: 0.0140 - val_autoencoder_output_loss: 0.0139\n",
      "Epoch 95/200\n",
      "777/777 [==============================] - 0s 23us/step - loss: 0.0136 - autoencoder_output_loss: 0.0135 - val_loss: 0.0139 - val_autoencoder_output_loss: 0.0138\n",
      "Epoch 96/200\n",
      "777/777 [==============================] - 0s 19us/step - loss: 0.0135 - autoencoder_output_loss: 0.0134 - val_loss: 0.0138 - val_autoencoder_output_loss: 0.0137\n",
      "Epoch 97/200\n",
      "777/777 [==============================] - 0s 27us/step - loss: 0.0135 - autoencoder_output_loss: 0.0134 - val_loss: 0.0138 - val_autoencoder_output_loss: 0.0137\n",
      "Epoch 98/200\n",
      "777/777 [==============================] - 0s 25us/step - loss: 0.0134 - autoencoder_output_loss: 0.0133 - val_loss: 0.0137 - val_autoencoder_output_loss: 0.0136\n",
      "Epoch 99/200\n",
      "777/777 [==============================] - 0s 26us/step - loss: 0.0133 - autoencoder_output_loss: 0.0132 - val_loss: 0.0136 - val_autoencoder_output_loss: 0.0135\n",
      "Epoch 100/200\n",
      "777/777 [==============================] - 0s 23us/step - loss: 0.0133 - autoencoder_output_loss: 0.0132 - val_loss: 0.0136 - val_autoencoder_output_loss: 0.0135\n",
      "\n",
      "Epoch 00100: saving model to ./log_weights/F_AE_10_weights_0.0078125.0100.hdf5\n",
      "Epoch 101/200\n",
      "777/777 [==============================] - 0s 25us/step - loss: 0.0132 - autoencoder_output_loss: 0.0131 - val_loss: 0.0135 - val_autoencoder_output_loss: 0.0134\n",
      "Epoch 102/200\n",
      "777/777 [==============================] - 0s 25us/step - loss: 0.0132 - autoencoder_output_loss: 0.0131 - val_loss: 0.0135 - val_autoencoder_output_loss: 0.0134\n",
      "Epoch 103/200\n",
      "777/777 [==============================] - 0s 19us/step - loss: 0.0131 - autoencoder_output_loss: 0.0130 - val_loss: 0.0134 - val_autoencoder_output_loss: 0.0133\n",
      "Epoch 104/200\n",
      "777/777 [==============================] - 0s 29us/step - loss: 0.0130 - autoencoder_output_loss: 0.0129 - val_loss: 0.0134 - val_autoencoder_output_loss: 0.0133\n",
      "Epoch 105/200\n",
      "777/777 [==============================] - 0s 23us/step - loss: 0.0130 - autoencoder_output_loss: 0.0129 - val_loss: 0.0133 - val_autoencoder_output_loss: 0.0132\n",
      "Epoch 106/200\n",
      "777/777 [==============================] - 0s 24us/step - loss: 0.0129 - autoencoder_output_loss: 0.0128 - val_loss: 0.0132 - val_autoencoder_output_loss: 0.0131\n",
      "Epoch 107/200\n",
      "777/777 [==============================] - 0s 24us/step - loss: 0.0129 - autoencoder_output_loss: 0.0128 - val_loss: 0.0132 - val_autoencoder_output_loss: 0.0131\n",
      "Epoch 108/200\n",
      "777/777 [==============================] - 0s 23us/step - loss: 0.0128 - autoencoder_output_loss: 0.0127 - val_loss: 0.0131 - val_autoencoder_output_loss: 0.0130\n",
      "Epoch 109/200\n",
      "777/777 [==============================] - 0s 39us/step - loss: 0.0127 - autoencoder_output_loss: 0.0126 - val_loss: 0.0130 - val_autoencoder_output_loss: 0.0129\n",
      "Epoch 110/200\n",
      "777/777 [==============================] - 0s 38us/step - loss: 0.0127 - autoencoder_output_loss: 0.0126 - val_loss: 0.0130 - val_autoencoder_output_loss: 0.0129\n",
      "Epoch 111/200\n",
      "777/777 [==============================] - 0s 39us/step - loss: 0.0126 - autoencoder_output_loss: 0.0125 - val_loss: 0.0129 - val_autoencoder_output_loss: 0.0128\n",
      "Epoch 112/200\n",
      "777/777 [==============================] - 0s 23us/step - loss: 0.0126 - autoencoder_output_loss: 0.0125 - val_loss: 0.0129 - val_autoencoder_output_loss: 0.0128\n",
      "Epoch 113/200\n",
      "777/777 [==============================] - 0s 37us/step - loss: 0.0125 - autoencoder_output_loss: 0.0124 - val_loss: 0.0129 - val_autoencoder_output_loss: 0.0128\n",
      "Epoch 114/200\n",
      "777/777 [==============================] - 0s 26us/step - loss: 0.0125 - autoencoder_output_loss: 0.0124 - val_loss: 0.0128 - val_autoencoder_output_loss: 0.0127\n",
      "Epoch 115/200\n",
      "777/777 [==============================] - 0s 21us/step - loss: 0.0124 - autoencoder_output_loss: 0.0123 - val_loss: 0.0128 - val_autoencoder_output_loss: 0.0127\n",
      "Epoch 116/200\n",
      "777/777 [==============================] - 0s 23us/step - loss: 0.0124 - autoencoder_output_loss: 0.0123 - val_loss: 0.0127 - val_autoencoder_output_loss: 0.0126\n",
      "Epoch 117/200\n",
      "777/777 [==============================] - 0s 24us/step - loss: 0.0123 - autoencoder_output_loss: 0.0122 - val_loss: 0.0126 - val_autoencoder_output_loss: 0.0125\n",
      "Epoch 118/200\n",
      "777/777 [==============================] - 0s 22us/step - loss: 0.0123 - autoencoder_output_loss: 0.0122 - val_loss: 0.0126 - val_autoencoder_output_loss: 0.0125\n",
      "Epoch 119/200\n",
      "777/777 [==============================] - 0s 23us/step - loss: 0.0122 - autoencoder_output_loss: 0.0121 - val_loss: 0.0126 - val_autoencoder_output_loss: 0.0125\n",
      "Epoch 120/200\n",
      "777/777 [==============================] - 0s 21us/step - loss: 0.0122 - autoencoder_output_loss: 0.0121 - val_loss: 0.0126 - val_autoencoder_output_loss: 0.0125\n",
      "Epoch 121/200\n",
      "777/777 [==============================] - 0s 23us/step - loss: 0.0122 - autoencoder_output_loss: 0.0121 - val_loss: 0.0125 - val_autoencoder_output_loss: 0.0124\n",
      "Epoch 122/200\n",
      "777/777 [==============================] - 0s 20us/step - loss: 0.0121 - autoencoder_output_loss: 0.0120 - val_loss: 0.0124 - val_autoencoder_output_loss: 0.0123\n",
      "Epoch 123/200\n",
      "777/777 [==============================] - 0s 26us/step - loss: 0.0121 - autoencoder_output_loss: 0.0120 - val_loss: 0.0124 - val_autoencoder_output_loss: 0.0123\n",
      "Epoch 124/200\n",
      "777/777 [==============================] - 0s 22us/step - loss: 0.0120 - autoencoder_output_loss: 0.0119 - val_loss: 0.0124 - val_autoencoder_output_loss: 0.0123\n",
      "Epoch 125/200\n",
      "777/777 [==============================] - 0s 20us/step - loss: 0.0120 - autoencoder_output_loss: 0.0119 - val_loss: 0.0123 - val_autoencoder_output_loss: 0.0122\n",
      "Epoch 126/200\n",
      "777/777 [==============================] - 0s 18us/step - loss: 0.0119 - autoencoder_output_loss: 0.0118 - val_loss: 0.0123 - val_autoencoder_output_loss: 0.0122\n",
      "Epoch 127/200\n",
      "777/777 [==============================] - 0s 18us/step - loss: 0.0119 - autoencoder_output_loss: 0.0118 - val_loss: 0.0122 - val_autoencoder_output_loss: 0.0121\n",
      "Epoch 128/200\n",
      "777/777 [==============================] - 0s 21us/step - loss: 0.0119 - autoencoder_output_loss: 0.0118 - val_loss: 0.0122 - val_autoencoder_output_loss: 0.0121\n",
      "Epoch 129/200\n",
      "777/777 [==============================] - 0s 21us/step - loss: 0.0118 - autoencoder_output_loss: 0.0117 - val_loss: 0.0121 - val_autoencoder_output_loss: 0.0121\n",
      "Epoch 130/200\n",
      "777/777 [==============================] - 0s 21us/step - loss: 0.0118 - autoencoder_output_loss: 0.0117 - val_loss: 0.0122 - val_autoencoder_output_loss: 0.0121\n",
      "Epoch 131/200\n",
      "777/777 [==============================] - 0s 19us/step - loss: 0.0118 - autoencoder_output_loss: 0.0117 - val_loss: 0.0121 - val_autoencoder_output_loss: 0.0120\n",
      "Epoch 132/200\n",
      "777/777 [==============================] - 0s 20us/step - loss: 0.0117 - autoencoder_output_loss: 0.0116 - val_loss: 0.0120 - val_autoencoder_output_loss: 0.0119\n",
      "Epoch 133/200\n",
      "777/777 [==============================] - 0s 19us/step - loss: 0.0117 - autoencoder_output_loss: 0.0116 - val_loss: 0.0120 - val_autoencoder_output_loss: 0.0119\n",
      "Epoch 134/200\n",
      "777/777 [==============================] - 0s 18us/step - loss: 0.0116 - autoencoder_output_loss: 0.0115 - val_loss: 0.0119 - val_autoencoder_output_loss: 0.0118\n",
      "Epoch 135/200\n",
      "777/777 [==============================] - 0s 19us/step - loss: 0.0116 - autoencoder_output_loss: 0.0115 - val_loss: 0.0119 - val_autoencoder_output_loss: 0.0118\n",
      "Epoch 136/200\n",
      "777/777 [==============================] - 0s 19us/step - loss: 0.0116 - autoencoder_output_loss: 0.0115 - val_loss: 0.0119 - val_autoencoder_output_loss: 0.0118\n",
      "Epoch 137/200\n",
      "777/777 [==============================] - 0s 19us/step - loss: 0.0115 - autoencoder_output_loss: 0.0114 - val_loss: 0.0118 - val_autoencoder_output_loss: 0.0117\n",
      "Epoch 138/200\n",
      "777/777 [==============================] - ETA: 0s - loss: 0.0128 - autoencoder_output_loss: 0.012 - 0s 18us/step - loss: 0.0115 - autoencoder_output_loss: 0.0114 - val_loss: 0.0118 - val_autoencoder_output_loss: 0.0117\n",
      "Epoch 139/200\n",
      "777/777 [==============================] - 0s 22us/step - loss: 0.0115 - autoencoder_output_loss: 0.0114 - val_loss: 0.0118 - val_autoencoder_output_loss: 0.0117\n",
      "Epoch 140/200\n",
      "777/777 [==============================] - 0s 20us/step - loss: 0.0114 - autoencoder_output_loss: 0.0113 - val_loss: 0.0117 - val_autoencoder_output_loss: 0.0117\n",
      "Epoch 141/200\n",
      "777/777 [==============================] - 0s 18us/step - loss: 0.0114 - autoencoder_output_loss: 0.0113 - val_loss: 0.0117 - val_autoencoder_output_loss: 0.0116\n",
      "Epoch 142/200\n",
      "777/777 [==============================] - 0s 20us/step - loss: 0.0114 - autoencoder_output_loss: 0.0113 - val_loss: 0.0118 - val_autoencoder_output_loss: 0.0117\n",
      "Epoch 143/200\n",
      "777/777 [==============================] - 0s 19us/step - loss: 0.0114 - autoencoder_output_loss: 0.0113 - val_loss: 0.0117 - val_autoencoder_output_loss: 0.0116\n",
      "Epoch 144/200\n",
      "777/777 [==============================] - 0s 20us/step - loss: 0.0113 - autoencoder_output_loss: 0.0112 - val_loss: 0.0116 - val_autoencoder_output_loss: 0.0115\n",
      "Epoch 145/200\n",
      "777/777 [==============================] - 0s 18us/step - loss: 0.0113 - autoencoder_output_loss: 0.0112 - val_loss: 0.0115 - val_autoencoder_output_loss: 0.0114\n",
      "Epoch 146/200\n",
      "777/777 [==============================] - 0s 19us/step - loss: 0.0112 - autoencoder_output_loss: 0.0111 - val_loss: 0.0116 - val_autoencoder_output_loss: 0.0115\n",
      "Epoch 147/200\n",
      "777/777 [==============================] - 0s 19us/step - loss: 0.0112 - autoencoder_output_loss: 0.0111 - val_loss: 0.0115 - val_autoencoder_output_loss: 0.0115\n",
      "Epoch 148/200\n",
      "777/777 [==============================] - 0s 18us/step - loss: 0.0112 - autoencoder_output_loss: 0.0111 - val_loss: 0.0115 - val_autoencoder_output_loss: 0.0114\n",
      "Epoch 149/200\n",
      "777/777 [==============================] - 0s 19us/step - loss: 0.0111 - autoencoder_output_loss: 0.0110 - val_loss: 0.0115 - val_autoencoder_output_loss: 0.0114\n",
      "Epoch 150/200\n",
      "777/777 [==============================] - 0s 19us/step - loss: 0.0111 - autoencoder_output_loss: 0.0111 - val_loss: 0.0114 - val_autoencoder_output_loss: 0.0113\n",
      "Epoch 151/200\n",
      "777/777 [==============================] - 0s 18us/step - loss: 0.0111 - autoencoder_output_loss: 0.0110 - val_loss: 0.0114 - val_autoencoder_output_loss: 0.0114\n",
      "Epoch 152/200\n",
      "777/777 [==============================] - 0s 21us/step - loss: 0.0111 - autoencoder_output_loss: 0.0110 - val_loss: 0.0114 - val_autoencoder_output_loss: 0.0113\n",
      "Epoch 153/200\n",
      "777/777 [==============================] - 0s 20us/step - loss: 0.0110 - autoencoder_output_loss: 0.0109 - val_loss: 0.0113 - val_autoencoder_output_loss: 0.0112\n",
      "Epoch 154/200\n",
      "777/777 [==============================] - 0s 20us/step - loss: 0.0110 - autoencoder_output_loss: 0.0109 - val_loss: 0.0113 - val_autoencoder_output_loss: 0.0113\n",
      "Epoch 155/200\n",
      "777/777 [==============================] - 0s 19us/step - loss: 0.0110 - autoencoder_output_loss: 0.0109 - val_loss: 0.0114 - val_autoencoder_output_loss: 0.0113\n",
      "Epoch 156/200\n",
      "777/777 [==============================] - 0s 18us/step - loss: 0.0109 - autoencoder_output_loss: 0.0109 - val_loss: 0.0113 - val_autoencoder_output_loss: 0.0112\n",
      "Epoch 157/200\n",
      "777/777 [==============================] - 0s 20us/step - loss: 0.0109 - autoencoder_output_loss: 0.0108 - val_loss: 0.0112 - val_autoencoder_output_loss: 0.0111\n",
      "Epoch 158/200\n",
      "777/777 [==============================] - 0s 20us/step - loss: 0.0109 - autoencoder_output_loss: 0.0108 - val_loss: 0.0112 - val_autoencoder_output_loss: 0.0111\n",
      "Epoch 159/200\n",
      "777/777 [==============================] - 0s 22us/step - loss: 0.0109 - autoencoder_output_loss: 0.0108 - val_loss: 0.0112 - val_autoencoder_output_loss: 0.0111\n",
      "Epoch 160/200\n",
      "777/777 [==============================] - 0s 21us/step - loss: 0.0108 - autoencoder_output_loss: 0.0108 - val_loss: 0.0111 - val_autoencoder_output_loss: 0.0111\n",
      "Epoch 161/200\n",
      "777/777 [==============================] - 0s 21us/step - loss: 0.0108 - autoencoder_output_loss: 0.0107 - val_loss: 0.0111 - val_autoencoder_output_loss: 0.0110\n",
      "Epoch 162/200\n",
      "777/777 [==============================] - 0s 29us/step - loss: 0.0108 - autoencoder_output_loss: 0.0107 - val_loss: 0.0112 - val_autoencoder_output_loss: 0.0111\n",
      "Epoch 163/200\n",
      "777/777 [==============================] - 0s 44us/step - loss: 0.0108 - autoencoder_output_loss: 0.0107 - val_loss: 0.0112 - val_autoencoder_output_loss: 0.0111\n",
      "Epoch 164/200\n",
      "777/777 [==============================] - 0s 31us/step - loss: 0.0108 - autoencoder_output_loss: 0.0107 - val_loss: 0.0111 - val_autoencoder_output_loss: 0.0110\n",
      "Epoch 165/200\n",
      "777/777 [==============================] - 0s 35us/step - loss: 0.0107 - autoencoder_output_loss: 0.0106 - val_loss: 0.0111 - val_autoencoder_output_loss: 0.0110\n",
      "Epoch 166/200\n",
      "777/777 [==============================] - 0s 21us/step - loss: 0.0107 - autoencoder_output_loss: 0.0106 - val_loss: 0.0110 - val_autoencoder_output_loss: 0.0110\n",
      "Epoch 167/200\n",
      "777/777 [==============================] - 0s 33us/step - loss: 0.0107 - autoencoder_output_loss: 0.0106 - val_loss: 0.0110 - val_autoencoder_output_loss: 0.0109\n",
      "Epoch 168/200\n",
      "777/777 [==============================] - 0s 25us/step - loss: 0.0107 - autoencoder_output_loss: 0.0106 - val_loss: 0.0109 - val_autoencoder_output_loss: 0.0109\n",
      "Epoch 169/200\n",
      "777/777 [==============================] - 0s 26us/step - loss: 0.0106 - autoencoder_output_loss: 0.0105 - val_loss: 0.0109 - val_autoencoder_output_loss: 0.0108\n",
      "Epoch 170/200\n",
      "777/777 [==============================] - 0s 26us/step - loss: 0.0106 - autoencoder_output_loss: 0.0105 - val_loss: 0.0109 - val_autoencoder_output_loss: 0.0108\n",
      "Epoch 171/200\n",
      "777/777 [==============================] - 0s 21us/step - loss: 0.0106 - autoencoder_output_loss: 0.0105 - val_loss: 0.0109 - val_autoencoder_output_loss: 0.0108\n",
      "Epoch 172/200\n",
      "777/777 [==============================] - 0s 20us/step - loss: 0.0106 - autoencoder_output_loss: 0.0105 - val_loss: 0.0109 - val_autoencoder_output_loss: 0.0108\n",
      "Epoch 173/200\n",
      "777/777 [==============================] - 0s 21us/step - loss: 0.0105 - autoencoder_output_loss: 0.0105 - val_loss: 0.0109 - val_autoencoder_output_loss: 0.0108\n",
      "Epoch 174/200\n",
      "777/777 [==============================] - 0s 52us/step - loss: 0.0105 - autoencoder_output_loss: 0.0104 - val_loss: 0.0108 - val_autoencoder_output_loss: 0.0108\n",
      "Epoch 175/200\n",
      "777/777 [==============================] - 0s 30us/step - loss: 0.0105 - autoencoder_output_loss: 0.0104 - val_loss: 0.0108 - val_autoencoder_output_loss: 0.0107\n",
      "Epoch 176/200\n",
      "777/777 [==============================] - 0s 46us/step - loss: 0.0105 - autoencoder_output_loss: 0.0104 - val_loss: 0.0108 - val_autoencoder_output_loss: 0.0107\n",
      "Epoch 177/200\n",
      "777/777 [==============================] - 0s 27us/step - loss: 0.0105 - autoencoder_output_loss: 0.0104 - val_loss: 0.0108 - val_autoencoder_output_loss: 0.0107\n",
      "Epoch 178/200\n",
      "777/777 [==============================] - 0s 27us/step - loss: 0.0105 - autoencoder_output_loss: 0.0104 - val_loss: 0.0108 - val_autoencoder_output_loss: 0.0107\n",
      "Epoch 179/200\n",
      "777/777 [==============================] - 0s 28us/step - loss: 0.0104 - autoencoder_output_loss: 0.0103 - val_loss: 0.0107 - val_autoencoder_output_loss: 0.0106\n",
      "Epoch 180/200\n",
      "777/777 [==============================] - 0s 21us/step - loss: 0.0104 - autoencoder_output_loss: 0.0104 - val_loss: 0.0107 - val_autoencoder_output_loss: 0.0106\n",
      "Epoch 181/200\n",
      "777/777 [==============================] - 0s 19us/step - loss: 0.0104 - autoencoder_output_loss: 0.0103 - val_loss: 0.0107 - val_autoencoder_output_loss: 0.0106\n",
      "Epoch 182/200\n",
      "777/777 [==============================] - 0s 18us/step - loss: 0.0104 - autoencoder_output_loss: 0.0103 - val_loss: 0.0108 - val_autoencoder_output_loss: 0.0107\n",
      "Epoch 183/200\n",
      "777/777 [==============================] - 0s 21us/step - loss: 0.0104 - autoencoder_output_loss: 0.0103 - val_loss: 0.0107 - val_autoencoder_output_loss: 0.0106\n",
      "Epoch 184/200\n",
      "777/777 [==============================] - 0s 20us/step - loss: 0.0104 - autoencoder_output_loss: 0.0103 - val_loss: 0.0106 - val_autoencoder_output_loss: 0.0105\n",
      "Epoch 185/200\n",
      "777/777 [==============================] - 0s 21us/step - loss: 0.0103 - autoencoder_output_loss: 0.0103 - val_loss: 0.0107 - val_autoencoder_output_loss: 0.0106\n",
      "Epoch 186/200\n",
      "777/777 [==============================] - 0s 19us/step - loss: 0.0103 - autoencoder_output_loss: 0.0102 - val_loss: 0.0107 - val_autoencoder_output_loss: 0.0106\n",
      "Epoch 187/200\n",
      "777/777 [==============================] - 0s 19us/step - loss: 0.0103 - autoencoder_output_loss: 0.0102 - val_loss: 0.0107 - val_autoencoder_output_loss: 0.0106\n",
      "Epoch 188/200\n",
      "777/777 [==============================] - 0s 18us/step - loss: 0.0103 - autoencoder_output_loss: 0.0102 - val_loss: 0.0106 - val_autoencoder_output_loss: 0.0105\n",
      "Epoch 189/200\n",
      "777/777 [==============================] - 0s 19us/step - loss: 0.0103 - autoencoder_output_loss: 0.0102 - val_loss: 0.0106 - val_autoencoder_output_loss: 0.0105\n",
      "Epoch 190/200\n",
      "777/777 [==============================] - 0s 23us/step - loss: 0.0102 - autoencoder_output_loss: 0.0102 - val_loss: 0.0106 - val_autoencoder_output_loss: 0.0105\n",
      "Epoch 191/200\n",
      "777/777 [==============================] - 0s 21us/step - loss: 0.0102 - autoencoder_output_loss: 0.0102 - val_loss: 0.0106 - val_autoencoder_output_loss: 0.0105\n",
      "Epoch 192/200\n",
      "777/777 [==============================] - 0s 21us/step - loss: 0.0102 - autoencoder_output_loss: 0.0101 - val_loss: 0.0105 - val_autoencoder_output_loss: 0.0104\n",
      "Epoch 193/200\n",
      "777/777 [==============================] - 0s 21us/step - loss: 0.0102 - autoencoder_output_loss: 0.0101 - val_loss: 0.0105 - val_autoencoder_output_loss: 0.0104\n",
      "Epoch 194/200\n",
      "777/777 [==============================] - 0s 18us/step - loss: 0.0102 - autoencoder_output_loss: 0.0101 - val_loss: 0.0105 - val_autoencoder_output_loss: 0.0104\n",
      "Epoch 195/200\n",
      "777/777 [==============================] - 0s 22us/step - loss: 0.0102 - autoencoder_output_loss: 0.0101 - val_loss: 0.0105 - val_autoencoder_output_loss: 0.0104\n",
      "Epoch 196/200\n",
      "777/777 [==============================] - 0s 21us/step - loss: 0.0102 - autoencoder_output_loss: 0.0101 - val_loss: 0.0105 - val_autoencoder_output_loss: 0.0104\n",
      "Epoch 197/200\n",
      "777/777 [==============================] - 0s 20us/step - loss: 0.0102 - autoencoder_output_loss: 0.0101 - val_loss: 0.0105 - val_autoencoder_output_loss: 0.0104\n",
      "Epoch 198/200\n",
      "777/777 [==============================] - 0s 20us/step - loss: 0.0101 - autoencoder_output_loss: 0.0101 - val_loss: 0.0105 - val_autoencoder_output_loss: 0.0104\n",
      "Epoch 199/200\n",
      "777/777 [==============================] - 0s 20us/step - loss: 0.0101 - autoencoder_output_loss: 0.0100 - val_loss: 0.0104 - val_autoencoder_output_loss: 0.0104\n",
      "Epoch 200/200\n",
      "777/777 [==============================] - 0s 20us/step - loss: 0.0101 - autoencoder_output_loss: 0.0101 - val_loss: 0.0104 - val_autoencoder_output_loss: 0.0103\n",
      "\n",
      "Epoch 00200: saving model to ./log_weights/F_AE_10_weights_0.0078125.0200.hdf5\n"
     ]
    }
   ],
   "source": [
    "model_checkpoint=ModelCheckpoint('./log_weights/F_AE_'+str(key_feture_number)+'_weights_'+str(loss_weight_1)+'.{epoch:04d}.hdf5',period=100,save_weights_only=True,verbose=1)\n",
    "#print_weights = LambdaCallback(on_epoch_end=lambda batch, logs: print(F_AE.layers[1].get_weights()))\n",
    "\n",
    "F_AE_history = F_AE.fit(x_train, [x_train,x_train],\\\n",
    "                        epochs=epochs_number,\\\n",
    "                        batch_size=batch_size_value,\\\n",
    "                        shuffle=True,\\\n",
    "                        validation_data=(x_validate, [x_validate,x_validate]),\\\n",
    "                        callbacks=[model_checkpoint])"
   ]
  },
  {
   "cell_type": "code",
   "execution_count": 10,
   "metadata": {},
   "outputs": [
    {
     "data": {
      "image/png": "[encoded data removed]",
      "text/plain": [
       "<Figure size 432x288 with 1 Axes>"
      ]
     },
     "metadata": {},
     "output_type": "display_data"
    }
   ],
   "source": [
    "loss = F_AE_history.history['loss']\n",
    "val_loss = F_AE_history.history['val_loss']\n",
    "\n",
    "epochs = range(epochs_number)\n",
    "\n",
    "plt.plot(epochs, loss, 'bo', label='Training Loss')\n",
    "plt.plot(epochs, val_loss, 'r', label='Validation Loss')\n",
    "plt.xlabel('Epochs')\n",
    "plt.ylabel('Loss')\n",
    "plt.legend()\n",
    "plt.show()"
   ]
  },
  {
   "cell_type": "code",
   "execution_count": 11,
   "metadata": {},
   "outputs": [
    {
     "data": {
      "image/png": "[encoded data removed]",
      "text/plain": [
       "<Figure size 432x288 with 1 Axes>"
      ]
     },
     "metadata": {},
     "output_type": "display_data"
    }
   ],
   "source": [
    "plt.plot(epochs[250:], loss[250:], 'bo', label='Training Loss')\n",
    "plt.plot(epochs[250:], val_loss[250:], 'r', label='Validation Loss')\n",
    "plt.xlabel('Epochs')\n",
    "plt.ylabel('Loss')\n",
    "plt.legend()\n",
    "plt.show()"
   ]
  },
  {
   "cell_type": "code",
   "execution_count": 12,
   "metadata": {},
   "outputs": [
    {
     "name": "stdout",
     "output_type": "stream",
     "text": [
      "MSE for one-to-one map layer 0.00956202675485365\n",
      "MSE for feature selection layer 0.01022934131585331\n"
     ]
    }
   ],
   "source": [
    "p_data=F_AE.predict(x_test)\n",
    "numbers=x_test.shape[0]*x_test.shape[1]\n",
    "\n",
    "print(\"MSE for one-to-one map layer\",np.sum(np.power(np.array(p_data)[0]-x_test,2))/numbers)\n",
    "print(\"MSE for feature selection layer\",np.sum(np.power(np.array(p_data)[1]-x_test,2))/numbers)"
   ]
  },
  {
   "cell_type": "markdown",
   "metadata": {},
   "source": [
    "---\n",
    "### 3.1.2 Feature selection layer output\n",
    "---"
   ]
  },
  {
   "cell_type": "code",
   "execution_count": 13,
   "metadata": {},
   "outputs": [
    {
     "name": "stdout",
     "output_type": "stream",
     "text": [
      "10\n"
     ]
    }
   ],
   "source": [
    "FS_layer_output=feature_selection_output.predict(x_test)\n",
    "print(np.sum(FS_layer_output[0]>0))"
   ]
  },
  {
   "cell_type": "markdown",
   "metadata": {},
   "source": [
    "---\n",
    "### 3.1.3 Key features show\n",
    "---"
   ]
  },
  {
   "cell_type": "code",
   "execution_count": 14,
   "metadata": {},
   "outputs": [
    {
     "name": "stdout",
     "output_type": "stream",
     "text": [
      "77\n"
     ]
    }
   ],
   "source": [
    "key_features=F.top_k_keepWeights_1(F_AE.get_layer(index=1).get_weights()[0],key_feture_number)\n",
    "print(np.sum(F_AE.get_layer(index=1).get_weights()[0]>0))"
   ]
  },
  {
   "cell_type": "markdown",
   "metadata": {},
   "source": [
    "# 4 Classifying"
   ]
  },
  {
   "cell_type": "markdown",
   "metadata": {},
   "source": [
    "### 4.1 Extra Trees"
   ]
  },
  {
   "cell_type": "code",
   "execution_count": 15,
   "metadata": {},
   "outputs": [
    {
     "name": "stdout",
     "output_type": "stream",
     "text": [
      "Training accuracy： 1.0\n",
      "Training accuracy： 1.0\n",
      "Testing accuracy： 1.0\n",
      "Testing accuracy： 1.0\n"
     ]
    }
   ],
   "source": [
    "train_feature=C_train_x\n",
    "train_label=C_train_y\n",
    "test_feature=C_test_x\n",
    "test_label=C_test_y\n",
    "p_seed=seed\n",
    "F.ETree(train_feature,train_label,test_feature,test_label,p_seed)"
   ]
  },
  {
   "cell_type": "code",
   "execution_count": 16,
   "metadata": {},
   "outputs": [],
   "source": [
    "selected_position_list=np.where(key_features>0)[0]"
   ]
  },
  {
   "cell_type": "markdown",
   "metadata": {},
   "source": [
    "---\n",
    "#### 4.1.1. On Identity Selection layer\n",
    "---\n",
    "\n",
    "a) with zeros"
   ]
  },
  {
   "cell_type": "code",
   "execution_count": 17,
   "metadata": {},
   "outputs": [
    {
     "name": "stdout",
     "output_type": "stream",
     "text": [
      "train_feature>0:  10\n",
      "(864, 77)\n",
      "test_feature>0:  10\n",
      "(216, 77)\n",
      "Training accuracy： 1.0\n",
      "Training accuracy： 1.0\n",
      "Testing accuracy： 0.9583333333333334\n",
      "Testing accuracy： 0.9583333333333334\n"
     ]
    }
   ],
   "source": [
    "train_feature=feature_selection_output.predict(C_train_x)\n",
    "print(\"train_feature>0: \",np.sum(train_feature[0]>0))\n",
    "print(train_feature.shape)\n",
    "train_label=C_train_y\n",
    "test_feature=feature_selection_output.predict(C_test_x)\n",
    "print(\"test_feature>0: \",np.sum(test_feature[0]>0))\n",
    "print(test_feature.shape)\n",
    "test_label=C_test_y\n",
    "p_seed=seed\n",
    "F.ETree(train_feature,train_label,test_feature,test_label,p_seed)"
   ]
  },
  {
   "cell_type": "markdown",
   "metadata": {},
   "source": [
    "---\n",
    "\n",
    "b) Sparse matrix"
   ]
  },
  {
   "cell_type": "code",
   "execution_count": 18,
   "metadata": {},
   "outputs": [
    {
     "name": "stdout",
     "output_type": "stream",
     "text": [
      "(864, 77)\n",
      "(216, 77)\n",
      "Training accuracy： 1.0\n",
      "Training accuracy： 1.0\n",
      "Testing accuracy： 0.9583333333333334\n",
      "Testing accuracy： 0.9583333333333334\n"
     ]
    }
   ],
   "source": [
    "train_feature=feature_selection_output.predict(C_train_x)\n",
    "print(train_feature.shape)\n",
    "train_label=C_train_y\n",
    "\n",
    "test_feature=feature_selection_output.predict(C_test_x)\n",
    "print(test_feature.shape)\n",
    "test_label=C_test_y\n",
    "\n",
    "train_feature_sparse=sparse.coo_matrix(train_feature)\n",
    "test_feature_sparse=sparse.coo_matrix(test_feature)\n",
    "\n",
    "p_seed=seed\n",
    "F.ETree(train_feature_sparse,train_label,test_feature_sparse,test_label,p_seed)"
   ]
  },
  {
   "cell_type": "markdown",
   "metadata": {},
   "source": [
    "---\n",
    "\n",
    "c) Compression"
   ]
  },
  {
   "cell_type": "code",
   "execution_count": 19,
   "metadata": {},
   "outputs": [
    {
     "name": "stdout",
     "output_type": "stream",
     "text": [
      "(864, 10)\n",
      "(216, 10)\n",
      "Training accuracy： 1.0\n",
      "Training accuracy： 1.0\n",
      "Testing accuracy： 0.9583333333333334\n",
      "Testing accuracy： 0.9583333333333334\n"
     ]
    }
   ],
   "source": [
    "train_feature_=feature_selection_output.predict(C_train_x)\n",
    "train_feature=F.compress_zero(train_feature_,key_feture_number)\n",
    "print(train_feature.shape)\n",
    "train_label=C_train_y\n",
    "\n",
    "test_feature_=feature_selection_output.predict(C_test_x)\n",
    "test_feature=F.compress_zero(test_feature_,key_feture_number)\n",
    "print(test_feature.shape)\n",
    "test_label=C_test_y\n",
    "\n",
    "p_seed=seed\n",
    "F.ETree(train_feature,train_label,test_feature,test_label,p_seed)"
   ]
  },
  {
   "cell_type": "markdown",
   "metadata": {},
   "source": [
    "---\n",
    "\n",
    "d) Compression with structure"
   ]
  },
  {
   "cell_type": "code",
   "execution_count": 20,
   "metadata": {},
   "outputs": [
    {
     "name": "stdout",
     "output_type": "stream",
     "text": [
      "(864, 10)\n",
      "(216, 10)\n",
      "Training accuracy： 1.0\n",
      "Training accuracy： 1.0\n",
      "Testing accuracy： 0.9907407407407407\n",
      "Testing accuracy： 0.9907407407407407\n"
     ]
    }
   ],
   "source": [
    "train_feature_=feature_selection_output.predict(C_train_x)\n",
    "train_feature=F.compress_zero_withkeystructure(train_feature_,selected_position_list)\n",
    "print(train_feature.shape)\n",
    "train_label=C_train_y\n",
    "\n",
    "test_feature_=feature_selection_output.predict(C_test_x)\n",
    "test_feature=F.compress_zero_withkeystructure(test_feature_,selected_position_list)\n",
    "print(test_feature.shape)\n",
    "test_label=C_test_y\n",
    "\n",
    "p_seed=seed\n",
    "F.ETree(train_feature,train_label,test_feature,test_label,p_seed)"
   ]
  },
  {
   "cell_type": "markdown",
   "metadata": {},
   "source": [
    "---\n",
    "#### 4.1.2. On Original Selection\n",
    "---\n",
    "\n",
    "a) with zeros"
   ]
  },
  {
   "cell_type": "code",
   "execution_count": 21,
   "metadata": {},
   "outputs": [
    {
     "name": "stdout",
     "output_type": "stream",
     "text": [
      "train_feature>0:  10\n",
      "(864, 77)\n",
      "test_feature>0:  10\n",
      "(216, 77)\n",
      "Training accuracy： 1.0\n",
      "Training accuracy： 1.0\n",
      "Testing accuracy： 0.9583333333333334\n",
      "Testing accuracy： 0.9583333333333334\n"
     ]
    }
   ],
   "source": [
    "train_feature=np.multiply(C_train_x, key_features)\n",
    "print(\"train_feature>0: \",np.sum(train_feature[0]>0))\n",
    "print(train_feature.shape)\n",
    "train_label=C_train_y\n",
    "\n",
    "test_feature=np.multiply(C_test_x, key_features)\n",
    "print(\"test_feature>0: \",np.sum(test_feature[0]>0))\n",
    "print(test_feature.shape)\n",
    "test_label=C_test_y\n",
    "\n",
    "p_seed=seed\n",
    "F.ETree(train_feature,train_label,test_feature,test_label,p_seed)"
   ]
  },
  {
   "cell_type": "markdown",
   "metadata": {},
   "source": [
    "---\n",
    "\n",
    "b) Sparse matrix"
   ]
  },
  {
   "cell_type": "code",
   "execution_count": 22,
   "metadata": {},
   "outputs": [
    {
     "name": "stdout",
     "output_type": "stream",
     "text": [
      "(864, 77)\n",
      "(216, 77)\n",
      "Training accuracy： 1.0\n",
      "Training accuracy： 1.0\n",
      "Testing accuracy： 0.9583333333333334\n",
      "Testing accuracy： 0.9583333333333334\n"
     ]
    }
   ],
   "source": [
    "train_feature=np.multiply(C_train_x, key_features)\n",
    "print(train_feature.shape)\n",
    "train_label=C_train_y\n",
    "\n",
    "test_feature=np.multiply(C_test_x, key_features)\n",
    "print(test_feature.shape)\n",
    "test_label=C_test_y\n",
    "\n",
    "train_feature_sparse=sparse.coo_matrix(train_feature)\n",
    "test_feature_sparse=sparse.coo_matrix(test_feature)\n",
    "\n",
    "p_seed=seed\n",
    "F.ETree(train_feature_sparse,train_label,test_feature_sparse,test_label,p_seed)"
   ]
  },
  {
   "cell_type": "markdown",
   "metadata": {},
   "source": [
    "---\n",
    "\n",
    "c) Compression"
   ]
  },
  {
   "cell_type": "code",
   "execution_count": 23,
   "metadata": {},
   "outputs": [
    {
     "name": "stdout",
     "output_type": "stream",
     "text": [
      "(864, 10)\n",
      "(216, 10)\n",
      "Training accuracy： 1.0\n",
      "Training accuracy： 1.0\n",
      "Testing accuracy： 0.9722222222222222\n",
      "Testing accuracy： 0.9722222222222222\n"
     ]
    }
   ],
   "source": [
    "train_feature_=np.multiply(C_train_x, key_features)\n",
    "train_feature=F.compress_zero(train_feature_,key_feture_number)\n",
    "print(train_feature.shape)\n",
    "train_label=C_train_y\n",
    "\n",
    "test_feature_=np.multiply(C_test_x, key_features)\n",
    "test_feature=F.compress_zero(test_feature_,key_feture_number)\n",
    "print(test_feature.shape)\n",
    "test_label=C_test_y\n",
    "\n",
    "p_seed=seed\n",
    "F.ETree(train_feature,train_label,test_feature,test_label,p_seed)"
   ]
  },
  {
   "cell_type": "markdown",
   "metadata": {},
   "source": [
    "---\n",
    "\n",
    "d) Compression with structure"
   ]
  },
  {
   "cell_type": "code",
   "execution_count": 24,
   "metadata": {},
   "outputs": [
    {
     "name": "stdout",
     "output_type": "stream",
     "text": [
      "(864, 10)\n",
      "(216, 10)\n",
      "Training accuracy： 1.0\n",
      "Training accuracy： 1.0\n",
      "Testing accuracy： 0.9907407407407407\n",
      "Testing accuracy： 0.9907407407407407\n"
     ]
    }
   ],
   "source": [
    "train_feature_=np.multiply(C_train_x, key_features)\n",
    "train_feature=F.compress_zero_withkeystructure(train_feature_,selected_position_list)\n",
    "print(train_feature.shape)\n",
    "train_label=C_train_y\n",
    "\n",
    "test_feature_=np.multiply(C_test_x, key_features)\n",
    "test_feature=F.compress_zero_withkeystructure(test_feature_,selected_position_list)\n",
    "print(test_feature.shape)\n",
    "test_label=C_test_y\n",
    "\n",
    "p_seed=seed\n",
    "F.ETree(train_feature,train_label,test_feature,test_label,p_seed)"
   ]
  },
  {
   "cell_type": "markdown",
   "metadata": {},
   "source": [
    "---\n",
    "#### 4.1.3. Latent space\n",
    "---"
   ]
  },
  {
   "cell_type": "code",
   "execution_count": 25,
   "metadata": {},
   "outputs": [
    {
     "name": "stdout",
     "output_type": "stream",
     "text": [
      "(864, 10)\n",
      "(216, 10)\n",
      "Training accuracy： 1.0\n",
      "Training accuracy： 1.0\n",
      "Testing accuracy： 0.8842592592592593\n",
      "Testing accuracy： 0.8842592592592593\n"
     ]
    }
   ],
   "source": [
    "train_feature=latent_encoder_score_F_AE.predict(C_train_x)\n",
    "print(train_feature.shape)\n",
    "train_label=C_train_y\n",
    "test_feature=latent_encoder_score_F_AE.predict(C_test_x)\n",
    "print(test_feature.shape)\n",
    "test_label=C_test_y\n",
    "p_seed=seed\n",
    "F.ETree(train_feature,train_label,test_feature,test_label,p_seed)"
   ]
  },
  {
   "cell_type": "code",
   "execution_count": 26,
   "metadata": {},
   "outputs": [
    {
     "name": "stdout",
     "output_type": "stream",
     "text": [
      "(864, 10)\n",
      "(216, 10)\n",
      "Training accuracy： 1.0\n",
      "Training accuracy： 1.0\n",
      "Testing accuracy： 0.8888888888888888\n",
      "Testing accuracy： 0.8888888888888888\n"
     ]
    }
   ],
   "source": [
    "train_feature=latent_encoder_choose_F_AE.predict(C_train_x)\n",
    "print(train_feature.shape)\n",
    "train_label=C_train_y\n",
    "test_feature=latent_encoder_choose_F_AE.predict(C_test_x)\n",
    "print(test_feature.shape)\n",
    "test_label=C_test_y\n",
    "p_seed=seed\n",
    "F.ETree(train_feature,train_label,test_feature,test_label,p_seed)"
   ]
  },
  {
   "cell_type": "markdown",
   "metadata": {},
   "source": [
    "---\n",
    "# 6 Feature group compare\n",
    "\n",
    "---"
   ]
  },
  {
   "cell_type": "code",
   "execution_count": 27,
   "metadata": {},
   "outputs": [],
   "source": [
    "Selected_Weights=F.top_k_keep(F_AE.get_layer(index=1).get_weights()[0],key_feture_number)"
   ]
  },
  {
   "cell_type": "code",
   "execution_count": 28,
   "metadata": {},
   "outputs": [],
   "source": [
    "selected_position_group=F.k_index_argsort_1d(Selected_Weights,key_feture_number)"
   ]
  },
  {
   "cell_type": "code",
   "execution_count": 29,
   "metadata": {},
   "outputs": [
    {
     "name": "stdout",
     "output_type": "stream",
     "text": [
      "(864, 10)\n",
      "(216, 10)\n"
     ]
    }
   ],
   "source": [
    "train_feature_=np.multiply(C_train_x, key_features)\n",
    "train_feature=F.compress_zero_withkeystructure(train_feature_,selected_position_group)\n",
    "print(train_feature.shape)\n",
    "train_label=C_train_y\n",
    "\n",
    "test_feature_=np.multiply(C_test_x, key_features)\n",
    "test_feature=F.compress_zero_withkeystructure(test_feature_,selected_position_group)\n",
    "print(test_feature.shape)\n",
    "test_label=C_test_y"
   ]
  },
  {
   "cell_type": "code",
   "execution_count": 30,
   "metadata": {},
   "outputs": [
    {
     "name": "stdout",
     "output_type": "stream",
     "text": [
      "Training accuracy： 1.0\n",
      "Training accuracy： 1.0\n",
      "Testing accuracy： 0.9027777777777778\n",
      "Testing accuracy： 0.9027777777777778\n"
     ]
    }
   ],
   "source": [
    "p_seed=seed\n",
    "F.ETree(train_feature[:,0:5],train_label,test_feature[:,0:5],test_label,p_seed)"
   ]
  },
  {
   "cell_type": "code",
   "execution_count": 31,
   "metadata": {},
   "outputs": [
    {
     "name": "stdout",
     "output_type": "stream",
     "text": [
      "Training accuracy： 1.0\n",
      "Training accuracy： 1.0\n",
      "Testing accuracy： 0.7916666666666666\n",
      "Testing accuracy： 0.7916666666666666\n"
     ]
    }
   ],
   "source": [
    "p_seed=seed\n",
    "F.ETree(train_feature[:,5:],train_label,test_feature[:,5:],test_label,p_seed)"
   ]
  },
  {
   "cell_type": "code",
   "execution_count": 32,
   "metadata": {},
   "outputs": [
    {
     "name": "stdout",
     "output_type": "stream",
     "text": [
      "Training accuracy： 1.0\n",
      "Training accuracy： 1.0\n",
      "Testing accuracy： 0.9398148148148148\n",
      "Testing accuracy： 0.9398148148148148\n"
     ]
    }
   ],
   "source": [
    "p_seed=seed\n",
    "F.ETree(train_feature[:,0:6],train_label,test_feature[:,0:6],test_label,p_seed)"
   ]
  },
  {
   "cell_type": "code",
   "execution_count": 33,
   "metadata": {},
   "outputs": [
    {
     "name": "stdout",
     "output_type": "stream",
     "text": [
      "Training accuracy： 1.0\n",
      "Training accuracy： 1.0\n",
      "Testing accuracy： 0.6435185185185185\n",
      "Testing accuracy： 0.6435185185185185\n"
     ]
    }
   ],
   "source": [
    "p_seed=seed\n",
    "F.ETree(train_feature[:,6:],train_label,test_feature[:,6:],test_label,p_seed)"
   ]
  },
  {
   "cell_type": "markdown",
   "metadata": {},
   "source": [
    "# 6. Reconstruction loss"
   ]
  },
  {
   "cell_type": "code",
   "execution_count": 34,
   "metadata": {},
   "outputs": [],
   "source": [
    "from sklearn.linear_model import LinearRegression\n",
    "\n",
    "def mse_check(train, test):\n",
    "    LR = LinearRegression(n_jobs = -1)\n",
    "    LR.fit(train[0], train[1])\n",
    "    MSELR = ((LR.predict(test[0]) - test[1]) ** 2).mean()\n",
    "    return MSELR"
   ]
  },
  {
   "cell_type": "code",
   "execution_count": 35,
   "metadata": {},
   "outputs": [
    {
     "name": "stdout",
     "output_type": "stream",
     "text": [
      "(864, 10)\n",
      "(216, 10)\n",
      "0.00812428850046984\n"
     ]
    }
   ],
   "source": [
    "train_feature_=np.multiply(C_train_x, key_features)\n",
    "C_train_selected_x=F.compress_zero_withkeystructure(train_feature_,selected_position_list)\n",
    "print(C_train_selected_x.shape)\n",
    "\n",
    "test_feature_=np.multiply(C_test_x, key_features)\n",
    "C_test_selected_x=F.compress_zero_withkeystructure(test_feature_,selected_position_list)\n",
    "print(C_test_selected_x.shape)\n",
    "\n",
    "\n",
    "train_feature_tuple=(C_train_selected_x,C_train_x)\n",
    "test_feature_tuple=(C_test_selected_x,C_test_x)\n",
    "\n",
    "reconstruction_loss=mse_check(train_feature_tuple, test_feature_tuple)\n",
    "print(reconstruction_loss)"
   ]
  },
  {
   "cell_type": "code",
   "execution_count": null,
   "metadata": {},
   "outputs": [],
   "source": []
  }
 ],
 "metadata": {
  "kernelspec": {
   "display_name": "Python 3",
   "language": "python",
   "name": "python3"
  },
  "language_info": {
   "codemirror_mode": {
    "name": "ipython",
    "version": 3
   },
   "file_extension": ".py",
   "mimetype": "text/x-python",
   "name": "python",
   "nbconvert_exporter": "python",
   "pygments_lexer": "ipython3",
   "version": "3.7.8"
  },
  "widgets": {
   "application/vnd.jupyter.widget-state+json": {
    "state": {},
    "version_major": 2,
    "version_minor": 0
   }
  }
 },
 "nbformat": 4,
 "nbformat_minor": 4
}
