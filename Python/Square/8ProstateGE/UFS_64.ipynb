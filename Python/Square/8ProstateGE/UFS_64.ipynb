{
 "cells": [
  {
   "cell_type": "markdown",
   "metadata": {},
   "source": [
    "# 1. Import libraries"
   ]
  },
  {
   "cell_type": "code",
   "execution_count": 1,
   "metadata": {
    "scrolled": true
   },
   "outputs": [
    {
     "name": "stderr",
     "output_type": "stream",
     "text": [
      "/usr/local/lib/python3.7/site-packages/tensorflow/python/framework/dtypes.py:516: FutureWarning: Passing (type, 1) or '1type' as a synonym of type is deprecated; in a future version of numpy, it will be understood as (type, (1,)) / '(1,)type'.\n",
      "  _np_qint8 = np.dtype([(\"qint8\", np.int8, 1)])\n",
      "/usr/local/lib/python3.7/site-packages/tensorflow/python/framework/dtypes.py:517: FutureWarning: Passing (type, 1) or '1type' as a synonym of type is deprecated; in a future version of numpy, it will be understood as (type, (1,)) / '(1,)type'.\n",
      "  _np_quint8 = np.dtype([(\"quint8\", np.uint8, 1)])\n",
      "/usr/local/lib/python3.7/site-packages/tensorflow/python/framework/dtypes.py:518: FutureWarning: Passing (type, 1) or '1type' as a synonym of type is deprecated; in a future version of numpy, it will be understood as (type, (1,)) / '(1,)type'.\n",
      "  _np_qint16 = np.dtype([(\"qint16\", np.int16, 1)])\n",
      "/usr/local/lib/python3.7/site-packages/tensorflow/python/framework/dtypes.py:519: FutureWarning: Passing (type, 1) or '1type' as a synonym of type is deprecated; in a future version of numpy, it will be understood as (type, (1,)) / '(1,)type'.\n",
      "  _np_quint16 = np.dtype([(\"quint16\", np.uint16, 1)])\n",
      "/usr/local/lib/python3.7/site-packages/tensorflow/python/framework/dtypes.py:520: FutureWarning: Passing (type, 1) or '1type' as a synonym of type is deprecated; in a future version of numpy, it will be understood as (type, (1,)) / '(1,)type'.\n",
      "  _np_qint32 = np.dtype([(\"qint32\", np.int32, 1)])\n",
      "/usr/local/lib/python3.7/site-packages/tensorflow/python/framework/dtypes.py:525: FutureWarning: Passing (type, 1) or '1type' as a synonym of type is deprecated; in a future version of numpy, it will be understood as (type, (1,)) / '(1,)type'.\n",
      "  np_resource = np.dtype([(\"resource\", np.ubyte, 1)])\n",
      "/usr/local/lib/python3.7/site-packages/tensorboard/compat/tensorflow_stub/dtypes.py:541: FutureWarning: Passing (type, 1) or '1type' as a synonym of type is deprecated; in a future version of numpy, it will be understood as (type, (1,)) / '(1,)type'.\n",
      "  _np_qint8 = np.dtype([(\"qint8\", np.int8, 1)])\n",
      "/usr/local/lib/python3.7/site-packages/tensorboard/compat/tensorflow_stub/dtypes.py:542: FutureWarning: Passing (type, 1) or '1type' as a synonym of type is deprecated; in a future version of numpy, it will be understood as (type, (1,)) / '(1,)type'.\n",
      "  _np_quint8 = np.dtype([(\"quint8\", np.uint8, 1)])\n",
      "/usr/local/lib/python3.7/site-packages/tensorboard/compat/tensorflow_stub/dtypes.py:543: FutureWarning: Passing (type, 1) or '1type' as a synonym of type is deprecated; in a future version of numpy, it will be understood as (type, (1,)) / '(1,)type'.\n",
      "  _np_qint16 = np.dtype([(\"qint16\", np.int16, 1)])\n",
      "/usr/local/lib/python3.7/site-packages/tensorboard/compat/tensorflow_stub/dtypes.py:544: FutureWarning: Passing (type, 1) or '1type' as a synonym of type is deprecated; in a future version of numpy, it will be understood as (type, (1,)) / '(1,)type'.\n",
      "  _np_quint16 = np.dtype([(\"quint16\", np.uint16, 1)])\n",
      "/usr/local/lib/python3.7/site-packages/tensorboard/compat/tensorflow_stub/dtypes.py:545: FutureWarning: Passing (type, 1) or '1type' as a synonym of type is deprecated; in a future version of numpy, it will be understood as (type, (1,)) / '(1,)type'.\n",
      "  _np_qint32 = np.dtype([(\"qint32\", np.int32, 1)])\n",
      "/usr/local/lib/python3.7/site-packages/tensorboard/compat/tensorflow_stub/dtypes.py:550: FutureWarning: Passing (type, 1) or '1type' as a synonym of type is deprecated; in a future version of numpy, it will be understood as (type, (1,)) / '(1,)type'.\n",
      "  np_resource = np.dtype([(\"resource\", np.ubyte, 1)])\n",
      "Using TensorFlow backend.\n"
     ]
    }
   ],
   "source": [
    "#----------------------------Reproducible----------------------------------------------------------------------------------------\n",
    "import numpy as np\n",
    "import tensorflow as tf\n",
    "import random as rn\n",
    "import os\n",
    "\n",
    "seed=0\n",
    "os.environ['PYTHONHASHSEED'] = str(seed)\n",
    "\n",
    "np.random.seed(seed)\n",
    "rn.seed(seed)\n",
    "#session_conf = tf.ConfigProto(intra_op_parallelism_threads=1, inter_op_parallelism_threads=1)\n",
    "session_conf =tf.compat.v1.ConfigProto(intra_op_parallelism_threads=1, inter_op_parallelism_threads=1)\n",
    "\n",
    "from keras import backend as K\n",
    "\n",
    "#tf.set_random_seed(seed)\n",
    "tf.compat.v1.set_random_seed(seed)\n",
    "#sess = tf.Session(graph=tf.get_default_graph(), config=session_conf)\n",
    "sess = tf.compat.v1.Session(graph=tf.compat.v1.get_default_graph(), config=session_conf)\n",
    "\n",
    "K.set_session(sess)\n",
    "#----------------------------Reproducible----------------------------------------------------------------------------------------\n",
    "\n",
    "os.environ['TF_CPP_MIN_LOG_LEVEL'] = '3'\n",
    "\n",
    "#--------------------------------------------------------------------------------------------------------------------------------\n",
    "from keras.datasets import mnist\n",
    "from keras.models import Model\n",
    "from keras.layers import Dense, Input, Flatten, Activation, Dropout, Layer\n",
    "from keras.layers.normalization import BatchNormalization\n",
    "from keras.utils import to_categorical\n",
    "from keras import optimizers,initializers,constraints,regularizers\n",
    "from keras import backend as K\n",
    "from keras.callbacks import LambdaCallback,ModelCheckpoint\n",
    "from keras.utils import plot_model\n",
    "\n",
    "from sklearn.model_selection import StratifiedKFold\n",
    "from sklearn.ensemble import ExtraTreesClassifier\n",
    "from sklearn import svm\n",
    "from sklearn.model_selection import cross_val_score\n",
    "from sklearn.model_selection import ShuffleSplit\n",
    "from sklearn.model_selection import train_test_split\n",
    "from sklearn.metrics import accuracy_score\n",
    "from sklearn.svm import SVC\n",
    "\n",
    "import h5py\n",
    "import math\n",
    "import matplotlib\n",
    "import matplotlib.pyplot as plt\n",
    "import matplotlib.cm as cm\n",
    "%matplotlib inline\n",
    "matplotlib.style.use('ggplot')\n",
    "\n",
    "import random\n",
    "import scipy.sparse as sparse\n",
    "import scipy.io\n",
    "from sklearn.preprocessing import MinMaxScaler\n",
    "from sklearn.preprocessing import StandardScaler\n",
    "import time\n",
    "import pandas as pd\n",
    "\n",
    "#--------------------------------------------------------------------------------------------------------------------------------\n",
    "#Import ourslef defined methods\n",
    "import sys\n",
    "sys.path.append(r\"./Defined\")\n",
    "import Functions as F\n",
    "import TimeHistory as T\n",
    "\n",
    "# The following code should be added before the keras model\n",
    "#np.random.seed(seed)"
   ]
  },
  {
   "cell_type": "markdown",
   "metadata": {},
   "source": [
    "# 2. Loading data"
   ]
  },
  {
   "cell_type": "code",
   "execution_count": 2,
   "metadata": {},
   "outputs": [],
   "source": [
    "data_path=\"./Dataset/Prostate_GE.mat\"\n",
    "Data = scipy.io.loadmat(data_path)\n",
    "\n",
    "data_arr=Data['X']\n",
    "label_arr=Data['Y'][:, 0]-1"
   ]
  },
  {
   "cell_type": "code",
   "execution_count": 3,
   "metadata": {},
   "outputs": [],
   "source": [
    "Data=MinMaxScaler(feature_range=(0,1)).fit_transform(data_arr)"
   ]
  },
  {
   "cell_type": "code",
   "execution_count": 4,
   "metadata": {},
   "outputs": [
    {
     "data": {
      "text/plain": [
       "(102, 5966)"
      ]
     },
     "execution_count": 4,
     "metadata": {},
     "output_type": "execute_result"
    }
   ],
   "source": [
    "Data.shape"
   ]
  },
  {
   "cell_type": "code",
   "execution_count": 5,
   "metadata": {},
   "outputs": [
    {
     "data": {
      "text/plain": [
       "(102,)"
      ]
     },
     "execution_count": 5,
     "metadata": {},
     "output_type": "execute_result"
    }
   ],
   "source": [
    "label_arr.shape"
   ]
  },
  {
   "cell_type": "code",
   "execution_count": 6,
   "metadata": {},
   "outputs": [
    {
     "name": "stdout",
     "output_type": "stream",
     "text": [
      "Shape of x_train: (72, 5966)\n",
      "Shape of x_validate: (9, 5966)\n",
      "Shape of x_test: (21, 5966)\n",
      "Shape of y_train: (72,)\n",
      "Shape of y_validate: (9,)\n",
      "Shape of y_test: (21,)\n",
      "Shape of C_train_x: (81, 5966)\n",
      "Shape of C_train_y: (81,)\n",
      "Shape of C_test_x: (21, 5966)\n",
      "Shape of C_test_y: (21,)\n"
     ]
    }
   ],
   "source": [
    "C_train_x,C_test_x,C_train_y,C_test_y= train_test_split(Data,label_arr,test_size=0.2,random_state=seed)\n",
    "x_train,x_validate,y_train_onehot,y_validate_onehot= train_test_split(C_train_x,C_train_y,test_size=0.1,random_state=seed)\n",
    "\n",
    "x_test=C_test_x\n",
    "y_test_onehot=C_test_y\n",
    "\n",
    "print('Shape of x_train: ' + str(x_train.shape)) \n",
    "print('Shape of x_validate: ' + str(x_validate.shape)) \n",
    "print('Shape of x_test: ' + str(x_test.shape))\n",
    "print('Shape of y_train: ' + str(y_train_onehot.shape))\n",
    "print('Shape of y_validate: ' + str(y_validate_onehot.shape))\n",
    "print('Shape of y_test: ' + str(y_test_onehot.shape))\n",
    "\n",
    "print('Shape of C_train_x: ' + str(C_train_x.shape)) \n",
    "print('Shape of C_train_y: ' + str(C_train_y.shape)) \n",
    "print('Shape of C_test_x: ' + str(C_test_x.shape)) \n",
    "print('Shape of C_test_y: ' + str(C_test_y.shape)) "
   ]
  },
  {
   "cell_type": "code",
   "execution_count": 7,
   "metadata": {},
   "outputs": [],
   "source": [
    "key_feture_number=64"
   ]
  },
  {
   "cell_type": "markdown",
   "metadata": {},
   "source": [
    "# 3.Model"
   ]
  },
  {
   "cell_type": "code",
   "execution_count": 8,
   "metadata": {},
   "outputs": [],
   "source": [
    "np.random.seed(seed)\n",
    "\n",
    "#--------------------------------------------------------------------------------------------------------------------------------\n",
    "class Feature_Select_Layer(Layer):\n",
    "    \n",
    "    def __init__(self, output_dim, **kwargs):\n",
    "        super(Feature_Select_Layer, self).__init__(**kwargs)\n",
    "        self.output_dim = output_dim\n",
    "\n",
    "    def build(self, input_shape):\n",
    "        self.kernel = self.add_weight(name='kernel',  \n",
    "                                      shape=(input_shape[1],),\n",
    "                                      initializer=initializers.RandomUniform(minval=0.999999, maxval=0.9999999, seed=seed),\n",
    "                                      trainable=True)\n",
    "        super(Feature_Select_Layer, self).build(input_shape)\n",
    "    \n",
    "    def call(self, x, selection=False,k=key_feture_number):\n",
    "        kernel=K.pow(self.kernel,2)       \n",
    "        if selection:\n",
    "            kernel_=K.transpose(kernel)\n",
    "            kth_largest = tf.math.top_k(kernel_, k=k)[0][-1]\n",
    "            kernel = tf.where(condition=K.less(kernel,kth_largest),x=K.zeros_like(kernel),y=kernel)        \n",
    "        return K.dot(x, tf.linalg.tensor_diag(kernel))\n",
    "\n",
    "    def compute_output_shape(self, input_shape):\n",
    "        return (input_shape[0], self.output_dim)\n",
    "\n",
    "#--------------------------------------------------------------------------------------------------------------------------------\n",
    "def Autoencoder(p_data_feature=x_train.shape[1],\\\n",
    "                p_encoding_dim=key_feture_number,\\\n",
    "                p_learning_rate= 1E-3):\n",
    "    input_img = Input(shape=(p_data_feature,), name='input_img')\n",
    "\n",
    "    encoded = Dense(p_encoding_dim, activation='linear',kernel_initializer=initializers.glorot_uniform(seed))(input_img)\n",
    "    bottleneck=encoded\n",
    "    decoded = Dense(p_data_feature, activation='linear',kernel_initializer=initializers.glorot_uniform(seed))(encoded)\n",
    "\n",
    "    latent_encoder = Model(input_img, bottleneck)\n",
    "    autoencoder = Model(input_img, decoded)\n",
    "    \n",
    "    autoencoder.compile(loss='mean_squared_error', optimizer=optimizers.Adam(lr=p_learning_rate))\n",
    "    \n",
    "    print('Autoencoder Structure-------------------------------------')\n",
    "    autoencoder.summary()\n",
    "    #print('Latent Encoder Structure-------------------------------------')\n",
    "    #latent_encoder.summary()\n",
    "    return autoencoder,latent_encoder\n",
    "\n",
    "#--------------------------------------------------------------------------------------------------------------------------------\n",
    "def Identity_Autoencoder(p_data_feature=x_train.shape[1],\\\n",
    "                         p_encoding_dim=key_feture_number,\\\n",
    "                         p_learning_rate= 1E-3):\n",
    "    \n",
    "    input_img = Input(shape=(p_data_feature,), name='autoencoder_input')\n",
    "\n",
    "    feature_selection = Feature_Select_Layer(output_dim=p_data_feature,\\\n",
    "                                             input_shape=(p_data_feature,),\\\n",
    "                                             name='feature_selection')\n",
    "\n",
    "    feature_selection_score=feature_selection(input_img)\n",
    "\n",
    "    encoded = Dense(p_encoding_dim,\\\n",
    "                    activation='linear',\\\n",
    "                    kernel_initializer=initializers.glorot_uniform(seed),\\\n",
    "                    name='autoencoder_hidden_layer')\n",
    "    \n",
    "    encoded_score=encoded(feature_selection_score)\n",
    "    \n",
    "    bottleneck_score=encoded_score\n",
    "    \n",
    "    decoded = Dense(p_data_feature,\\\n",
    "                    activation='linear',\\\n",
    "                    kernel_initializer=initializers.glorot_uniform(seed),\\\n",
    "                    name='autoencoder_output')\n",
    "    \n",
    "    decoded_score =decoded(bottleneck_score)\n",
    "\n",
    "    latent_encoder_score = Model(input_img, bottleneck_score)\n",
    "    autoencoder = Model(input_img, decoded_score)\n",
    "    \n",
    "    autoencoder.compile(loss='mean_squared_error',\\\n",
    "                        optimizer=optimizers.Adam(lr=p_learning_rate))\n",
    "    \n",
    "    print('Autoencoder Structure-------------------------------------')\n",
    "    autoencoder.summary()\n",
    "    return autoencoder,latent_encoder_score\n",
    "\n",
    "#--------------------------------------------------------------------------------------------------------------------------------\n",
    "def Fractal_Autoencoder(p_data_feature=x_train.shape[1],\\\n",
    "                        p_feture_number=key_feture_number,\\\n",
    "                        p_encoding_dim=key_feture_number,\\\n",
    "                        p_learning_rate=1E-3,\\\n",
    "                        p_loss_weight_1=1,\\\n",
    "                        p_loss_weight_2=2):\n",
    "    \n",
    "    input_img = Input(shape=(p_data_feature,), name='autoencoder_input')\n",
    "\n",
    "    feature_selection = Feature_Select_Layer(output_dim=p_data_feature,\\\n",
    "                                             input_shape=(p_data_feature,),\\\n",
    "                                             name='feature_selection')\n",
    "\n",
    "    feature_selection_score=feature_selection(input_img)\n",
    "    feature_selection_choose=feature_selection(input_img,selection=True,k=p_feture_number)\n",
    "\n",
    "    encoded = Dense(p_encoding_dim,\\\n",
    "                    activation='linear',\\\n",
    "                    kernel_initializer=initializers.glorot_uniform(seed),\\\n",
    "                    name='autoencoder_hidden_layer')\n",
    "    \n",
    "    encoded_score=encoded(feature_selection_score)\n",
    "    encoded_choose=encoded(feature_selection_choose)\n",
    "    \n",
    "    bottleneck_score=encoded_score\n",
    "    bottleneck_choose=encoded_choose\n",
    "    \n",
    "    decoded = Dense(p_data_feature,\\\n",
    "                    activation='linear',\\\n",
    "                    kernel_initializer=initializers.glorot_uniform(seed),\\\n",
    "                    name='autoencoder_output')\n",
    "    \n",
    "    decoded_score =decoded(bottleneck_score)\n",
    "    decoded_choose =decoded(bottleneck_choose)\n",
    "\n",
    "    latent_encoder_score = Model(input_img, bottleneck_score)\n",
    "    latent_encoder_choose = Model(input_img, bottleneck_choose)\n",
    "    feature_selection_output=Model(input_img,feature_selection_choose)\n",
    "    autoencoder = Model(input_img, [decoded_score,decoded_choose])\n",
    "    \n",
    "    autoencoder.compile(loss=['mean_squared_error','mean_squared_error'],\\\n",
    "                        loss_weights=[p_loss_weight_1, p_loss_weight_2],\\\n",
    "                        optimizer=optimizers.Adam(lr=p_learning_rate))\n",
    "    \n",
    "    print('Autoencoder Structure-------------------------------------')\n",
    "    autoencoder.summary()\n",
    "    return autoencoder,feature_selection_output,latent_encoder_score,latent_encoder_choose"
   ]
  },
  {
   "cell_type": "markdown",
   "metadata": {},
   "source": [
    "## 3.1 Structure and paramter testing"
   ]
  },
  {
   "cell_type": "code",
   "execution_count": 9,
   "metadata": {},
   "outputs": [],
   "source": [
    "epochs_number=200\n",
    "batch_size_value=16"
   ]
  },
  {
   "cell_type": "markdown",
   "metadata": {},
   "source": [
    "---\n",
    "### 3.1.1 Fractal Autoencoder\n",
    "---"
   ]
  },
  {
   "cell_type": "code",
   "execution_count": 10,
   "metadata": {
    "scrolled": true
   },
   "outputs": [
    {
     "name": "stdout",
     "output_type": "stream",
     "text": [
      "WARNING:tensorflow:From /usr/local/lib/python3.7/site-packages/keras/backend/tensorflow_backend.py:541: The name tf.placeholder is deprecated. Please use tf.compat.v1.placeholder instead.\n",
      "\n",
      "WARNING:tensorflow:From /usr/local/lib/python3.7/site-packages/keras/backend/tensorflow_backend.py:4432: The name tf.random_uniform is deprecated. Please use tf.random.uniform instead.\n",
      "\n",
      "WARNING:tensorflow:From <ipython-input-8-478f6b761227>:22: add_dispatch_support.<locals>.wrapper (from tensorflow.python.ops.array_ops) is deprecated and will be removed in a future version.\n",
      "Instructions for updating:\n",
      "Use tf.where in 2.0, which has the same broadcast rule as np.where\n",
      "WARNING:tensorflow:From /usr/local/lib/python3.7/site-packages/keras/backend/tensorflow_backend.py:66: The name tf.get_default_graph is deprecated. Please use tf.compat.v1.get_default_graph instead.\n",
      "\n",
      "WARNING:tensorflow:From /usr/local/lib/python3.7/site-packages/keras/optimizers.py:793: The name tf.train.Optimizer is deprecated. Please use tf.compat.v1.train.Optimizer instead.\n",
      "\n",
      "Autoencoder Structure-------------------------------------\n",
      "Model: \"model_4\"\n",
      "__________________________________________________________________________________________________\n",
      "Layer (type)                    Output Shape         Param #     Connected to                     \n",
      "==================================================================================================\n",
      "autoencoder_input (InputLayer)  (None, 5966)         0                                            \n",
      "__________________________________________________________________________________________________\n",
      "feature_selection (Feature_Sele (None, 5966)         5966        autoencoder_input[0][0]          \n",
      "                                                                 autoencoder_input[0][0]          \n",
      "__________________________________________________________________________________________________\n",
      "autoencoder_hidden_layer (Dense (None, 64)           381888      feature_selection[0][0]          \n",
      "                                                                 feature_selection[1][0]          \n",
      "__________________________________________________________________________________________________\n",
      "autoencoder_output (Dense)      (None, 5966)         387790      autoencoder_hidden_layer[0][0]   \n",
      "                                                                 autoencoder_hidden_layer[1][0]   \n",
      "==================================================================================================\n",
      "Total params: 775,644\n",
      "Trainable params: 775,644\n",
      "Non-trainable params: 0\n",
      "__________________________________________________________________________________________________\n"
     ]
    },
    {
     "data": {
      "image/png": "[encoded data removed]",
      "text/plain": [
       "<IPython.core.display.Image object>"
      ]
     },
     "execution_count": 10,
     "metadata": {},
     "output_type": "execute_result"
    }
   ],
   "source": [
    "loss_weight_1=0.0078125\n",
    "F_AE,\\\n",
    "feature_selection_output,\\\n",
    "latent_encoder_score_F_AE,\\\n",
    "latent_encoder_choose_F_AE=Fractal_Autoencoder(p_data_feature=x_train.shape[1],\\\n",
    "                                               p_feture_number=key_feture_number,\\\n",
    "                                               p_encoding_dim=key_feture_number,\\\n",
    "                                               p_learning_rate= 1E-3,\\\n",
    "                                               p_loss_weight_1=loss_weight_1,\\\n",
    "                                               p_loss_weight_2=1)\n",
    "\n",
    "file_name=\"./log/F_AE_\"+str(key_feture_number)+\".png\"\n",
    "plot_model(F_AE, to_file=file_name,show_shapes=True)"
   ]
  },
  {
   "cell_type": "code",
   "execution_count": 11,
   "metadata": {
    "scrolled": true
   },
   "outputs": [
    {
     "name": "stdout",
     "output_type": "stream",
     "text": [
      "WARNING:tensorflow:From /usr/local/lib/python3.7/site-packages/keras/backend/tensorflow_backend.py:1033: The name tf.assign_add is deprecated. Please use tf.compat.v1.assign_add instead.\n",
      "\n",
      "WARNING:tensorflow:From /usr/local/lib/python3.7/site-packages/keras/backend/tensorflow_backend.py:1020: The name tf.assign is deprecated. Please use tf.compat.v1.assign instead.\n",
      "\n",
      "Train on 72 samples, validate on 9 samples\n",
      "Epoch 1/200\n",
      "72/72 [==============================] - 7s 100ms/step - loss: 0.1888 - autoencoder_output_loss: 0.1874 - val_loss: 0.1877 - val_autoencoder_output_loss: 0.1866\n",
      "Epoch 2/200\n",
      "72/72 [==============================] - 7s 96ms/step - loss: 0.1484 - autoencoder_output_loss: 0.1476 - val_loss: 0.1241 - val_autoencoder_output_loss: 0.1234\n",
      "Epoch 3/200\n",
      "72/72 [==============================] - 7s 95ms/step - loss: 0.0892 - autoencoder_output_loss: 0.0885 - val_loss: 0.0772 - val_autoencoder_output_loss: 0.0765\n",
      "Epoch 4/200\n",
      "72/72 [==============================] - 7s 92ms/step - loss: 0.0636 - autoencoder_output_loss: 0.0631 - val_loss: 0.0814 - val_autoencoder_output_loss: 0.0808\n",
      "Epoch 5/200\n",
      "72/72 [==============================] - 7s 96ms/step - loss: 0.0638 - autoencoder_output_loss: 0.0633 - val_loss: 0.0753 - val_autoencoder_output_loss: 0.0748\n",
      "Epoch 6/200\n",
      "72/72 [==============================] - 7s 97ms/step - loss: 0.0554 - autoencoder_output_loss: 0.0550 - val_loss: 0.0714 - val_autoencoder_output_loss: 0.0709\n",
      "Epoch 7/200\n",
      "72/72 [==============================] - 7s 96ms/step - loss: 0.0542 - autoencoder_output_loss: 0.0538 - val_loss: 0.0709 - val_autoencoder_output_loss: 0.0704\n",
      "Epoch 8/200\n",
      "72/72 [==============================] - 7s 91ms/step - loss: 0.0531 - autoencoder_output_loss: 0.0528 - val_loss: 0.0668 - val_autoencoder_output_loss: 0.0664\n",
      "Epoch 9/200\n",
      "72/72 [==============================] - 7s 91ms/step - loss: 0.0498 - autoencoder_output_loss: 0.0495 - val_loss: 0.0640 - val_autoencoder_output_loss: 0.0635\n",
      "Epoch 10/200\n",
      "72/72 [==============================] - 7s 90ms/step - loss: 0.0474 - autoencoder_output_loss: 0.0471 - val_loss: 0.0618 - val_autoencoder_output_loss: 0.0614\n",
      "Epoch 11/200\n",
      "72/72 [==============================] - 7s 91ms/step - loss: 0.0446 - autoencoder_output_loss: 0.0443 - val_loss: 0.0582 - val_autoencoder_output_loss: 0.0579\n",
      "Epoch 12/200\n",
      "72/72 [==============================] - 6s 89ms/step - loss: 0.0408 - autoencoder_output_loss: 0.0406 - val_loss: 0.0544 - val_autoencoder_output_loss: 0.0541\n",
      "Epoch 13/200\n",
      "72/72 [==============================] - 7s 91ms/step - loss: 0.0364 - autoencoder_output_loss: 0.0362 - val_loss: 0.0496 - val_autoencoder_output_loss: 0.0492\n",
      "Epoch 14/200\n",
      "72/72 [==============================] - 6s 90ms/step - loss: 0.0318 - autoencoder_output_loss: 0.0316 - val_loss: 0.0456 - val_autoencoder_output_loss: 0.0453\n",
      "Epoch 15/200\n",
      "72/72 [==============================] - 6s 90ms/step - loss: 0.0282 - autoencoder_output_loss: 0.0279 - val_loss: 0.0434 - val_autoencoder_output_loss: 0.0431\n",
      "Epoch 16/200\n",
      "72/72 [==============================] - 7s 98ms/step - loss: 0.0261 - autoencoder_output_loss: 0.0259 - val_loss: 0.0428 - val_autoencoder_output_loss: 0.0424\n",
      "Epoch 17/200\n",
      "72/72 [==============================] - 7s 91ms/step - loss: 0.0253 - autoencoder_output_loss: 0.0251 - val_loss: 0.0429 - val_autoencoder_output_loss: 0.0426\n",
      "Epoch 18/200\n",
      "72/72 [==============================] - 6s 89ms/step - loss: 0.0252 - autoencoder_output_loss: 0.0250 - val_loss: 0.0432 - val_autoencoder_output_loss: 0.0428\n",
      "Epoch 19/200\n",
      "72/72 [==============================] - 6s 84ms/step - loss: 0.0251 - autoencoder_output_loss: 0.0249 - val_loss: 0.0431 - val_autoencoder_output_loss: 0.0427\n",
      "Epoch 20/200\n",
      "72/72 [==============================] - 5s 75ms/step - loss: 0.0249 - autoencoder_output_loss: 0.0247 - val_loss: 0.0428 - val_autoencoder_output_loss: 0.0424\n",
      "Epoch 21/200\n",
      "72/72 [==============================] - 5s 69ms/step - loss: 0.0248 - autoencoder_output_loss: 0.0245 - val_loss: 0.0429 - val_autoencoder_output_loss: 0.0423\n",
      "Epoch 22/200\n",
      "72/72 [==============================] - 5s 65ms/step - loss: 0.0248 - autoencoder_output_loss: 0.0245 - val_loss: 0.0426 - val_autoencoder_output_loss: 0.0422\n",
      "Epoch 23/200\n",
      "72/72 [==============================] - 6s 84ms/step - loss: 0.0247 - autoencoder_output_loss: 0.0245 - val_loss: 0.0425 - val_autoencoder_output_loss: 0.0421\n",
      "Epoch 24/200\n",
      "72/72 [==============================] - 6s 77ms/step - loss: 0.0247 - autoencoder_output_loss: 0.0244 - val_loss: 0.0425 - val_autoencoder_output_loss: 0.0422\n",
      "Epoch 25/200\n",
      "72/72 [==============================] - 5s 65ms/step - loss: 0.0247 - autoencoder_output_loss: 0.0244 - val_loss: 0.0424 - val_autoencoder_output_loss: 0.0421\n",
      "Epoch 26/200\n",
      "72/72 [==============================] - 5s 67ms/step - loss: 0.0246 - autoencoder_output_loss: 0.0244 - val_loss: 0.0423 - val_autoencoder_output_loss: 0.0419\n",
      "Epoch 27/200\n",
      "72/72 [==============================] - 4s 61ms/step - loss: 0.0246 - autoencoder_output_loss: 0.0244 - val_loss: 0.0422 - val_autoencoder_output_loss: 0.0419\n",
      "Epoch 28/200\n",
      "72/72 [==============================] - 5s 69ms/step - loss: 0.0246 - autoencoder_output_loss: 0.0244 - val_loss: 0.0423 - val_autoencoder_output_loss: 0.0419\n",
      "Epoch 29/200\n",
      "72/72 [==============================] - 4s 58ms/step - loss: 0.0245 - autoencoder_output_loss: 0.0243 - val_loss: 0.0424 - val_autoencoder_output_loss: 0.0420\n",
      "Epoch 30/200\n",
      "72/72 [==============================] - 4s 50ms/step - loss: 0.0245 - autoencoder_output_loss: 0.0243 - val_loss: 0.0425 - val_autoencoder_output_loss: 0.0421\n",
      "Epoch 31/200\n",
      "72/72 [==============================] - 4s 62ms/step - loss: 0.0245 - autoencoder_output_loss: 0.0243 - val_loss: 0.0425 - val_autoencoder_output_loss: 0.0421\n",
      "Epoch 32/200\n",
      "72/72 [==============================] - 5s 63ms/step - loss: 0.0245 - autoencoder_output_loss: 0.0243 - val_loss: 0.0423 - val_autoencoder_output_loss: 0.0419\n",
      "Epoch 33/200\n",
      "72/72 [==============================] - 4s 54ms/step - loss: 0.0246 - autoencoder_output_loss: 0.0243 - val_loss: 0.0424 - val_autoencoder_output_loss: 0.0420\n",
      "Epoch 34/200\n",
      "72/72 [==============================] - 4s 60ms/step - loss: 0.0245 - autoencoder_output_loss: 0.0242 - val_loss: 0.0425 - val_autoencoder_output_loss: 0.0420\n",
      "Epoch 35/200\n",
      "72/72 [==============================] - 4s 60ms/step - loss: 0.0245 - autoencoder_output_loss: 0.0242 - val_loss: 0.0426 - val_autoencoder_output_loss: 0.0419\n",
      "Epoch 36/200\n",
      "72/72 [==============================] - 4s 55ms/step - loss: 0.0246 - autoencoder_output_loss: 0.0242 - val_loss: 0.0423 - val_autoencoder_output_loss: 0.0419\n",
      "Epoch 37/200\n",
      "72/72 [==============================] - 5s 66ms/step - loss: 0.0244 - autoencoder_output_loss: 0.0241 - val_loss: 0.0424 - val_autoencoder_output_loss: 0.0420\n",
      "Epoch 38/200\n",
      "72/72 [==============================] - 4s 52ms/step - loss: 0.0244 - autoencoder_output_loss: 0.0241 - val_loss: 0.0421 - val_autoencoder_output_loss: 0.0418\n",
      "Epoch 39/200\n",
      "72/72 [==============================] - 4s 59ms/step - loss: 0.0243 - autoencoder_output_loss: 0.0240 - val_loss: 0.0423 - val_autoencoder_output_loss: 0.0418\n",
      "Epoch 40/200\n",
      "72/72 [==============================] - 5s 68ms/step - loss: 0.0244 - autoencoder_output_loss: 0.0241 - val_loss: 0.0424 - val_autoencoder_output_loss: 0.0420\n",
      "Epoch 41/200\n",
      "72/72 [==============================] - 4s 61ms/step - loss: 0.0243 - autoencoder_output_loss: 0.0240 - val_loss: 0.0423 - val_autoencoder_output_loss: 0.0419\n",
      "Epoch 42/200\n",
      "72/72 [==============================] - 4s 56ms/step - loss: 0.0242 - autoencoder_output_loss: 0.0239 - val_loss: 0.0424 - val_autoencoder_output_loss: 0.0419\n",
      "Epoch 43/200\n",
      "72/72 [==============================] - 5s 64ms/step - loss: 0.0242 - autoencoder_output_loss: 0.0239 - val_loss: 0.0423 - val_autoencoder_output_loss: 0.0418\n",
      "Epoch 44/200\n",
      "72/72 [==============================] - 4s 60ms/step - loss: 0.0242 - autoencoder_output_loss: 0.0239 - val_loss: 0.0423 - val_autoencoder_output_loss: 0.0417\n",
      "Epoch 45/200\n",
      "72/72 [==============================] - 4s 60ms/step - loss: 0.0242 - autoencoder_output_loss: 0.0238 - val_loss: 0.0424 - val_autoencoder_output_loss: 0.0418\n",
      "Epoch 46/200\n",
      "72/72 [==============================] - 4s 60ms/step - loss: 0.0242 - autoencoder_output_loss: 0.0238 - val_loss: 0.0423 - val_autoencoder_output_loss: 0.0417\n",
      "Epoch 47/200\n",
      "72/72 [==============================] - 4s 58ms/step - loss: 0.0241 - autoencoder_output_loss: 0.0237 - val_loss: 0.0422 - val_autoencoder_output_loss: 0.0418\n",
      "Epoch 48/200\n",
      "72/72 [==============================] - 5s 64ms/step - loss: 0.0239 - autoencoder_output_loss: 0.0236 - val_loss: 0.0424 - val_autoencoder_output_loss: 0.0418\n",
      "Epoch 49/200\n",
      "72/72 [==============================] - 4s 60ms/step - loss: 0.0240 - autoencoder_output_loss: 0.0236 - val_loss: 0.0421 - val_autoencoder_output_loss: 0.0416\n",
      "Epoch 50/200\n",
      "72/72 [==============================] - 4s 60ms/step - loss: 0.0239 - autoencoder_output_loss: 0.0235 - val_loss: 0.0420 - val_autoencoder_output_loss: 0.0416\n",
      "Epoch 51/200\n",
      "72/72 [==============================] - 4s 61ms/step - loss: 0.0237 - autoencoder_output_loss: 0.0234 - val_loss: 0.0423 - val_autoencoder_output_loss: 0.0417\n",
      "Epoch 52/200\n",
      "72/72 [==============================] - 4s 55ms/step - loss: 0.0237 - autoencoder_output_loss: 0.0233 - val_loss: 0.0424 - val_autoencoder_output_loss: 0.0417\n",
      "Epoch 53/200\n",
      "72/72 [==============================] - 5s 63ms/step - loss: 0.0237 - autoencoder_output_loss: 0.0233 - val_loss: 0.0420 - val_autoencoder_output_loss: 0.0416\n",
      "Epoch 54/200\n",
      "72/72 [==============================] - 5s 69ms/step - loss: 0.0234 - autoencoder_output_loss: 0.0232 - val_loss: 0.0422 - val_autoencoder_output_loss: 0.0416\n",
      "Epoch 55/200\n",
      "72/72 [==============================] - 4s 58ms/step - loss: 0.0234 - autoencoder_output_loss: 0.0231 - val_loss: 0.0422 - val_autoencoder_output_loss: 0.0416\n",
      "Epoch 56/200\n",
      "72/72 [==============================] - 4s 61ms/step - loss: 0.0233 - autoencoder_output_loss: 0.0230 - val_loss: 0.0428 - val_autoencoder_output_loss: 0.0416\n",
      "Epoch 57/200\n",
      "72/72 [==============================] - 4s 61ms/step - loss: 0.0235 - autoencoder_output_loss: 0.0229 - val_loss: 0.0426 - val_autoencoder_output_loss: 0.0416\n",
      "Epoch 58/200\n",
      "72/72 [==============================] - 4s 55ms/step - loss: 0.0232 - autoencoder_output_loss: 0.0228 - val_loss: 0.0426 - val_autoencoder_output_loss: 0.0416\n",
      "Epoch 59/200\n",
      "72/72 [==============================] - 4s 53ms/step - loss: 0.0231 - autoencoder_output_loss: 0.0227 - val_loss: 0.0421 - val_autoencoder_output_loss: 0.0414\n",
      "Epoch 60/200\n",
      "72/72 [==============================] - 4s 53ms/step - loss: 0.0230 - autoencoder_output_loss: 0.0226 - val_loss: 0.0421 - val_autoencoder_output_loss: 0.0414\n",
      "Epoch 61/200\n",
      "72/72 [==============================] - 4s 57ms/step - loss: 0.0230 - autoencoder_output_loss: 0.0226 - val_loss: 0.0420 - val_autoencoder_output_loss: 0.0413\n",
      "Epoch 62/200\n",
      "72/72 [==============================] - 4s 60ms/step - loss: 0.0229 - autoencoder_output_loss: 0.0225 - val_loss: 0.0418 - val_autoencoder_output_loss: 0.0413\n",
      "Epoch 63/200\n",
      "72/72 [==============================] - 4s 56ms/step - loss: 0.0227 - autoencoder_output_loss: 0.0224 - val_loss: 0.0418 - val_autoencoder_output_loss: 0.0414\n",
      "Epoch 64/200\n",
      "72/72 [==============================] - 3s 48ms/step - loss: 0.0226 - autoencoder_output_loss: 0.0224 - val_loss: 0.0417 - val_autoencoder_output_loss: 0.0413\n",
      "Epoch 65/200\n",
      "72/72 [==============================] - 4s 52ms/step - loss: 0.0224 - autoencoder_output_loss: 0.0222 - val_loss: 0.0418 - val_autoencoder_output_loss: 0.0414\n",
      "Epoch 66/200\n",
      "72/72 [==============================] - 4s 57ms/step - loss: 0.0224 - autoencoder_output_loss: 0.0222 - val_loss: 0.0417 - val_autoencoder_output_loss: 0.0414\n",
      "Epoch 67/200\n",
      "72/72 [==============================] - 4s 61ms/step - loss: 0.0223 - autoencoder_output_loss: 0.0221 - val_loss: 0.0417 - val_autoencoder_output_loss: 0.0413\n",
      "Epoch 68/200\n",
      "72/72 [==============================] - 4s 58ms/step - loss: 0.0223 - autoencoder_output_loss: 0.0220 - val_loss: 0.0415 - val_autoencoder_output_loss: 0.0411\n",
      "Epoch 69/200\n",
      "72/72 [==============================] - 4s 55ms/step - loss: 0.0222 - autoencoder_output_loss: 0.0220 - val_loss: 0.0415 - val_autoencoder_output_loss: 0.0412\n",
      "Epoch 70/200\n",
      "72/72 [==============================] - 4s 57ms/step - loss: 0.0221 - autoencoder_output_loss: 0.0219 - val_loss: 0.0414 - val_autoencoder_output_loss: 0.0410\n",
      "Epoch 71/200\n",
      "72/72 [==============================] - 5s 67ms/step - loss: 0.0220 - autoencoder_output_loss: 0.0218 - val_loss: 0.0414 - val_autoencoder_output_loss: 0.0411\n",
      "Epoch 72/200\n",
      "72/72 [==============================] - 4s 62ms/step - loss: 0.0219 - autoencoder_output_loss: 0.0217 - val_loss: 0.0414 - val_autoencoder_output_loss: 0.0410\n",
      "Epoch 73/200\n",
      "72/72 [==============================] - 3s 45ms/step - loss: 0.0219 - autoencoder_output_loss: 0.0217 - val_loss: 0.0413 - val_autoencoder_output_loss: 0.0410\n",
      "Epoch 74/200\n",
      "72/72 [==============================] - 3s 44ms/step - loss: 0.0218 - autoencoder_output_loss: 0.0216 - val_loss: 0.0412 - val_autoencoder_output_loss: 0.0409\n",
      "Epoch 75/200\n",
      "72/72 [==============================] - 3s 45ms/step - loss: 0.0217 - autoencoder_output_loss: 0.0215 - val_loss: 0.0412 - val_autoencoder_output_loss: 0.0409\n",
      "Epoch 76/200\n",
      "72/72 [==============================] - 4s 49ms/step - loss: 0.0216 - autoencoder_output_loss: 0.0215 - val_loss: 0.0410 - val_autoencoder_output_loss: 0.0407\n",
      "Epoch 77/200\n",
      "72/72 [==============================] - 4s 52ms/step - loss: 0.0215 - autoencoder_output_loss: 0.0214 - val_loss: 0.0409 - val_autoencoder_output_loss: 0.0405\n",
      "Epoch 78/200\n",
      "72/72 [==============================] - 4s 58ms/step - loss: 0.0214 - autoencoder_output_loss: 0.0213 - val_loss: 0.0409 - val_autoencoder_output_loss: 0.0405\n",
      "Epoch 79/200\n",
      "72/72 [==============================] - 4s 54ms/step - loss: 0.0213 - autoencoder_output_loss: 0.0212 - val_loss: 0.0409 - val_autoencoder_output_loss: 0.0405\n",
      "Epoch 80/200\n",
      "72/72 [==============================] - 4s 55ms/step - loss: 0.0213 - autoencoder_output_loss: 0.0211 - val_loss: 0.0408 - val_autoencoder_output_loss: 0.0404\n",
      "Epoch 81/200\n",
      "72/72 [==============================] - 4s 58ms/step - loss: 0.0212 - autoencoder_output_loss: 0.0211 - val_loss: 0.0407 - val_autoencoder_output_loss: 0.0404\n",
      "Epoch 82/200\n",
      "72/72 [==============================] - 4s 57ms/step - loss: 0.0211 - autoencoder_output_loss: 0.0210 - val_loss: 0.0406 - val_autoencoder_output_loss: 0.0402\n",
      "Epoch 83/200\n",
      "72/72 [==============================] - 5s 65ms/step - loss: 0.0211 - autoencoder_output_loss: 0.0209 - val_loss: 0.0406 - val_autoencoder_output_loss: 0.0402\n",
      "Epoch 84/200\n",
      "72/72 [==============================] - 4s 58ms/step - loss: 0.0210 - autoencoder_output_loss: 0.0208 - val_loss: 0.0405 - val_autoencoder_output_loss: 0.0402\n",
      "Epoch 85/200\n",
      "72/72 [==============================] - 4s 55ms/step - loss: 0.0209 - autoencoder_output_loss: 0.0208 - val_loss: 0.0404 - val_autoencoder_output_loss: 0.0401\n",
      "Epoch 86/200\n",
      "72/72 [==============================] - 4s 54ms/step - loss: 0.0209 - autoencoder_output_loss: 0.0207 - val_loss: 0.0402 - val_autoencoder_output_loss: 0.0399\n",
      "Epoch 87/200\n",
      "72/72 [==============================] - 5s 64ms/step - loss: 0.0208 - autoencoder_output_loss: 0.0206 - val_loss: 0.0402 - val_autoencoder_output_loss: 0.0398\n",
      "Epoch 88/200\n",
      "72/72 [==============================] - 4s 60ms/step - loss: 0.0207 - autoencoder_output_loss: 0.0205 - val_loss: 0.0402 - val_autoencoder_output_loss: 0.0399\n",
      "Epoch 89/200\n",
      "72/72 [==============================] - 4s 58ms/step - loss: 0.0206 - autoencoder_output_loss: 0.0205 - val_loss: 0.0401 - val_autoencoder_output_loss: 0.0398\n",
      "Epoch 90/200\n",
      "72/72 [==============================] - 4s 51ms/step - loss: 0.0205 - autoencoder_output_loss: 0.0204 - val_loss: 0.0400 - val_autoencoder_output_loss: 0.0397\n",
      "Epoch 91/200\n",
      "72/72 [==============================] - 3s 45ms/step - loss: 0.0204 - autoencoder_output_loss: 0.0202 - val_loss: 0.0399 - val_autoencoder_output_loss: 0.0395\n",
      "Epoch 92/200\n",
      "72/72 [==============================] - 3s 44ms/step - loss: 0.0203 - autoencoder_output_loss: 0.0202 - val_loss: 0.0398 - val_autoencoder_output_loss: 0.0395\n",
      "Epoch 93/200\n",
      "72/72 [==============================] - 3s 45ms/step - loss: 0.0202 - autoencoder_output_loss: 0.0201 - val_loss: 0.0399 - val_autoencoder_output_loss: 0.0396\n",
      "Epoch 94/200\n",
      "72/72 [==============================] - 3s 45ms/step - loss: 0.0201 - autoencoder_output_loss: 0.0200 - val_loss: 0.0398 - val_autoencoder_output_loss: 0.0395\n",
      "Epoch 95/200\n",
      "72/72 [==============================] - 3s 44ms/step - loss: 0.0200 - autoencoder_output_loss: 0.0199 - val_loss: 0.0397 - val_autoencoder_output_loss: 0.0393\n",
      "Epoch 96/200\n",
      "72/72 [==============================] - 3s 44ms/step - loss: 0.0199 - autoencoder_output_loss: 0.0198 - val_loss: 0.0394 - val_autoencoder_output_loss: 0.0391\n",
      "Epoch 97/200\n",
      "72/72 [==============================] - 4s 50ms/step - loss: 0.0198 - autoencoder_output_loss: 0.0197 - val_loss: 0.0393 - val_autoencoder_output_loss: 0.0390\n",
      "Epoch 98/200\n",
      "72/72 [==============================] - 3s 46ms/step - loss: 0.0197 - autoencoder_output_loss: 0.0196 - val_loss: 0.0394 - val_autoencoder_output_loss: 0.0390\n",
      "Epoch 99/200\n",
      "72/72 [==============================] - 3s 46ms/step - loss: 0.0197 - autoencoder_output_loss: 0.0195 - val_loss: 0.0394 - val_autoencoder_output_loss: 0.0391\n",
      "Epoch 100/200\n",
      "72/72 [==============================] - 3s 46ms/step - loss: 0.0196 - autoencoder_output_loss: 0.0194 - val_loss: 0.0393 - val_autoencoder_output_loss: 0.0389\n",
      "\n",
      "Epoch 00100: saving model to ./log_weights/F_AE_64_weights_0.0078125.0100.hdf5\n",
      "Epoch 101/200\n",
      "72/72 [==============================] - 3s 44ms/step - loss: 0.0195 - autoencoder_output_loss: 0.0194 - val_loss: 0.0392 - val_autoencoder_output_loss: 0.0389\n",
      "Epoch 102/200\n",
      "72/72 [==============================] - 3s 46ms/step - loss: 0.0194 - autoencoder_output_loss: 0.0192 - val_loss: 0.0391 - val_autoencoder_output_loss: 0.0388\n",
      "Epoch 103/200\n",
      "72/72 [==============================] - 3s 44ms/step - loss: 0.0193 - autoencoder_output_loss: 0.0191 - val_loss: 0.0390 - val_autoencoder_output_loss: 0.0387\n",
      "Epoch 104/200\n",
      "72/72 [==============================] - 3s 45ms/step - loss: 0.0192 - autoencoder_output_loss: 0.0191 - val_loss: 0.0392 - val_autoencoder_output_loss: 0.0388\n",
      "Epoch 105/200\n",
      "72/72 [==============================] - 3s 46ms/step - loss: 0.0191 - autoencoder_output_loss: 0.0190 - val_loss: 0.0391 - val_autoencoder_output_loss: 0.0387\n",
      "Epoch 106/200\n",
      "72/72 [==============================] - 3s 46ms/step - loss: 0.0190 - autoencoder_output_loss: 0.0189 - val_loss: 0.0390 - val_autoencoder_output_loss: 0.0387\n",
      "Epoch 107/200\n",
      "72/72 [==============================] - 3s 46ms/step - loss: 0.0189 - autoencoder_output_loss: 0.0187 - val_loss: 0.0390 - val_autoencoder_output_loss: 0.0386\n",
      "Epoch 108/200\n",
      "72/72 [==============================] - 4s 51ms/step - loss: 0.0188 - autoencoder_output_loss: 0.0187 - val_loss: 0.0389 - val_autoencoder_output_loss: 0.0385\n",
      "Epoch 109/200\n",
      "72/72 [==============================] - 3s 46ms/step - loss: 0.0187 - autoencoder_output_loss: 0.0186 - val_loss: 0.0389 - val_autoencoder_output_loss: 0.0386\n",
      "Epoch 110/200\n",
      "72/72 [==============================] - 3s 45ms/step - loss: 0.0187 - autoencoder_output_loss: 0.0185 - val_loss: 0.0389 - val_autoencoder_output_loss: 0.0385\n",
      "Epoch 111/200\n",
      "72/72 [==============================] - 3s 44ms/step - loss: 0.0186 - autoencoder_output_loss: 0.0184 - val_loss: 0.0388 - val_autoencoder_output_loss: 0.0384\n",
      "Epoch 112/200\n",
      "72/72 [==============================] - 3s 45ms/step - loss: 0.0185 - autoencoder_output_loss: 0.0183 - val_loss: 0.0388 - val_autoencoder_output_loss: 0.0385\n",
      "Epoch 113/200\n",
      "72/72 [==============================] - 3s 45ms/step - loss: 0.0184 - autoencoder_output_loss: 0.0182 - val_loss: 0.0387 - val_autoencoder_output_loss: 0.0384\n",
      "Epoch 114/200\n",
      "72/72 [==============================] - 3s 44ms/step - loss: 0.0182 - autoencoder_output_loss: 0.0181 - val_loss: 0.0387 - val_autoencoder_output_loss: 0.0384\n",
      "Epoch 115/200\n",
      "72/72 [==============================] - 3s 45ms/step - loss: 0.0182 - autoencoder_output_loss: 0.0180 - val_loss: 0.0388 - val_autoencoder_output_loss: 0.0385\n",
      "Epoch 116/200\n",
      "72/72 [==============================] - 3s 45ms/step - loss: 0.0181 - autoencoder_output_loss: 0.0180 - val_loss: 0.0387 - val_autoencoder_output_loss: 0.0383\n",
      "Epoch 117/200\n",
      "72/72 [==============================] - 3s 44ms/step - loss: 0.0180 - autoencoder_output_loss: 0.0179 - val_loss: 0.0387 - val_autoencoder_output_loss: 0.0384\n",
      "Epoch 118/200\n",
      "72/72 [==============================] - 4s 50ms/step - loss: 0.0179 - autoencoder_output_loss: 0.0178 - val_loss: 0.0385 - val_autoencoder_output_loss: 0.0381\n",
      "Epoch 119/200\n",
      "72/72 [==============================] - 4s 62ms/step - loss: 0.0178 - autoencoder_output_loss: 0.0177 - val_loss: 0.0385 - val_autoencoder_output_loss: 0.0382\n",
      "Epoch 120/200\n",
      "72/72 [==============================] - 4s 55ms/step - loss: 0.0178 - autoencoder_output_loss: 0.0177 - val_loss: 0.0387 - val_autoencoder_output_loss: 0.0384\n",
      "Epoch 121/200\n",
      "72/72 [==============================] - 5s 68ms/step - loss: 0.0177 - autoencoder_output_loss: 0.0176 - val_loss: 0.0386 - val_autoencoder_output_loss: 0.0383\n",
      "Epoch 122/200\n",
      "72/72 [==============================] - 5s 68ms/step - loss: 0.0176 - autoencoder_output_loss: 0.0175 - val_loss: 0.0385 - val_autoencoder_output_loss: 0.0381\n",
      "Epoch 123/200\n",
      "72/72 [==============================] - 5s 64ms/step - loss: 0.0175 - autoencoder_output_loss: 0.0174 - val_loss: 0.0387 - val_autoencoder_output_loss: 0.0384\n",
      "Epoch 124/200\n",
      "72/72 [==============================] - 5s 76ms/step - loss: 0.0174 - autoencoder_output_loss: 0.0173 - val_loss: 0.0386 - val_autoencoder_output_loss: 0.0383\n",
      "Epoch 125/200\n",
      "72/72 [==============================] - 6s 84ms/step - loss: 0.0174 - autoencoder_output_loss: 0.0173 - val_loss: 0.0385 - val_autoencoder_output_loss: 0.0382\n",
      "Epoch 126/200\n",
      "72/72 [==============================] - 7s 93ms/step - loss: 0.0173 - autoencoder_output_loss: 0.0172 - val_loss: 0.0385 - val_autoencoder_output_loss: 0.0382\n",
      "Epoch 127/200\n",
      "72/72 [==============================] - 7s 95ms/step - loss: 0.0172 - autoencoder_output_loss: 0.0171 - val_loss: 0.0386 - val_autoencoder_output_loss: 0.0383\n",
      "Epoch 128/200\n",
      "72/72 [==============================] - 8s 110ms/step - loss: 0.0171 - autoencoder_output_loss: 0.0170 - val_loss: 0.0386 - val_autoencoder_output_loss: 0.0382\n",
      "Epoch 129/200\n",
      "72/72 [==============================] - 8s 114ms/step - loss: 0.0171 - autoencoder_output_loss: 0.0170 - val_loss: 0.0387 - val_autoencoder_output_loss: 0.0383\n",
      "Epoch 130/200\n",
      "72/72 [==============================] - 9s 121ms/step - loss: 0.0171 - autoencoder_output_loss: 0.0169 - val_loss: 0.0386 - val_autoencoder_output_loss: 0.0383\n",
      "Epoch 131/200\n",
      "72/72 [==============================] - 11s 148ms/step - loss: 0.0170 - autoencoder_output_loss: 0.0168 - val_loss: 0.0387 - val_autoencoder_output_loss: 0.0383\n",
      "Epoch 132/200\n",
      "72/72 [==============================] - 10s 145ms/step - loss: 0.0169 - autoencoder_output_loss: 0.0167 - val_loss: 0.0385 - val_autoencoder_output_loss: 0.0382\n",
      "Epoch 133/200\n",
      "72/72 [==============================] - 11s 147ms/step - loss: 0.0168 - autoencoder_output_loss: 0.0167 - val_loss: 0.0386 - val_autoencoder_output_loss: 0.0382\n",
      "Epoch 134/200\n",
      "72/72 [==============================] - 10s 139ms/step - loss: 0.0167 - autoencoder_output_loss: 0.0166 - val_loss: 0.0386 - val_autoencoder_output_loss: 0.0383\n",
      "Epoch 135/200\n",
      "72/72 [==============================] - 10s 137ms/step - loss: 0.0166 - autoencoder_output_loss: 0.0165 - val_loss: 0.0387 - val_autoencoder_output_loss: 0.0384\n",
      "Epoch 136/200\n",
      "72/72 [==============================] - 10s 144ms/step - loss: 0.0166 - autoencoder_output_loss: 0.0164 - val_loss: 0.0388 - val_autoencoder_output_loss: 0.0384\n",
      "Epoch 137/200\n",
      "72/72 [==============================] - 10s 145ms/step - loss: 0.0165 - autoencoder_output_loss: 0.0164 - val_loss: 0.0389 - val_autoencoder_output_loss: 0.0385\n",
      "Epoch 138/200\n",
      "72/72 [==============================] - 10s 142ms/step - loss: 0.0164 - autoencoder_output_loss: 0.0163 - val_loss: 0.0388 - val_autoencoder_output_loss: 0.0385\n",
      "Epoch 139/200\n",
      "72/72 [==============================] - 10s 141ms/step - loss: 0.0164 - autoencoder_output_loss: 0.0163 - val_loss: 0.0388 - val_autoencoder_output_loss: 0.0384\n",
      "Epoch 140/200\n",
      "72/72 [==============================] - 11s 148ms/step - loss: 0.0164 - autoencoder_output_loss: 0.0162 - val_loss: 0.0388 - val_autoencoder_output_loss: 0.0384\n",
      "Epoch 141/200\n",
      "72/72 [==============================] - 11s 149ms/step - loss: 0.0163 - autoencoder_output_loss: 0.0161 - val_loss: 0.0389 - val_autoencoder_output_loss: 0.0385\n",
      "Epoch 142/200\n",
      "72/72 [==============================] - 10s 145ms/step - loss: 0.0162 - autoencoder_output_loss: 0.0161 - val_loss: 0.0389 - val_autoencoder_output_loss: 0.0386\n",
      "Epoch 143/200\n",
      "72/72 [==============================] - 10s 140ms/step - loss: 0.0161 - autoencoder_output_loss: 0.0160 - val_loss: 0.0388 - val_autoencoder_output_loss: 0.0384\n",
      "Epoch 144/200\n",
      "72/72 [==============================] - 10s 137ms/step - loss: 0.0160 - autoencoder_output_loss: 0.0159 - val_loss: 0.0389 - val_autoencoder_output_loss: 0.0386\n",
      "Epoch 145/200\n",
      "72/72 [==============================] - 10s 138ms/step - loss: 0.0160 - autoencoder_output_loss: 0.0159 - val_loss: 0.0389 - val_autoencoder_output_loss: 0.0386\n",
      "Epoch 146/200\n",
      "72/72 [==============================] - 10s 142ms/step - loss: 0.0159 - autoencoder_output_loss: 0.0158 - val_loss: 0.0389 - val_autoencoder_output_loss: 0.0385\n",
      "Epoch 147/200\n",
      "72/72 [==============================] - 11s 149ms/step - loss: 0.0159 - autoencoder_output_loss: 0.0158 - val_loss: 0.0390 - val_autoencoder_output_loss: 0.0386\n",
      "Epoch 148/200\n",
      "72/72 [==============================] - 9s 124ms/step - loss: 0.0158 - autoencoder_output_loss: 0.0157 - val_loss: 0.0390 - val_autoencoder_output_loss: 0.0387\n",
      "Epoch 149/200\n",
      "72/72 [==============================] - 10s 137ms/step - loss: 0.0158 - autoencoder_output_loss: 0.0156 - val_loss: 0.0391 - val_autoencoder_output_loss: 0.0387\n",
      "Epoch 150/200\n",
      "72/72 [==============================] - 10s 132ms/step - loss: 0.0157 - autoencoder_output_loss: 0.0156 - val_loss: 0.0390 - val_autoencoder_output_loss: 0.0387\n",
      "Epoch 151/200\n",
      "72/72 [==============================] - 9s 127ms/step - loss: 0.0156 - autoencoder_output_loss: 0.0155 - val_loss: 0.0390 - val_autoencoder_output_loss: 0.0387\n",
      "Epoch 152/200\n",
      "72/72 [==============================] - 8s 115ms/step - loss: 0.0156 - autoencoder_output_loss: 0.0155 - val_loss: 0.0391 - val_autoencoder_output_loss: 0.0386\n",
      "Epoch 153/200\n",
      "72/72 [==============================] - 8s 105ms/step - loss: 0.0156 - autoencoder_output_loss: 0.0154 - val_loss: 0.0392 - val_autoencoder_output_loss: 0.0387\n",
      "Epoch 154/200\n",
      "72/72 [==============================] - 8s 104ms/step - loss: 0.0156 - autoencoder_output_loss: 0.0154 - val_loss: 0.0392 - val_autoencoder_output_loss: 0.0388\n",
      "Epoch 155/200\n",
      "72/72 [==============================] - 8s 110ms/step - loss: 0.0156 - autoencoder_output_loss: 0.0153 - val_loss: 0.0394 - val_autoencoder_output_loss: 0.0390\n",
      "Epoch 156/200\n",
      "72/72 [==============================] - 8s 115ms/step - loss: 0.0155 - autoencoder_output_loss: 0.0152 - val_loss: 0.0395 - val_autoencoder_output_loss: 0.0389\n",
      "Epoch 157/200\n",
      "72/72 [==============================] - 7s 104ms/step - loss: 0.0158 - autoencoder_output_loss: 0.0152 - val_loss: 0.0402 - val_autoencoder_output_loss: 0.0389\n",
      "Epoch 158/200\n",
      "72/72 [==============================] - 8s 105ms/step - loss: 0.0159 - autoencoder_output_loss: 0.0151 - val_loss: 0.0403 - val_autoencoder_output_loss: 0.0389\n",
      "Epoch 159/200\n",
      "72/72 [==============================] - 9s 119ms/step - loss: 0.0156 - autoencoder_output_loss: 0.0151 - val_loss: 0.0398 - val_autoencoder_output_loss: 0.0390\n",
      "Epoch 160/200\n",
      "72/72 [==============================] - 8s 106ms/step - loss: 0.0154 - autoencoder_output_loss: 0.0150 - val_loss: 0.0397 - val_autoencoder_output_loss: 0.0390\n",
      "Epoch 161/200\n",
      "72/72 [==============================] - 8s 106ms/step - loss: 0.0153 - autoencoder_output_loss: 0.0149 - val_loss: 0.0397 - val_autoencoder_output_loss: 0.0392\n",
      "Epoch 162/200\n",
      "72/72 [==============================] - 8s 108ms/step - loss: 0.0151 - autoencoder_output_loss: 0.0149 - val_loss: 0.0398 - val_autoencoder_output_loss: 0.0392\n",
      "Epoch 163/200\n",
      "72/72 [==============================] - 8s 109ms/step - loss: 0.0151 - autoencoder_output_loss: 0.0149 - val_loss: 0.0395 - val_autoencoder_output_loss: 0.0391\n",
      "Epoch 164/200\n",
      "72/72 [==============================] - 7s 99ms/step - loss: 0.0150 - autoencoder_output_loss: 0.0148 - val_loss: 0.0398 - val_autoencoder_output_loss: 0.0393\n",
      "Epoch 165/200\n",
      "72/72 [==============================] - 7s 104ms/step - loss: 0.0150 - autoencoder_output_loss: 0.0147 - val_loss: 0.0403 - val_autoencoder_output_loss: 0.0393\n",
      "Epoch 166/200\n",
      "72/72 [==============================] - 7s 104ms/step - loss: 0.0150 - autoencoder_output_loss: 0.0147 - val_loss: 0.0398 - val_autoencoder_output_loss: 0.0393\n",
      "Epoch 167/200\n",
      "72/72 [==============================] - 8s 104ms/step - loss: 0.0149 - autoencoder_output_loss: 0.0147 - val_loss: 0.0398 - val_autoencoder_output_loss: 0.0394\n",
      "Epoch 168/200\n",
      "72/72 [==============================] - 8s 107ms/step - loss: 0.0149 - autoencoder_output_loss: 0.0146 - val_loss: 0.0401 - val_autoencoder_output_loss: 0.0394\n",
      "Epoch 169/200\n",
      "72/72 [==============================] - 7s 100ms/step - loss: 0.0148 - autoencoder_output_loss: 0.0145 - val_loss: 0.0398 - val_autoencoder_output_loss: 0.0394\n",
      "Epoch 170/200\n",
      "72/72 [==============================] - 7s 100ms/step - loss: 0.0146 - autoencoder_output_loss: 0.0145 - val_loss: 0.0399 - val_autoencoder_output_loss: 0.0395\n",
      "Epoch 171/200\n",
      "72/72 [==============================] - 7s 103ms/step - loss: 0.0146 - autoencoder_output_loss: 0.0145 - val_loss: 0.0400 - val_autoencoder_output_loss: 0.0397\n",
      "Epoch 172/200\n",
      "72/72 [==============================] - 7s 94ms/step - loss: 0.0146 - autoencoder_output_loss: 0.0144 - val_loss: 0.0399 - val_autoencoder_output_loss: 0.0396\n",
      "Epoch 173/200\n",
      "72/72 [==============================] - 6s 87ms/step - loss: 0.0146 - autoencoder_output_loss: 0.0144 - val_loss: 0.0400 - val_autoencoder_output_loss: 0.0396\n",
      "Epoch 174/200\n",
      "72/72 [==============================] - 6s 81ms/step - loss: 0.0144 - autoencoder_output_loss: 0.0143 - val_loss: 0.0401 - val_autoencoder_output_loss: 0.0397\n",
      "Epoch 175/200\n",
      "72/72 [==============================] - 5s 71ms/step - loss: 0.0144 - autoencoder_output_loss: 0.0143 - val_loss: 0.0401 - val_autoencoder_output_loss: 0.0397\n",
      "Epoch 176/200\n",
      "72/72 [==============================] - 5s 67ms/step - loss: 0.0143 - autoencoder_output_loss: 0.0142 - val_loss: 0.0403 - val_autoencoder_output_loss: 0.0399\n",
      "Epoch 177/200\n",
      "72/72 [==============================] - 5s 66ms/step - loss: 0.0143 - autoencoder_output_loss: 0.0142 - val_loss: 0.0402 - val_autoencoder_output_loss: 0.0398\n",
      "Epoch 178/200\n",
      "72/72 [==============================] - 5s 66ms/step - loss: 0.0142 - autoencoder_output_loss: 0.0141 - val_loss: 0.0402 - val_autoencoder_output_loss: 0.0399\n",
      "Epoch 179/200\n",
      "72/72 [==============================] - 5s 75ms/step - loss: 0.0142 - autoencoder_output_loss: 0.0141 - val_loss: 0.0404 - val_autoencoder_output_loss: 0.0400\n",
      "Epoch 180/200\n",
      "72/72 [==============================] - 5s 71ms/step - loss: 0.0141 - autoencoder_output_loss: 0.0140 - val_loss: 0.0404 - val_autoencoder_output_loss: 0.0401\n",
      "Epoch 181/200\n",
      "72/72 [==============================] - 5s 68ms/step - loss: 0.0141 - autoencoder_output_loss: 0.0140 - val_loss: 0.0405 - val_autoencoder_output_loss: 0.0401\n",
      "Epoch 182/200\n",
      "72/72 [==============================] - 5s 67ms/step - loss: 0.0141 - autoencoder_output_loss: 0.0140 - val_loss: 0.0405 - val_autoencoder_output_loss: 0.0401\n",
      "Epoch 183/200\n",
      "72/72 [==============================] - 5s 66ms/step - loss: 0.0140 - autoencoder_output_loss: 0.0139 - val_loss: 0.0405 - val_autoencoder_output_loss: 0.0402\n",
      "Epoch 184/200\n",
      "72/72 [==============================] - 4s 62ms/step - loss: 0.0140 - autoencoder_output_loss: 0.0139 - val_loss: 0.0405 - val_autoencoder_output_loss: 0.0401\n",
      "Epoch 185/200\n",
      "72/72 [==============================] - 4s 53ms/step - loss: 0.0139 - autoencoder_output_loss: 0.0138 - val_loss: 0.0405 - val_autoencoder_output_loss: 0.0402\n",
      "Epoch 186/200\n",
      "72/72 [==============================] - 3s 45ms/step - loss: 0.0139 - autoencoder_output_loss: 0.0138 - val_loss: 0.0406 - val_autoencoder_output_loss: 0.0402\n",
      "Epoch 187/200\n",
      "72/72 [==============================] - 3s 44ms/step - loss: 0.0138 - autoencoder_output_loss: 0.0137 - val_loss: 0.0408 - val_autoencoder_output_loss: 0.0404\n",
      "Epoch 188/200\n",
      "72/72 [==============================] - 3s 45ms/step - loss: 0.0138 - autoencoder_output_loss: 0.0137 - val_loss: 0.0406 - val_autoencoder_output_loss: 0.0403\n",
      "Epoch 189/200\n",
      "72/72 [==============================] - 3s 46ms/step - loss: 0.0137 - autoencoder_output_loss: 0.0136 - val_loss: 0.0408 - val_autoencoder_output_loss: 0.0405\n",
      "Epoch 190/200\n",
      "72/72 [==============================] - 3s 45ms/step - loss: 0.0137 - autoencoder_output_loss: 0.0136 - val_loss: 0.0408 - val_autoencoder_output_loss: 0.0405\n",
      "Epoch 191/200\n",
      "72/72 [==============================] - 4s 51ms/step - loss: 0.0136 - autoencoder_output_loss: 0.0135 - val_loss: 0.0408 - val_autoencoder_output_loss: 0.0404\n",
      "Epoch 192/200\n",
      "72/72 [==============================] - 4s 49ms/step - loss: 0.0136 - autoencoder_output_loss: 0.0135 - val_loss: 0.0411 - val_autoencoder_output_loss: 0.0406\n",
      "Epoch 193/200\n",
      "72/72 [==============================] - 4s 49ms/step - loss: 0.0136 - autoencoder_output_loss: 0.0135 - val_loss: 0.0409 - val_autoencoder_output_loss: 0.0405\n",
      "Epoch 194/200\n",
      "72/72 [==============================] - 3s 46ms/step - loss: 0.0135 - autoencoder_output_loss: 0.0134 - val_loss: 0.0411 - val_autoencoder_output_loss: 0.0407\n",
      "Epoch 195/200\n",
      "72/72 [==============================] - 3s 47ms/step - loss: 0.0135 - autoencoder_output_loss: 0.0134 - val_loss: 0.0412 - val_autoencoder_output_loss: 0.0408\n",
      "Epoch 196/200\n",
      "72/72 [==============================] - 3s 45ms/step - loss: 0.0135 - autoencoder_output_loss: 0.0134 - val_loss: 0.0412 - val_autoencoder_output_loss: 0.0408\n",
      "Epoch 197/200\n",
      "72/72 [==============================] - 3s 46ms/step - loss: 0.0134 - autoencoder_output_loss: 0.0133 - val_loss: 0.0411 - val_autoencoder_output_loss: 0.0408\n",
      "Epoch 198/200\n",
      "72/72 [==============================] - 3s 45ms/step - loss: 0.0133 - autoencoder_output_loss: 0.0132 - val_loss: 0.0413 - val_autoencoder_output_loss: 0.0408\n",
      "Epoch 199/200\n",
      "72/72 [==============================] - 3s 45ms/step - loss: 0.0133 - autoencoder_output_loss: 0.0132 - val_loss: 0.0413 - val_autoencoder_output_loss: 0.0409\n",
      "Epoch 200/200\n",
      "72/72 [==============================] - 4s 52ms/step - loss: 0.0133 - autoencoder_output_loss: 0.0132 - val_loss: 0.0414 - val_autoencoder_output_loss: 0.0410\n",
      "\n",
      "Epoch 00200: saving model to ./log_weights/F_AE_64_weights_0.0078125.0200.hdf5\n"
     ]
    }
   ],
   "source": [
    "model_checkpoint=ModelCheckpoint('./log_weights/F_AE_'+str(key_feture_number)+'_weights_'+str(loss_weight_1)+'.{epoch:04d}.hdf5',period=100,save_weights_only=True,verbose=1)\n",
    "#print_weights = LambdaCallback(on_epoch_end=lambda batch, logs: print(F_AE.layers[1].get_weights()))\n",
    "\n",
    "F_AE_history = F_AE.fit(x_train, [x_train,x_train],\\\n",
    "                        epochs=epochs_number,\\\n",
    "                        batch_size=batch_size_value,\\\n",
    "                        shuffle=True,\\\n",
    "                        validation_data=(x_validate, [x_validate,x_validate]),\\\n",
    "                        callbacks=[model_checkpoint])"
   ]
  },
  {
   "cell_type": "code",
   "execution_count": 12,
   "metadata": {},
   "outputs": [
    {
     "data": {
      "image/png": "[encoded data removed]",
      "text/plain": [
       "<Figure size 432x288 with 1 Axes>"
      ]
     },
     "metadata": {},
     "output_type": "display_data"
    }
   ],
   "source": [
    "loss = F_AE_history.history['loss']\n",
    "val_loss = F_AE_history.history['val_loss']\n",
    "\n",
    "epochs = range(epochs_number)\n",
    "\n",
    "plt.plot(epochs, loss, 'bo', label='Training Loss')\n",
    "plt.plot(epochs, val_loss, 'r', label='Validation Loss')\n",
    "plt.xlabel('Epochs')\n",
    "plt.ylabel('Loss')\n",
    "plt.legend()\n",
    "plt.show()"
   ]
  },
  {
   "cell_type": "code",
   "execution_count": 13,
   "metadata": {},
   "outputs": [
    {
     "data": {
      "image/png": "[encoded data removed]",
      "text/plain": [
       "<Figure size 432x288 with 1 Axes>"
      ]
     },
     "metadata": {},
     "output_type": "display_data"
    }
   ],
   "source": [
    "plt.plot(epochs[250:], loss[250:], 'bo', label='Training Loss')\n",
    "plt.plot(epochs[250:], val_loss[250:], 'r', label='Validation Loss')\n",
    "plt.xlabel('Epochs')\n",
    "plt.ylabel('Loss')\n",
    "plt.legend()\n",
    "plt.show()"
   ]
  },
  {
   "cell_type": "code",
   "execution_count": 14,
   "metadata": {},
   "outputs": [
    {
     "name": "stdout",
     "output_type": "stream",
     "text": [
      "MSE for one-to-one map layer 0.03618742823678825\n",
      "MSE for feature selection layer 0.02922718050406954\n"
     ]
    }
   ],
   "source": [
    "p_data=F_AE.predict(x_test)\n",
    "numbers=x_test.shape[0]*x_test.shape[1]\n",
    "\n",
    "print(\"MSE for one-to-one map layer\",np.sum(np.power(np.array(p_data)[0]-x_test,2))/numbers)\n",
    "print(\"MSE for feature selection layer\",np.sum(np.power(np.array(p_data)[1]-x_test,2))/numbers)"
   ]
  },
  {
   "cell_type": "markdown",
   "metadata": {},
   "source": [
    "---\n",
    "### 3.1.2 Feature selection layer output\n",
    "---"
   ]
  },
  {
   "cell_type": "code",
   "execution_count": 15,
   "metadata": {},
   "outputs": [
    {
     "name": "stdout",
     "output_type": "stream",
     "text": [
      "59\n"
     ]
    }
   ],
   "source": [
    "FS_layer_output=feature_selection_output.predict(x_test)\n",
    "print(np.sum(FS_layer_output[0]>0))"
   ]
  },
  {
   "cell_type": "markdown",
   "metadata": {},
   "source": [
    "---\n",
    "### 3.1.3 Key features show\n",
    "---"
   ]
  },
  {
   "cell_type": "code",
   "execution_count": 16,
   "metadata": {},
   "outputs": [
    {
     "name": "stdout",
     "output_type": "stream",
     "text": [
      "5966\n"
     ]
    }
   ],
   "source": [
    "key_features=F.top_k_keepWeights_1(F_AE.get_layer(index=1).get_weights()[0],key_feture_number)\n",
    "print(np.sum(F_AE.get_layer(index=1).get_weights()[0]>0))"
   ]
  },
  {
   "cell_type": "markdown",
   "metadata": {},
   "source": [
    "# 4 Classifying"
   ]
  },
  {
   "cell_type": "markdown",
   "metadata": {},
   "source": [
    "### 4.1 Extra Trees"
   ]
  },
  {
   "cell_type": "code",
   "execution_count": 17,
   "metadata": {},
   "outputs": [
    {
     "name": "stdout",
     "output_type": "stream",
     "text": [
      "# Estimators:  50\n",
      "Training accuracy： 1.0\n",
      "Training accuracy： 1.0\n",
      "Testing accuracy： 0.9523809523809523\n",
      "Testing accuracy： 0.9523809523809523\n"
     ]
    }
   ],
   "source": [
    "train_feature=C_train_x\n",
    "train_label=C_train_y\n",
    "test_feature=C_test_x\n",
    "test_label=C_test_y\n",
    "p_seed=seed\n",
    "\n",
    "p_n_estimators=50\n",
    "print(\"# Estimators: \",p_n_estimators)\n",
    "F.ETree(train_feature,train_label,test_feature,test_label,p_seed,p_n_estimators)"
   ]
  },
  {
   "cell_type": "code",
   "execution_count": 18,
   "metadata": {},
   "outputs": [],
   "source": [
    "selected_position_list=np.where(key_features>0)[0]"
   ]
  },
  {
   "cell_type": "markdown",
   "metadata": {},
   "source": [
    "---\n",
    "#### 4.1.1. On Identity Selection layer\n",
    "---\n",
    "\n",
    "a) with zeros"
   ]
  },
  {
   "cell_type": "code",
   "execution_count": 19,
   "metadata": {},
   "outputs": [
    {
     "name": "stdout",
     "output_type": "stream",
     "text": [
      "train_feature>0:  58\n",
      "(81, 5966)\n",
      "test_feature>0:  59\n",
      "(21, 5966)\n",
      "# Estimators:  50\n",
      "Training accuracy： 1.0\n",
      "Training accuracy： 1.0\n",
      "Testing accuracy： 0.9047619047619048\n",
      "Testing accuracy： 0.9047619047619048\n",
      "\n",
      "\n",
      "\n"
     ]
    }
   ],
   "source": [
    "train_feature=feature_selection_output.predict(C_train_x)\n",
    "print(\"train_feature>0: \",np.sum(train_feature[0]>0))\n",
    "print(train_feature.shape)\n",
    "train_label=C_train_y\n",
    "test_feature=feature_selection_output.predict(C_test_x)\n",
    "print(\"test_feature>0: \",np.sum(test_feature[0]>0))\n",
    "print(test_feature.shape)\n",
    "test_label=C_test_y\n",
    "p_seed=seed\n",
    "\n",
    "p_n_estimators=50\n",
    "print(\"# Estimators: \",p_n_estimators)\n",
    "F.ETree(train_feature,train_label,test_feature,test_label,p_seed,p_n_estimators)\n",
    "print(\"\\n\\n\")"
   ]
  },
  {
   "cell_type": "markdown",
   "metadata": {},
   "source": [
    "---\n",
    "\n",
    "b) Sparse matrix"
   ]
  },
  {
   "cell_type": "code",
   "execution_count": 20,
   "metadata": {},
   "outputs": [
    {
     "name": "stdout",
     "output_type": "stream",
     "text": [
      "(81, 5966)\n",
      "(21, 5966)\n",
      "# Estimators:  50\n",
      "Training accuracy： 1.0\n",
      "Training accuracy： 1.0\n",
      "Testing accuracy： 0.9047619047619048\n",
      "Testing accuracy： 0.9047619047619048\n",
      "\n",
      "\n",
      "\n"
     ]
    }
   ],
   "source": [
    "train_feature=feature_selection_output.predict(C_train_x)\n",
    "print(train_feature.shape)\n",
    "train_label=C_train_y\n",
    "\n",
    "test_feature=feature_selection_output.predict(C_test_x)\n",
    "print(test_feature.shape)\n",
    "test_label=C_test_y\n",
    "\n",
    "train_feature_sparse=sparse.coo_matrix(train_feature)\n",
    "test_feature_sparse=sparse.coo_matrix(test_feature)\n",
    "\n",
    "p_seed=seed\n",
    "\n",
    "p_n_estimators=50\n",
    "print(\"# Estimators: \",p_n_estimators)\n",
    "F.ETree(train_feature_sparse,train_label,test_feature_sparse,test_label,p_seed,p_n_estimators)\n",
    "print(\"\\n\\n\")"
   ]
  },
  {
   "cell_type": "markdown",
   "metadata": {},
   "source": [
    "---\n",
    "\n",
    "c) Compression"
   ]
  },
  {
   "cell_type": "code",
   "execution_count": 21,
   "metadata": {},
   "outputs": [
    {
     "name": "stdout",
     "output_type": "stream",
     "text": [
      "(81, 64)\n",
      "(21, 64)\n",
      "# Estimators:  50\n",
      "Training accuracy： 1.0\n",
      "Training accuracy： 1.0\n",
      "Testing accuracy： 0.8095238095238095\n",
      "Testing accuracy： 0.8095238095238095\n",
      "\n",
      "\n",
      "\n"
     ]
    }
   ],
   "source": [
    "train_feature_=feature_selection_output.predict(C_train_x)\n",
    "train_feature=F.compress_zero(train_feature_,key_feture_number)\n",
    "print(train_feature.shape)\n",
    "train_label=C_train_y\n",
    "\n",
    "test_feature_=feature_selection_output.predict(C_test_x)\n",
    "test_feature=F.compress_zero(test_feature_,key_feture_number)\n",
    "print(test_feature.shape)\n",
    "test_label=C_test_y\n",
    "\n",
    "p_seed=seed\n",
    "\n",
    "p_n_estimators=50\n",
    "print(\"# Estimators: \",p_n_estimators)\n",
    "F.ETree(train_feature,train_label,test_feature,test_label,p_seed,p_n_estimators)\n",
    "print(\"\\n\\n\")"
   ]
  },
  {
   "cell_type": "markdown",
   "metadata": {},
   "source": [
    "---\n",
    "\n",
    "d) Compression with structure"
   ]
  },
  {
   "cell_type": "code",
   "execution_count": 22,
   "metadata": {},
   "outputs": [
    {
     "name": "stdout",
     "output_type": "stream",
     "text": [
      "(81, 64)\n",
      "(21, 64)\n",
      "# Estimators:  50\n",
      "Training accuracy： 1.0\n",
      "Training accuracy： 1.0\n",
      "Testing accuracy： 0.9047619047619048\n",
      "Testing accuracy： 0.9047619047619048\n",
      "\n",
      "\n",
      "\n"
     ]
    }
   ],
   "source": [
    "train_feature_=feature_selection_output.predict(C_train_x)\n",
    "train_feature=F.compress_zero_withkeystructure(train_feature_,selected_position_list)\n",
    "print(train_feature.shape)\n",
    "train_label=C_train_y\n",
    "\n",
    "test_feature_=feature_selection_output.predict(C_test_x)\n",
    "test_feature=F.compress_zero_withkeystructure(test_feature_,selected_position_list)\n",
    "print(test_feature.shape)\n",
    "test_label=C_test_y\n",
    "\n",
    "p_seed=seed\n",
    "\n",
    "p_n_estimators=50\n",
    "print(\"# Estimators: \",p_n_estimators)\n",
    "F.ETree(train_feature,train_label,test_feature,test_label,p_seed,p_n_estimators)\n",
    "print(\"\\n\\n\")"
   ]
  },
  {
   "cell_type": "markdown",
   "metadata": {},
   "source": [
    "---\n",
    "#### 4.1.2. On Original Selection\n",
    "---\n",
    "\n",
    "a) with zeros"
   ]
  },
  {
   "cell_type": "code",
   "execution_count": 23,
   "metadata": {},
   "outputs": [
    {
     "name": "stdout",
     "output_type": "stream",
     "text": [
      "train_feature>0:  58\n",
      "(81, 5966)\n",
      "test_feature>0:  59\n",
      "(21, 5966)\n",
      "# Estimators:  50\n",
      "Training accuracy： 1.0\n",
      "Training accuracy： 1.0\n",
      "Testing accuracy： 0.9047619047619048\n",
      "Testing accuracy： 0.9047619047619048\n",
      "\n",
      "\n",
      "\n"
     ]
    }
   ],
   "source": [
    "train_feature=np.multiply(C_train_x, key_features)\n",
    "print(\"train_feature>0: \",np.sum(train_feature[0]>0))\n",
    "print(train_feature.shape)\n",
    "train_label=C_train_y\n",
    "\n",
    "test_feature=np.multiply(C_test_x, key_features)\n",
    "print(\"test_feature>0: \",np.sum(test_feature[0]>0))\n",
    "print(test_feature.shape)\n",
    "test_label=C_test_y\n",
    "\n",
    "p_seed=seed\n",
    "\n",
    "p_n_estimators=50\n",
    "print(\"# Estimators: \",p_n_estimators)\n",
    "F.ETree(train_feature,train_label,test_feature,test_label,p_seed,p_n_estimators)\n",
    "print(\"\\n\\n\")"
   ]
  },
  {
   "cell_type": "markdown",
   "metadata": {},
   "source": [
    "---\n",
    "\n",
    "b) Sparse matrix"
   ]
  },
  {
   "cell_type": "code",
   "execution_count": 24,
   "metadata": {},
   "outputs": [
    {
     "name": "stdout",
     "output_type": "stream",
     "text": [
      "(81, 5966)\n",
      "(21, 5966)\n",
      "# Estimators:  50\n",
      "Training accuracy： 1.0\n",
      "Training accuracy： 1.0\n",
      "Testing accuracy： 0.9047619047619048\n",
      "Testing accuracy： 0.9047619047619048\n",
      "\n",
      "\n",
      "\n"
     ]
    }
   ],
   "source": [
    "train_feature=np.multiply(C_train_x, key_features)\n",
    "print(train_feature.shape)\n",
    "train_label=C_train_y\n",
    "\n",
    "test_feature=np.multiply(C_test_x, key_features)\n",
    "print(test_feature.shape)\n",
    "test_label=C_test_y\n",
    "\n",
    "train_feature_sparse=sparse.coo_matrix(train_feature)\n",
    "test_feature_sparse=sparse.coo_matrix(test_feature)\n",
    "\n",
    "p_seed=seed\n",
    "\n",
    "p_n_estimators=50\n",
    "print(\"# Estimators: \",p_n_estimators)\n",
    "F.ETree(train_feature_sparse,train_label,test_feature_sparse,test_label,p_seed,p_n_estimators)\n",
    "print(\"\\n\\n\")"
   ]
  },
  {
   "cell_type": "markdown",
   "metadata": {},
   "source": [
    "---\n",
    "\n",
    "c) Compression"
   ]
  },
  {
   "cell_type": "code",
   "execution_count": 25,
   "metadata": {},
   "outputs": [
    {
     "name": "stdout",
     "output_type": "stream",
     "text": [
      "(81, 64)\n",
      "(21, 64)\n",
      "# Estimators:  50\n",
      "Training accuracy： 1.0\n",
      "Training accuracy： 1.0\n",
      "Testing accuracy： 0.6666666666666666\n",
      "Testing accuracy： 0.6666666666666666\n",
      "\n",
      "\n",
      "\n"
     ]
    }
   ],
   "source": [
    "train_feature_=np.multiply(C_train_x, key_features)\n",
    "train_feature=F.compress_zero(train_feature_,key_feture_number)\n",
    "print(train_feature.shape)\n",
    "train_label=C_train_y\n",
    "\n",
    "test_feature_=np.multiply(C_test_x, key_features)\n",
    "test_feature=F.compress_zero(test_feature_,key_feture_number)\n",
    "print(test_feature.shape)\n",
    "test_label=C_test_y\n",
    "\n",
    "p_seed=seed\n",
    "\n",
    "p_n_estimators=50\n",
    "print(\"# Estimators: \",p_n_estimators)\n",
    "F.ETree(train_feature,train_label,test_feature,test_label,p_seed,p_n_estimators)\n",
    "print(\"\\n\\n\")"
   ]
  },
  {
   "cell_type": "markdown",
   "metadata": {},
   "source": [
    "---\n",
    "\n",
    "d) Compression with structure"
   ]
  },
  {
   "cell_type": "code",
   "execution_count": 26,
   "metadata": {},
   "outputs": [
    {
     "name": "stdout",
     "output_type": "stream",
     "text": [
      "(81, 64)\n",
      "(21, 64)\n",
      "# Estimators:  50\n",
      "Training accuracy： 1.0\n",
      "Training accuracy： 1.0\n",
      "Testing accuracy： 0.9047619047619048\n",
      "Testing accuracy： 0.9047619047619048\n",
      "\n",
      "\n",
      "\n"
     ]
    }
   ],
   "source": [
    "train_feature_=np.multiply(C_train_x, key_features)\n",
    "train_feature=F.compress_zero_withkeystructure(train_feature_,selected_position_list)\n",
    "print(train_feature.shape)\n",
    "train_label=C_train_y\n",
    "\n",
    "test_feature_=np.multiply(C_test_x, key_features)\n",
    "test_feature=F.compress_zero_withkeystructure(test_feature_,selected_position_list)\n",
    "print(test_feature.shape)\n",
    "test_label=C_test_y\n",
    "\n",
    "p_seed=seed\n",
    "\n",
    "p_n_estimators=50\n",
    "print(\"# Estimators: \",p_n_estimators)\n",
    "F.ETree(train_feature,train_label,test_feature,test_label,p_seed,p_n_estimators)\n",
    "print(\"\\n\\n\")"
   ]
  },
  {
   "cell_type": "markdown",
   "metadata": {},
   "source": [
    "---\n",
    "#### 4.1.3. Latent space\n",
    "---"
   ]
  },
  {
   "cell_type": "code",
   "execution_count": 27,
   "metadata": {},
   "outputs": [
    {
     "name": "stdout",
     "output_type": "stream",
     "text": [
      "(81, 64)\n",
      "(21, 64)\n",
      "# Estimators:  50\n",
      "Training accuracy： 1.0\n",
      "Training accuracy： 1.0\n",
      "Testing accuracy： 0.8571428571428571\n",
      "Testing accuracy： 0.8571428571428571\n",
      "\n",
      "\n",
      "\n"
     ]
    }
   ],
   "source": [
    "train_feature=latent_encoder_score_F_AE.predict(C_train_x)\n",
    "print(train_feature.shape)\n",
    "train_label=C_train_y\n",
    "test_feature=latent_encoder_score_F_AE.predict(C_test_x)\n",
    "print(test_feature.shape)\n",
    "test_label=C_test_y\n",
    "p_seed=seed\n",
    "p_n_estimators=50\n",
    "print(\"# Estimators: \",p_n_estimators)\n",
    "F.ETree(train_feature,train_label,test_feature,test_label,p_seed,p_n_estimators)\n",
    "print(\"\\n\\n\")"
   ]
  },
  {
   "cell_type": "code",
   "execution_count": 28,
   "metadata": {},
   "outputs": [
    {
     "name": "stdout",
     "output_type": "stream",
     "text": [
      "(81, 64)\n",
      "(21, 64)\n",
      "# Estimators:  50\n",
      "Training accuracy： 1.0\n",
      "Training accuracy： 1.0\n",
      "Testing accuracy： 0.9047619047619048\n",
      "Testing accuracy： 0.9047619047619048\n",
      "\n",
      "\n",
      "\n"
     ]
    }
   ],
   "source": [
    "train_feature=latent_encoder_choose_F_AE.predict(C_train_x)\n",
    "print(train_feature.shape)\n",
    "train_label=C_train_y\n",
    "test_feature=latent_encoder_choose_F_AE.predict(C_test_x)\n",
    "print(test_feature.shape)\n",
    "test_label=C_test_y\n",
    "p_seed=seed\n",
    "p_n_estimators=50\n",
    "print(\"# Estimators: \",p_n_estimators)\n",
    "F.ETree(train_feature,train_label,test_feature,test_label,p_seed,p_n_estimators)\n",
    "print(\"\\n\\n\")"
   ]
  },
  {
   "cell_type": "markdown",
   "metadata": {},
   "source": [
    "# 6. Reconstruction loss"
   ]
  },
  {
   "cell_type": "code",
   "execution_count": 29,
   "metadata": {},
   "outputs": [],
   "source": [
    "from sklearn.linear_model import LinearRegression\n",
    "\n",
    "def mse_check(train, test):\n",
    "    LR = LinearRegression(n_jobs = -1)\n",
    "    LR.fit(train[0], train[1])\n",
    "    MSELR = ((LR.predict(test[0]) - test[1]) ** 2).mean()\n",
    "    return MSELR"
   ]
  },
  {
   "cell_type": "code",
   "execution_count": 30,
   "metadata": {},
   "outputs": [
    {
     "name": "stdout",
     "output_type": "stream",
     "text": [
      "(81, 64)\n",
      "(21, 64)\n",
      "0.14407704574518268\n"
     ]
    }
   ],
   "source": [
    "train_feature_=np.multiply(C_train_x, key_features)\n",
    "C_train_selected_x=F.compress_zero_withkeystructure(train_feature_,selected_position_list)\n",
    "print(C_train_selected_x.shape)\n",
    "\n",
    "test_feature_=np.multiply(C_test_x, key_features)\n",
    "C_test_selected_x=F.compress_zero_withkeystructure(test_feature_,selected_position_list)\n",
    "print(C_test_selected_x.shape)\n",
    "\n",
    "\n",
    "train_feature_tuple=(C_train_selected_x,C_train_x)\n",
    "test_feature_tuple=(C_test_selected_x,C_test_x)\n",
    "\n",
    "reconstruction_loss=mse_check(train_feature_tuple, test_feature_tuple)\n",
    "print(reconstruction_loss)"
   ]
  },
  {
   "cell_type": "markdown",
   "metadata": {},
   "source": [
    "# 7.NMI and ACC for clustering"
   ]
  },
  {
   "cell_type": "code",
   "execution_count": 31,
   "metadata": {},
   "outputs": [],
   "source": [
    "num_cluster=len(np.unique(C_test_y))"
   ]
  },
  {
   "cell_type": "code",
   "execution_count": 32,
   "metadata": {},
   "outputs": [
    {
     "name": "stderr",
     "output_type": "stream",
     "text": [
      "/usr/local/lib/python3.7/site-packages/sklearn/utils/linear_assignment_.py:22: FutureWarning: The linear_assignment_ module is deprecated in 0.21 and will be removed from 0.23. Use scipy.optimize.linear_sum_assignment instead.\n",
      "  FutureWarning)\n",
      "/usr/local/lib/python3.7/site-packages/sklearn/utils/linear_assignment_.py:128: FutureWarning: The linear_assignment function is deprecated in 0.21 and will be removed from 0.23. Use scipy.optimize.linear_sum_assignment instead.\n",
      "  FutureWarning)\n",
      "/usr/local/lib/python3.7/site-packages/sklearn/utils/linear_assignment_.py:128: FutureWarning: The linear_assignment function is deprecated in 0.21 and will be removed from 0.23. Use scipy.optimize.linear_sum_assignment instead.\n",
      "  FutureWarning)\n",
      "/usr/local/lib/python3.7/site-packages/sklearn/utils/linear_assignment_.py:128: FutureWarning: The linear_assignment function is deprecated in 0.21 and will be removed from 0.23. Use scipy.optimize.linear_sum_assignment instead.\n",
      "  FutureWarning)\n",
      "/usr/local/lib/python3.7/site-packages/sklearn/utils/linear_assignment_.py:128: FutureWarning: The linear_assignment function is deprecated in 0.21 and will be removed from 0.23. Use scipy.optimize.linear_sum_assignment instead.\n",
      "  FutureWarning)\n",
      "/usr/local/lib/python3.7/site-packages/sklearn/utils/linear_assignment_.py:128: FutureWarning: The linear_assignment function is deprecated in 0.21 and will be removed from 0.23. Use scipy.optimize.linear_sum_assignment instead.\n",
      "  FutureWarning)\n",
      "/usr/local/lib/python3.7/site-packages/sklearn/utils/linear_assignment_.py:128: FutureWarning: The linear_assignment function is deprecated in 0.21 and will be removed from 0.23. Use scipy.optimize.linear_sum_assignment instead.\n",
      "  FutureWarning)\n",
      "/usr/local/lib/python3.7/site-packages/sklearn/utils/linear_assignment_.py:128: FutureWarning: The linear_assignment function is deprecated in 0.21 and will be removed from 0.23. Use scipy.optimize.linear_sum_assignment instead.\n",
      "  FutureWarning)\n",
      "/usr/local/lib/python3.7/site-packages/sklearn/utils/linear_assignment_.py:128: FutureWarning: The linear_assignment function is deprecated in 0.21 and will be removed from 0.23. Use scipy.optimize.linear_sum_assignment instead.\n",
      "  FutureWarning)\n",
      "/usr/local/lib/python3.7/site-packages/sklearn/utils/linear_assignment_.py:128: FutureWarning: The linear_assignment function is deprecated in 0.21 and will be removed from 0.23. Use scipy.optimize.linear_sum_assignment instead.\n",
      "  FutureWarning)\n",
      "/usr/local/lib/python3.7/site-packages/sklearn/utils/linear_assignment_.py:128: FutureWarning: The linear_assignment function is deprecated in 0.21 and will be removed from 0.23. Use scipy.optimize.linear_sum_assignment instead.\n",
      "  FutureWarning)\n",
      "/usr/local/lib/python3.7/site-packages/sklearn/utils/linear_assignment_.py:128: FutureWarning: The linear_assignment function is deprecated in 0.21 and will be removed from 0.23. Use scipy.optimize.linear_sum_assignment instead.\n",
      "  FutureWarning)\n",
      "/usr/local/lib/python3.7/site-packages/sklearn/utils/linear_assignment_.py:128: FutureWarning: The linear_assignment function is deprecated in 0.21 and will be removed from 0.23. Use scipy.optimize.linear_sum_assignment instead.\n",
      "  FutureWarning)\n"
     ]
    },
    {
     "name": "stdout",
     "output_type": "stream",
     "text": [
      "NMI: 0.08175661192632794\n",
      "ACC: 0.6190476190476188\n"
     ]
    },
    {
     "name": "stderr",
     "output_type": "stream",
     "text": [
      "/usr/local/lib/python3.7/site-packages/sklearn/utils/linear_assignment_.py:128: FutureWarning: The linear_assignment function is deprecated in 0.21 and will be removed from 0.23. Use scipy.optimize.linear_sum_assignment instead.\n",
      "  FutureWarning)\n",
      "/usr/local/lib/python3.7/site-packages/sklearn/utils/linear_assignment_.py:128: FutureWarning: The linear_assignment function is deprecated in 0.21 and will be removed from 0.23. Use scipy.optimize.linear_sum_assignment instead.\n",
      "  FutureWarning)\n",
      "/usr/local/lib/python3.7/site-packages/sklearn/utils/linear_assignment_.py:128: FutureWarning: The linear_assignment function is deprecated in 0.21 and will be removed from 0.23. Use scipy.optimize.linear_sum_assignment instead.\n",
      "  FutureWarning)\n",
      "/usr/local/lib/python3.7/site-packages/sklearn/utils/linear_assignment_.py:128: FutureWarning: The linear_assignment function is deprecated in 0.21 and will be removed from 0.23. Use scipy.optimize.linear_sum_assignment instead.\n",
      "  FutureWarning)\n",
      "/usr/local/lib/python3.7/site-packages/sklearn/utils/linear_assignment_.py:128: FutureWarning: The linear_assignment function is deprecated in 0.21 and will be removed from 0.23. Use scipy.optimize.linear_sum_assignment instead.\n",
      "  FutureWarning)\n",
      "/usr/local/lib/python3.7/site-packages/sklearn/utils/linear_assignment_.py:128: FutureWarning: The linear_assignment function is deprecated in 0.21 and will be removed from 0.23. Use scipy.optimize.linear_sum_assignment instead.\n",
      "  FutureWarning)\n",
      "/usr/local/lib/python3.7/site-packages/sklearn/utils/linear_assignment_.py:128: FutureWarning: The linear_assignment function is deprecated in 0.21 and will be removed from 0.23. Use scipy.optimize.linear_sum_assignment instead.\n",
      "  FutureWarning)\n",
      "/usr/local/lib/python3.7/site-packages/sklearn/utils/linear_assignment_.py:128: FutureWarning: The linear_assignment function is deprecated in 0.21 and will be removed from 0.23. Use scipy.optimize.linear_sum_assignment instead.\n",
      "  FutureWarning)\n"
     ]
    }
   ],
   "source": [
    "from skfeature.utility import unsupervised_evaluation\n",
    "\n",
    "#C_test_selected_y_=np.array([np.argmax(one_hot)for one_hot in C_test_selected_y])\n",
    "\n",
    "# perform kmeans clustering based on the selected features and repeats 20 times\n",
    "nmi_total = 0\n",
    "acc_total = 0\n",
    "\n",
    "\n",
    "for i in range(0, 20):\n",
    "    nmi, acc = unsupervised_evaluation.evaluation(X_selected=C_test_selected_x, n_clusters=num_cluster,y=C_test_y)\n",
    "    nmi_total += nmi\n",
    "    acc_total += acc\n",
    "\n",
    "# output the average NMI and average ACC\n",
    "print('NMI:', float(nmi_total)/20)\n",
    "print('ACC:', float(acc_total)/20)"
   ]
  },
  {
   "cell_type": "code",
   "execution_count": null,
   "metadata": {},
   "outputs": [],
   "source": []
  }
 ],
 "metadata": {
  "kernelspec": {
   "display_name": "Python 3",
   "language": "python",
   "name": "python3"
  },
  "language_info": {
   "codemirror_mode": {
    "name": "ipython",
    "version": 3
   },
   "file_extension": ".py",
   "mimetype": "text/x-python",
   "name": "python",
   "nbconvert_exporter": "python",
   "pygments_lexer": "ipython3",
   "version": "3.8.6"
  },
  "widgets": {
   "application/vnd.jupyter.widget-state+json": {
    "state": {},
    "version_major": 2,
    "version_minor": 0
   }
  }
 },
 "nbformat": 4,
 "nbformat_minor": 4
}
