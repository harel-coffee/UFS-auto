{
 "cells": [
  {
   "cell_type": "markdown",
   "metadata": {},
   "source": [
    "# 1. Import libraries"
   ]
  },
  {
   "cell_type": "code",
   "execution_count": 1,
   "metadata": {
    "scrolled": true
   },
   "outputs": [
    {
     "name": "stderr",
     "output_type": "stream",
     "text": [
      "/usr/local/lib/python3.7/site-packages/tensorflow/python/framework/dtypes.py:516: FutureWarning: Passing (type, 1) or '1type' as a synonym of type is deprecated; in a future version of numpy, it will be understood as (type, (1,)) / '(1,)type'.\n",
      "  _np_qint8 = np.dtype([(\"qint8\", np.int8, 1)])\n",
      "/usr/local/lib/python3.7/site-packages/tensorflow/python/framework/dtypes.py:517: FutureWarning: Passing (type, 1) or '1type' as a synonym of type is deprecated; in a future version of numpy, it will be understood as (type, (1,)) / '(1,)type'.\n",
      "  _np_quint8 = np.dtype([(\"quint8\", np.uint8, 1)])\n",
      "/usr/local/lib/python3.7/site-packages/tensorflow/python/framework/dtypes.py:518: FutureWarning: Passing (type, 1) or '1type' as a synonym of type is deprecated; in a future version of numpy, it will be understood as (type, (1,)) / '(1,)type'.\n",
      "  _np_qint16 = np.dtype([(\"qint16\", np.int16, 1)])\n",
      "/usr/local/lib/python3.7/site-packages/tensorflow/python/framework/dtypes.py:519: FutureWarning: Passing (type, 1) or '1type' as a synonym of type is deprecated; in a future version of numpy, it will be understood as (type, (1,)) / '(1,)type'.\n",
      "  _np_quint16 = np.dtype([(\"quint16\", np.uint16, 1)])\n",
      "/usr/local/lib/python3.7/site-packages/tensorflow/python/framework/dtypes.py:520: FutureWarning: Passing (type, 1) or '1type' as a synonym of type is deprecated; in a future version of numpy, it will be understood as (type, (1,)) / '(1,)type'.\n",
      "  _np_qint32 = np.dtype([(\"qint32\", np.int32, 1)])\n",
      "/usr/local/lib/python3.7/site-packages/tensorflow/python/framework/dtypes.py:525: FutureWarning: Passing (type, 1) or '1type' as a synonym of type is deprecated; in a future version of numpy, it will be understood as (type, (1,)) / '(1,)type'.\n",
      "  np_resource = np.dtype([(\"resource\", np.ubyte, 1)])\n",
      "/usr/local/lib/python3.7/site-packages/tensorboard/compat/tensorflow_stub/dtypes.py:541: FutureWarning: Passing (type, 1) or '1type' as a synonym of type is deprecated; in a future version of numpy, it will be understood as (type, (1,)) / '(1,)type'.\n",
      "  _np_qint8 = np.dtype([(\"qint8\", np.int8, 1)])\n",
      "/usr/local/lib/python3.7/site-packages/tensorboard/compat/tensorflow_stub/dtypes.py:542: FutureWarning: Passing (type, 1) or '1type' as a synonym of type is deprecated; in a future version of numpy, it will be understood as (type, (1,)) / '(1,)type'.\n",
      "  _np_quint8 = np.dtype([(\"quint8\", np.uint8, 1)])\n",
      "/usr/local/lib/python3.7/site-packages/tensorboard/compat/tensorflow_stub/dtypes.py:543: FutureWarning: Passing (type, 1) or '1type' as a synonym of type is deprecated; in a future version of numpy, it will be understood as (type, (1,)) / '(1,)type'.\n",
      "  _np_qint16 = np.dtype([(\"qint16\", np.int16, 1)])\n",
      "/usr/local/lib/python3.7/site-packages/tensorboard/compat/tensorflow_stub/dtypes.py:544: FutureWarning: Passing (type, 1) or '1type' as a synonym of type is deprecated; in a future version of numpy, it will be understood as (type, (1,)) / '(1,)type'.\n",
      "  _np_quint16 = np.dtype([(\"quint16\", np.uint16, 1)])\n",
      "/usr/local/lib/python3.7/site-packages/tensorboard/compat/tensorflow_stub/dtypes.py:545: FutureWarning: Passing (type, 1) or '1type' as a synonym of type is deprecated; in a future version of numpy, it will be understood as (type, (1,)) / '(1,)type'.\n",
      "  _np_qint32 = np.dtype([(\"qint32\", np.int32, 1)])\n",
      "/usr/local/lib/python3.7/site-packages/tensorboard/compat/tensorflow_stub/dtypes.py:550: FutureWarning: Passing (type, 1) or '1type' as a synonym of type is deprecated; in a future version of numpy, it will be understood as (type, (1,)) / '(1,)type'.\n",
      "  np_resource = np.dtype([(\"resource\", np.ubyte, 1)])\n",
      "Using TensorFlow backend.\n"
     ]
    }
   ],
   "source": [
    "#----------------------------Reproducible----------------------------------------------------------------------------------------\n",
    "import numpy as np\n",
    "import tensorflow as tf\n",
    "import random as rn\n",
    "import os\n",
    "\n",
    "seed=0\n",
    "os.environ['PYTHONHASHSEED'] = str(seed)\n",
    "\n",
    "np.random.seed(seed)\n",
    "rn.seed(seed)\n",
    "#session_conf = tf.ConfigProto(intra_op_parallelism_threads=1, inter_op_parallelism_threads=1)\n",
    "session_conf =tf.compat.v1.ConfigProto(intra_op_parallelism_threads=1, inter_op_parallelism_threads=1)\n",
    "\n",
    "from keras import backend as K\n",
    "\n",
    "#tf.set_random_seed(seed)\n",
    "tf.compat.v1.set_random_seed(seed)\n",
    "#sess = tf.Session(graph=tf.get_default_graph(), config=session_conf)\n",
    "sess = tf.compat.v1.Session(graph=tf.compat.v1.get_default_graph(), config=session_conf)\n",
    "\n",
    "K.set_session(sess)\n",
    "#----------------------------Reproducible----------------------------------------------------------------------------------------\n",
    "\n",
    "os.environ['TF_CPP_MIN_LOG_LEVEL'] = '3'\n",
    "\n",
    "#--------------------------------------------------------------------------------------------------------------------------------\n",
    "from keras.datasets import mnist\n",
    "from keras.models import Model\n",
    "from keras.layers import Dense, Input, Flatten, Activation, Dropout, Layer\n",
    "from keras.layers.normalization import BatchNormalization\n",
    "from keras.utils import to_categorical\n",
    "from keras import optimizers,initializers,constraints,regularizers\n",
    "from keras import backend as K\n",
    "from keras.callbacks import LambdaCallback,ModelCheckpoint\n",
    "from keras.utils import plot_model\n",
    "\n",
    "from sklearn.model_selection import StratifiedKFold\n",
    "from sklearn.ensemble import ExtraTreesClassifier\n",
    "from sklearn import svm\n",
    "from sklearn.model_selection import cross_val_score\n",
    "from sklearn.model_selection import ShuffleSplit\n",
    "from sklearn.model_selection import train_test_split\n",
    "from sklearn.metrics import accuracy_score\n",
    "from sklearn.svm import SVC\n",
    "\n",
    "import h5py\n",
    "import math\n",
    "import matplotlib\n",
    "import matplotlib.pyplot as plt\n",
    "import matplotlib.cm as cm\n",
    "%matplotlib inline\n",
    "matplotlib.style.use('ggplot')\n",
    "\n",
    "import random\n",
    "import scipy.sparse as sparse\n",
    "import scipy.io\n",
    "from sklearn.preprocessing import MinMaxScaler\n",
    "from sklearn.preprocessing import StandardScaler\n",
    "\n",
    "#--------------------------------------------------------------------------------------------------------------------------------\n",
    "#Import ourslef defined methods\n",
    "import sys\n",
    "sys.path.append(r\"./Defined\")\n",
    "import Functions as F\n",
    "\n",
    "# The following code should be added before the keras model\n",
    "#np.random.seed(seed)"
   ]
  },
  {
   "cell_type": "markdown",
   "metadata": {},
   "source": [
    "# 2. Loading data"
   ]
  },
  {
   "cell_type": "code",
   "execution_count": 2,
   "metadata": {},
   "outputs": [],
   "source": [
    "data_path=\"./Dataset/SMK_CAN_187.mat\"\n",
    "Data = scipy.io.loadmat(data_path)\n",
    "\n",
    "data_arr=Data['X']\n",
    "label_arr=Data['Y'][:, 0]-1"
   ]
  },
  {
   "cell_type": "code",
   "execution_count": 3,
   "metadata": {},
   "outputs": [],
   "source": [
    "Data=StandardScaler().fit_transform(data_arr)\n",
    "#label_arr=to_categorical(label_arr_)"
   ]
  },
  {
   "cell_type": "code",
   "execution_count": 4,
   "metadata": {},
   "outputs": [
    {
     "data": {
      "text/plain": [
       "(187, 19993)"
      ]
     },
     "execution_count": 4,
     "metadata": {},
     "output_type": "execute_result"
    }
   ],
   "source": [
    "Data.shape"
   ]
  },
  {
   "cell_type": "code",
   "execution_count": 5,
   "metadata": {},
   "outputs": [
    {
     "data": {
      "text/plain": [
       "(187,)"
      ]
     },
     "execution_count": 5,
     "metadata": {},
     "output_type": "execute_result"
    }
   ],
   "source": [
    "label_arr.shape"
   ]
  },
  {
   "cell_type": "code",
   "execution_count": 6,
   "metadata": {},
   "outputs": [
    {
     "name": "stdout",
     "output_type": "stream",
     "text": [
      "Shape of C_train_x: (149, 19993)\n",
      "Shape of C_train_y: (149,)\n",
      "Shape of C_test_x: (38, 19993)\n",
      "Shape of C_test_y: (38,)\n",
      "Shape of x_train: (134, 19993)\n",
      "Shape of x_test: (38, 19993)\n",
      "Shape of x_validate: (15, 19993)\n",
      "Shape of y_train: (134,)\n",
      "Shape of y_test: (38,)\n",
      "Shape of y_validate: (15,)\n"
     ]
    },
    {
     "data": {
      "text/plain": [
       "'\\ny_train_onehot = to_categorical(y_train_)\\ny_validate_onehot = to_categorical(y_validate_)\\ny_test_onehot = to_categorical(C_test_y)\\n'"
      ]
     },
     "execution_count": 6,
     "metadata": {},
     "output_type": "execute_result"
    }
   ],
   "source": [
    "C_train_x,C_test_x,C_train_y,C_test_y= train_test_split(data_arr,label_arr,test_size=0.2,random_state=seed)\n",
    "x_train,x_validate,y_train,y_validate= train_test_split(C_train_x,C_train_y,test_size=0.1,random_state=seed)\n",
    "\n",
    "print('Shape of C_train_x: ' + str(C_train_x.shape)) \n",
    "print('Shape of C_train_y: ' + str(C_train_y.shape)) \n",
    "print('Shape of C_test_x: ' + str(C_test_x.shape)) \n",
    "print('Shape of C_test_y: ' + str(C_test_y.shape)) \n",
    "\n",
    "x_test=C_test_x\n",
    "y_test=C_test_y\n",
    "\n",
    "print('Shape of x_train: ' + str(x_train.shape)) \n",
    "print('Shape of x_test: ' + str(x_test.shape)) \n",
    "print('Shape of x_validate: ' + str(x_validate.shape))\n",
    "print('Shape of y_train: ' + str(y_train.shape))\n",
    "print('Shape of y_test: ' + str(y_test.shape))\n",
    "print('Shape of y_validate: ' + str(y_validate.shape))\n",
    "\n",
    "'''\n",
    "y_train_onehot = to_categorical(y_train_)\n",
    "y_validate_onehot = to_categorical(y_validate_)\n",
    "y_test_onehot = to_categorical(C_test_y)\n",
    "'''"
   ]
  },
  {
   "cell_type": "code",
   "execution_count": 7,
   "metadata": {},
   "outputs": [],
   "source": [
    "key_feture_number=64"
   ]
  },
  {
   "cell_type": "markdown",
   "metadata": {},
   "source": [
    "# 3.Model"
   ]
  },
  {
   "cell_type": "code",
   "execution_count": 8,
   "metadata": {},
   "outputs": [],
   "source": [
    "np.random.seed(seed)\n",
    "\n",
    "#--------------------------------------------------------------------------------------------------------------------------------\n",
    "class Feature_Select_Layer(Layer):\n",
    "    \n",
    "    def __init__(self, output_dim, **kwargs):\n",
    "        super(Feature_Select_Layer, self).__init__(**kwargs)\n",
    "        self.output_dim = output_dim\n",
    "\n",
    "    def build(self, input_shape):\n",
    "        self.kernel = self.add_weight(name='kernel',  \n",
    "                                      shape=(input_shape[1],),\n",
    "                                      initializer=initializers.RandomUniform(minval=0.999999, maxval=0.9999999, seed=seed),\n",
    "                                      trainable=True)\n",
    "        super(Feature_Select_Layer, self).build(input_shape)\n",
    "    \n",
    "    def call(self, x, selection=False,k=key_feture_number):\n",
    "        kernel=K.pow(self.kernel,2)       \n",
    "        if selection:\n",
    "            kernel_=K.transpose(kernel)\n",
    "            kth_largest = tf.math.top_k(kernel_, k=k)[0][-1]\n",
    "            kernel = tf.where(condition=K.less(kernel,kth_largest),x=K.zeros_like(kernel),y=kernel)        \n",
    "        return K.dot(x, tf.linalg.tensor_diag(kernel))\n",
    "\n",
    "    def compute_output_shape(self, input_shape):\n",
    "        return (input_shape[0], self.output_dim)\n",
    "\n",
    "#--------------------------------------------------------------------------------------------------------------------------------\n",
    "def Autoencoder(p_data_feature=x_train.shape[1],\\\n",
    "                p_encoding_dim=key_feture_number,\\\n",
    "                p_learning_rate= 1E-3):\n",
    "    input_img = Input(shape=(p_data_feature,), name='input_img')\n",
    "\n",
    "    encoded = Dense(p_encoding_dim, activation='linear',kernel_initializer=initializers.glorot_uniform(seed))(input_img)\n",
    "    bottleneck=encoded\n",
    "    decoded = Dense(p_data_feature, activation='linear',kernel_initializer=initializers.glorot_uniform(seed))(encoded)\n",
    "\n",
    "    latent_encoder = Model(input_img, bottleneck)\n",
    "    autoencoder = Model(input_img, decoded)\n",
    "    \n",
    "    autoencoder.compile(loss='mean_squared_error', optimizer=optimizers.Adam(lr=p_learning_rate))\n",
    "    \n",
    "    print('Autoencoder Structure-------------------------------------')\n",
    "    autoencoder.summary()\n",
    "    #print('Latent Encoder Structure-------------------------------------')\n",
    "    #latent_encoder.summary()\n",
    "    return autoencoder,latent_encoder\n",
    "\n",
    "#--------------------------------------------------------------------------------------------------------------------------------\n",
    "def Identity_Autoencoder(p_data_feature=x_train.shape[1],\\\n",
    "                         p_encoding_dim=key_feture_number,\\\n",
    "                         p_learning_rate= 1E-3):\n",
    "    \n",
    "    input_img = Input(shape=(p_data_feature,), name='autoencoder_input')\n",
    "\n",
    "    feature_selection = Feature_Select_Layer(output_dim=p_data_feature,\\\n",
    "                                             input_shape=(p_data_feature,),\\\n",
    "                                             name='feature_selection')\n",
    "\n",
    "    feature_selection_score=feature_selection(input_img)\n",
    "\n",
    "    encoded = Dense(p_encoding_dim,\\\n",
    "                    activation='linear',\\\n",
    "                    kernel_initializer=initializers.glorot_uniform(seed),\\\n",
    "                    name='autoencoder_hidden_layer')\n",
    "    \n",
    "    encoded_score=encoded(feature_selection_score)\n",
    "    \n",
    "    bottleneck_score=encoded_score\n",
    "    \n",
    "    decoded = Dense(p_data_feature,\\\n",
    "                    activation='linear',\\\n",
    "                    kernel_initializer=initializers.glorot_uniform(seed),\\\n",
    "                    name='autoencoder_output')\n",
    "    \n",
    "    decoded_score =decoded(bottleneck_score)\n",
    "\n",
    "    latent_encoder_score = Model(input_img, bottleneck_score)\n",
    "    autoencoder = Model(input_img, decoded_score)\n",
    "    \n",
    "    autoencoder.compile(loss='mean_squared_error',\\\n",
    "                        optimizer=optimizers.Adam(lr=p_learning_rate))\n",
    "    \n",
    "    print('Autoencoder Structure-------------------------------------')\n",
    "    autoencoder.summary()\n",
    "    return autoencoder,latent_encoder_score\n",
    "\n",
    "#--------------------------------------------------------------------------------------------------------------------------------\n",
    "def Fractal_Autoencoder(p_data_feature=x_train.shape[1],\\\n",
    "                        p_feture_number=key_feture_number,\\\n",
    "                        p_encoding_dim=key_feture_number,\\\n",
    "                        p_learning_rate=1E-3,\\\n",
    "                        p_loss_weight_1=1,\\\n",
    "                        p_loss_weight_2=2):\n",
    "    \n",
    "    input_img = Input(shape=(p_data_feature,), name='autoencoder_input')\n",
    "\n",
    "    feature_selection = Feature_Select_Layer(output_dim=p_data_feature,\\\n",
    "                                             input_shape=(p_data_feature,),\\\n",
    "                                             name='feature_selection')\n",
    "\n",
    "    feature_selection_score=feature_selection(input_img)\n",
    "    feature_selection_choose=feature_selection(input_img,selection=True,k=p_feture_number)\n",
    "\n",
    "    encoded = Dense(p_encoding_dim,\\\n",
    "                    activation='linear',\\\n",
    "                    kernel_initializer=initializers.glorot_uniform(seed),\\\n",
    "                    name='autoencoder_hidden_layer')\n",
    "    \n",
    "    encoded_score=encoded(feature_selection_score)\n",
    "    encoded_choose=encoded(feature_selection_choose)\n",
    "    \n",
    "    bottleneck_score=encoded_score\n",
    "    bottleneck_choose=encoded_choose\n",
    "    \n",
    "    decoded = Dense(p_data_feature,\\\n",
    "                    activation='linear',\\\n",
    "                    kernel_initializer=initializers.glorot_uniform(seed),\\\n",
    "                    name='autoencoder_output')\n",
    "    \n",
    "    decoded_score =decoded(bottleneck_score)\n",
    "    decoded_choose =decoded(bottleneck_choose)\n",
    "\n",
    "    latent_encoder_score = Model(input_img, bottleneck_score)\n",
    "    latent_encoder_choose = Model(input_img, bottleneck_choose)\n",
    "    feature_selection_output=Model(input_img,feature_selection_choose)\n",
    "    autoencoder = Model(input_img, [decoded_score,decoded_choose])\n",
    "    \n",
    "    autoencoder.compile(loss=['mean_squared_error','mean_squared_error'],\\\n",
    "                        loss_weights=[p_loss_weight_1, p_loss_weight_2],\\\n",
    "                        optimizer=optimizers.Adam(lr=p_learning_rate))\n",
    "    \n",
    "    print('Autoencoder Structure-------------------------------------')\n",
    "    autoencoder.summary()\n",
    "    return autoencoder,feature_selection_output,latent_encoder_score,latent_encoder_choose"
   ]
  },
  {
   "cell_type": "markdown",
   "metadata": {},
   "source": [
    "## 3.1 Structure and paramter testing"
   ]
  },
  {
   "cell_type": "code",
   "execution_count": 9,
   "metadata": {},
   "outputs": [],
   "source": [
    "epochs_number=200\n",
    "batch_size_value=16"
   ]
  },
  {
   "cell_type": "markdown",
   "metadata": {},
   "source": [
    "---\n",
    "### 3.1.1 Fractal Autoencoder\n",
    "---"
   ]
  },
  {
   "cell_type": "code",
   "execution_count": 10,
   "metadata": {
    "scrolled": true
   },
   "outputs": [
    {
     "name": "stdout",
     "output_type": "stream",
     "text": [
      "WARNING:tensorflow:From /usr/local/lib/python3.7/site-packages/keras/backend/tensorflow_backend.py:541: The name tf.placeholder is deprecated. Please use tf.compat.v1.placeholder instead.\n",
      "\n",
      "WARNING:tensorflow:From /usr/local/lib/python3.7/site-packages/keras/backend/tensorflow_backend.py:4432: The name tf.random_uniform is deprecated. Please use tf.random.uniform instead.\n",
      "\n",
      "WARNING:tensorflow:From <ipython-input-8-478f6b761227>:22: add_dispatch_support.<locals>.wrapper (from tensorflow.python.ops.array_ops) is deprecated and will be removed in a future version.\n",
      "Instructions for updating:\n",
      "Use tf.where in 2.0, which has the same broadcast rule as np.where\n",
      "WARNING:tensorflow:From /usr/local/lib/python3.7/site-packages/keras/backend/tensorflow_backend.py:66: The name tf.get_default_graph is deprecated. Please use tf.compat.v1.get_default_graph instead.\n",
      "\n",
      "WARNING:tensorflow:From /usr/local/lib/python3.7/site-packages/keras/optimizers.py:793: The name tf.train.Optimizer is deprecated. Please use tf.compat.v1.train.Optimizer instead.\n",
      "\n",
      "Autoencoder Structure-------------------------------------\n",
      "Model: \"model_4\"\n",
      "__________________________________________________________________________________________________\n",
      "Layer (type)                    Output Shape         Param #     Connected to                     \n",
      "==================================================================================================\n",
      "autoencoder_input (InputLayer)  (None, 19993)        0                                            \n",
      "__________________________________________________________________________________________________\n",
      "feature_selection (Feature_Sele (None, 19993)        19993       autoencoder_input[0][0]          \n",
      "                                                                 autoencoder_input[0][0]          \n",
      "__________________________________________________________________________________________________\n",
      "autoencoder_hidden_layer (Dense (None, 64)           1279616     feature_selection[0][0]          \n",
      "                                                                 feature_selection[1][0]          \n",
      "__________________________________________________________________________________________________\n",
      "autoencoder_output (Dense)      (None, 19993)        1299545     autoencoder_hidden_layer[0][0]   \n",
      "                                                                 autoencoder_hidden_layer[1][0]   \n",
      "==================================================================================================\n",
      "Total params: 2,599,154\n",
      "Trainable params: 2,599,154\n",
      "Non-trainable params: 0\n",
      "__________________________________________________________________________________________________\n"
     ]
    },
    {
     "data": {
      "image/png": "[encoded data removed]",
      "text/plain": [
       "<IPython.core.display.Image object>"
      ]
     },
     "execution_count": 10,
     "metadata": {},
     "output_type": "execute_result"
    }
   ],
   "source": [
    "loss_weight_1=0.0078125\n",
    "F_AE,\\\n",
    "feature_selection_output,\\\n",
    "latent_encoder_score_F_AE,\\\n",
    "latent_encoder_choose_F_AE=Fractal_Autoencoder(p_data_feature=x_train.shape[1],\\\n",
    "                                               p_feture_number=key_feture_number,\\\n",
    "                                               p_encoding_dim=key_feture_number,\\\n",
    "                                               p_learning_rate= 1E-3,\\\n",
    "                                               p_loss_weight_1=loss_weight_1,\\\n",
    "                                               p_loss_weight_2=1)\n",
    "\n",
    "file_name=\"./log/F_AE_\"+str(key_feture_number)+\".png\"\n",
    "plot_model(F_AE, to_file=file_name,show_shapes=True)"
   ]
  },
  {
   "cell_type": "code",
   "execution_count": 11,
   "metadata": {
    "scrolled": true
   },
   "outputs": [
    {
     "name": "stdout",
     "output_type": "stream",
     "text": [
      "WARNING:tensorflow:From /usr/local/lib/python3.7/site-packages/keras/backend/tensorflow_backend.py:1033: The name tf.assign_add is deprecated. Please use tf.compat.v1.assign_add instead.\n",
      "\n",
      "WARNING:tensorflow:From /usr/local/lib/python3.7/site-packages/keras/backend/tensorflow_backend.py:1020: The name tf.assign is deprecated. Please use tf.compat.v1.assign instead.\n",
      "\n",
      "Train on 134 samples, validate on 15 samples\n",
      "Epoch 1/200\n",
      "134/134 [==============================] - 62s 461ms/step - loss: 35.2206 - autoencoder_output_loss: 34.9755 - val_loss: 27.0116 - val_autoencoder_output_loss: 26.9663\n",
      "Epoch 2/200\n",
      "134/134 [==============================] - 67s 500ms/step - loss: 15.9233 - autoencoder_output_loss: 15.5506 - val_loss: 2.5090 - val_autoencoder_output_loss: 2.1067\n",
      "Epoch 3/200\n",
      "134/134 [==============================] - 83s 622ms/step - loss: 3.4582 - autoencoder_output_loss: 2.9647 - val_loss: 2.0521 - val_autoencoder_output_loss: 1.7671\n",
      "Epoch 4/200\n",
      "134/134 [==============================] - 103s 771ms/step - loss: 1.1247 - autoencoder_output_loss: 0.9215 - val_loss: 1.2858 - val_autoencoder_output_loss: 1.2790\n",
      "Epoch 5/200\n",
      "134/134 [==============================] - 121s 906ms/step - loss: 0.9260 - autoencoder_output_loss: 0.8536 - val_loss: 0.2923 - val_autoencoder_output_loss: 0.2484\n",
      "Epoch 6/200\n",
      "134/134 [==============================] - 85s 632ms/step - loss: 0.4042 - autoencoder_output_loss: 0.3609 - val_loss: 0.2760 - val_autoencoder_output_loss: 0.2702\n",
      "Epoch 7/200\n",
      "134/134 [==============================] - 79s 588ms/step - loss: 0.2478 - autoencoder_output_loss: 0.2264 - val_loss: 0.2568 - val_autoencoder_output_loss: 0.2490\n",
      "Epoch 8/200\n",
      "134/134 [==============================] - 71s 530ms/step - loss: 0.2176 - autoencoder_output_loss: 0.2084 - val_loss: 0.1903 - val_autoencoder_output_loss: 0.1876\n",
      "Epoch 9/200\n",
      "134/134 [==============================] - 69s 515ms/step - loss: 0.1922 - autoencoder_output_loss: 0.1882 - val_loss: 0.1762 - val_autoencoder_output_loss: 0.1735\n",
      "Epoch 10/200\n",
      "134/134 [==============================] - 61s 457ms/step - loss: 0.1819 - autoencoder_output_loss: 0.1794 - val_loss: 0.1752 - val_autoencoder_output_loss: 0.1738\n",
      "Epoch 11/200\n",
      "134/134 [==============================] - 127s 951ms/step - loss: 0.1780 - autoencoder_output_loss: 0.1754 - val_loss: 0.1734 - val_autoencoder_output_loss: 0.1717\n",
      "Epoch 12/200\n",
      "134/134 [==============================] - 171s 1s/step - loss: 0.1762 - autoencoder_output_loss: 0.1743 - val_loss: 0.1735 - val_autoencoder_output_loss: 0.1717\n",
      "Epoch 13/200\n",
      "134/134 [==============================] - 153s 1s/step - loss: 0.1775 - autoencoder_output_loss: 0.1756 - val_loss: 0.1724 - val_autoencoder_output_loss: 0.1710\n",
      "Epoch 14/200\n",
      "134/134 [==============================] - 82s 612ms/step - loss: 0.1754 - autoencoder_output_loss: 0.1738 - val_loss: 0.1740 - val_autoencoder_output_loss: 0.1720\n",
      "Epoch 15/200\n",
      "134/134 [==============================] - 63s 472ms/step - loss: 0.1761 - autoencoder_output_loss: 0.1744 - val_loss: 0.1727 - val_autoencoder_output_loss: 0.1708\n",
      "Epoch 16/200\n",
      "134/134 [==============================] - 61s 454ms/step - loss: 0.1760 - autoencoder_output_loss: 0.1744 - val_loss: 0.1733 - val_autoencoder_output_loss: 0.1716\n",
      "Epoch 17/200\n",
      "134/134 [==============================] - 63s 473ms/step - loss: 0.1765 - autoencoder_output_loss: 0.1751 - val_loss: 0.1730 - val_autoencoder_output_loss: 0.1715\n",
      "Epoch 18/200\n",
      "134/134 [==============================] - 62s 459ms/step - loss: 0.1759 - autoencoder_output_loss: 0.1745 - val_loss: 0.1747 - val_autoencoder_output_loss: 0.1718\n",
      "Epoch 19/200\n",
      "134/134 [==============================] - 60s 451ms/step - loss: 0.1783 - autoencoder_output_loss: 0.1749 - val_loss: 0.1724 - val_autoencoder_output_loss: 0.1708\n",
      "Epoch 20/200\n",
      "134/134 [==============================] - 61s 454ms/step - loss: 0.1752 - autoencoder_output_loss: 0.1736 - val_loss: 0.1717 - val_autoencoder_output_loss: 0.1704\n",
      "Epoch 21/200\n",
      "134/134 [==============================] - 61s 458ms/step - loss: 0.1759 - autoencoder_output_loss: 0.1742 - val_loss: 0.1782 - val_autoencoder_output_loss: 0.1718\n",
      "Epoch 22/200\n",
      "134/134 [==============================] - 63s 468ms/step - loss: 0.4379 - autoencoder_output_loss: 0.1734 - val_loss: 0.9112 - val_autoencoder_output_loss: 0.1726\n",
      "Epoch 23/200\n",
      "134/134 [==============================] - 61s 451ms/step - loss: 0.4701 - autoencoder_output_loss: 0.1773 - val_loss: 0.1852 - val_autoencoder_output_loss: 0.1724\n",
      "Epoch 24/200\n",
      "134/134 [==============================] - 60s 451ms/step - loss: 0.2877 - autoencoder_output_loss: 0.1756 - val_loss: 0.2196 - val_autoencoder_output_loss: 0.1713\n",
      "Epoch 25/200\n",
      "134/134 [==============================] - 63s 469ms/step - loss: 0.2166 - autoencoder_output_loss: 0.1766 - val_loss: 0.1872 - val_autoencoder_output_loss: 0.1708\n",
      "Epoch 26/200\n",
      "134/134 [==============================] - 61s 458ms/step - loss: 0.1910 - autoencoder_output_loss: 0.1757 - val_loss: 0.1849 - val_autoencoder_output_loss: 0.1724\n",
      "Epoch 27/200\n",
      "134/134 [==============================] - 61s 458ms/step - loss: 0.1834 - autoencoder_output_loss: 0.1746 - val_loss: 0.1837 - val_autoencoder_output_loss: 0.1703\n",
      "Epoch 28/200\n",
      "134/134 [==============================] - 61s 454ms/step - loss: 0.1799 - autoencoder_output_loss: 0.1737 - val_loss: 0.1787 - val_autoencoder_output_loss: 0.1706\n",
      "Epoch 29/200\n",
      "134/134 [==============================] - 59s 443ms/step - loss: 0.1785 - autoencoder_output_loss: 0.1735 - val_loss: 0.1729 - val_autoencoder_output_loss: 0.1709\n",
      "Epoch 30/200\n",
      "134/134 [==============================] - 59s 443ms/step - loss: 0.1759 - autoencoder_output_loss: 0.1738 - val_loss: 0.1720 - val_autoencoder_output_loss: 0.1698\n",
      "Epoch 31/200\n",
      "134/134 [==============================] - 59s 437ms/step - loss: 0.1764 - autoencoder_output_loss: 0.1745 - val_loss: 0.1713 - val_autoencoder_output_loss: 0.1695\n",
      "Epoch 32/200\n",
      "134/134 [==============================] - 61s 453ms/step - loss: 0.1756 - autoencoder_output_loss: 0.1736 - val_loss: 0.1718 - val_autoencoder_output_loss: 0.1700\n",
      "Epoch 33/200\n",
      "134/134 [==============================] - 62s 460ms/step - loss: 0.1760 - autoencoder_output_loss: 0.1742 - val_loss: 0.1721 - val_autoencoder_output_loss: 0.1708\n",
      "Epoch 34/200\n",
      "134/134 [==============================] - 61s 455ms/step - loss: 0.1751 - autoencoder_output_loss: 0.1735 - val_loss: 0.1714 - val_autoencoder_output_loss: 0.1695\n",
      "Epoch 35/200\n",
      "134/134 [==============================] - 61s 454ms/step - loss: 0.1747 - autoencoder_output_loss: 0.1730 - val_loss: 0.1723 - val_autoencoder_output_loss: 0.1710\n",
      "Epoch 36/200\n",
      "134/134 [==============================] - 60s 451ms/step - loss: 0.1749 - autoencoder_output_loss: 0.1735 - val_loss: 0.1711 - val_autoencoder_output_loss: 0.1694\n",
      "Epoch 37/200\n",
      "134/134 [==============================] - 59s 440ms/step - loss: 0.1756 - autoencoder_output_loss: 0.1738 - val_loss: 0.1708 - val_autoencoder_output_loss: 0.1695\n",
      "Epoch 38/200\n",
      "134/134 [==============================] - 59s 441ms/step - loss: 0.1739 - autoencoder_output_loss: 0.1724 - val_loss: 0.1712 - val_autoencoder_output_loss: 0.1694\n",
      "Epoch 39/200\n",
      "134/134 [==============================] - 59s 442ms/step - loss: 0.1755 - autoencoder_output_loss: 0.1737 - val_loss: 0.1716 - val_autoencoder_output_loss: 0.1696\n",
      "Epoch 40/200\n",
      "134/134 [==============================] - 60s 450ms/step - loss: 0.1766 - autoencoder_output_loss: 0.1741 - val_loss: 0.1719 - val_autoencoder_output_loss: 0.1699\n",
      "Epoch 41/200\n",
      "134/134 [==============================] - 60s 446ms/step - loss: 0.1746 - autoencoder_output_loss: 0.1726 - val_loss: 0.1701 - val_autoencoder_output_loss: 0.1687\n",
      "Epoch 42/200\n",
      "134/134 [==============================] - 59s 443ms/step - loss: 0.1766 - autoencoder_output_loss: 0.1743 - val_loss: 0.1756 - val_autoencoder_output_loss: 0.1694\n",
      "Epoch 43/200\n",
      "134/134 [==============================] - 59s 440ms/step - loss: 0.1800 - autoencoder_output_loss: 0.1749 - val_loss: 0.1702 - val_autoencoder_output_loss: 0.1686\n",
      "Epoch 44/200\n",
      "134/134 [==============================] - 59s 443ms/step - loss: 0.1760 - autoencoder_output_loss: 0.1719 - val_loss: 0.1892 - val_autoencoder_output_loss: 0.1691\n",
      "Epoch 45/200\n",
      "134/134 [==============================] - 59s 440ms/step - loss: 0.2449 - autoencoder_output_loss: 0.1729 - val_loss: 0.3259 - val_autoencoder_output_loss: 0.1687\n",
      "Epoch 46/200\n",
      "134/134 [==============================] - 61s 454ms/step - loss: 0.2469 - autoencoder_output_loss: 0.1733 - val_loss: 0.2134 - val_autoencoder_output_loss: 0.1685\n",
      "Epoch 47/200\n",
      "134/134 [==============================] - 59s 439ms/step - loss: 0.1980 - autoencoder_output_loss: 0.1739 - val_loss: 0.1764 - val_autoencoder_output_loss: 0.1679\n",
      "Epoch 48/200\n",
      "134/134 [==============================] - 59s 442ms/step - loss: 0.1835 - autoencoder_output_loss: 0.1717 - val_loss: 0.1698 - val_autoencoder_output_loss: 0.1680\n",
      "Epoch 49/200\n",
      "134/134 [==============================] - 58s 436ms/step - loss: 0.1762 - autoencoder_output_loss: 0.1716 - val_loss: 0.1711 - val_autoencoder_output_loss: 0.1686\n",
      "Epoch 50/200\n",
      "134/134 [==============================] - 61s 453ms/step - loss: 0.1804 - autoencoder_output_loss: 0.1720 - val_loss: 0.1810 - val_autoencoder_output_loss: 0.1676\n",
      "Epoch 51/200\n",
      "134/134 [==============================] - 59s 438ms/step - loss: 0.1783 - autoencoder_output_loss: 0.1735 - val_loss: 0.1689 - val_autoencoder_output_loss: 0.1675\n",
      "Epoch 52/200\n",
      "134/134 [==============================] - 58s 432ms/step - loss: 0.1842 - autoencoder_output_loss: 0.1802 - val_loss: 0.1767 - val_autoencoder_output_loss: 0.1685\n",
      "Epoch 53/200\n",
      "134/134 [==============================] - 58s 431ms/step - loss: 0.1807 - autoencoder_output_loss: 0.1714 - val_loss: 0.1753 - val_autoencoder_output_loss: 0.1667\n",
      "Epoch 54/200\n",
      "134/134 [==============================] - 58s 432ms/step - loss: 0.1952 - autoencoder_output_loss: 0.1708 - val_loss: 0.2759 - val_autoencoder_output_loss: 0.1679\n",
      "Epoch 55/200\n",
      "134/134 [==============================] - 59s 442ms/step - loss: 0.3324 - autoencoder_output_loss: 0.1740 - val_loss: 0.1695 - val_autoencoder_output_loss: 0.1673\n",
      "Epoch 56/200\n",
      "134/134 [==============================] - 58s 432ms/step - loss: 0.1906 - autoencoder_output_loss: 0.1710 - val_loss: 0.1863 - val_autoencoder_output_loss: 0.1659\n",
      "Epoch 57/200\n",
      "134/134 [==============================] - 60s 447ms/step - loss: 0.1808 - autoencoder_output_loss: 0.1705 - val_loss: 0.1788 - val_autoencoder_output_loss: 0.1665\n",
      "Epoch 58/200\n",
      "134/134 [==============================] - 59s 438ms/step - loss: 0.1755 - autoencoder_output_loss: 0.1709 - val_loss: 0.1732 - val_autoencoder_output_loss: 0.1651\n",
      "Epoch 59/200\n",
      "134/134 [==============================] - 59s 440ms/step - loss: 0.1823 - autoencoder_output_loss: 0.1743 - val_loss: 0.1877 - val_autoencoder_output_loss: 0.1659\n",
      "Epoch 60/200\n",
      "134/134 [==============================] - 60s 447ms/step - loss: 0.1857 - autoencoder_output_loss: 0.1751 - val_loss: 0.1872 - val_autoencoder_output_loss: 0.1646\n",
      "Epoch 61/200\n",
      "134/134 [==============================] - 59s 439ms/step - loss: 0.1786 - autoencoder_output_loss: 0.1691 - val_loss: 0.1685 - val_autoencoder_output_loss: 0.1650\n",
      "Epoch 62/200\n",
      "134/134 [==============================] - 59s 442ms/step - loss: 0.1721 - autoencoder_output_loss: 0.1703 - val_loss: 0.1691 - val_autoencoder_output_loss: 0.1676\n",
      "Epoch 63/200\n",
      "134/134 [==============================] - 60s 444ms/step - loss: 0.1811 - autoencoder_output_loss: 0.1706 - val_loss: 0.1780 - val_autoencoder_output_loss: 0.1662\n",
      "Epoch 64/200\n",
      "134/134 [==============================] - 59s 437ms/step - loss: 0.1758 - autoencoder_output_loss: 0.1702 - val_loss: 0.1632 - val_autoencoder_output_loss: 0.1616\n",
      "Epoch 65/200\n",
      "134/134 [==============================] - 59s 443ms/step - loss: 0.1715 - autoencoder_output_loss: 0.1695 - val_loss: 0.1832 - val_autoencoder_output_loss: 0.1653\n",
      "Epoch 66/200\n",
      "134/134 [==============================] - 59s 438ms/step - loss: 0.3045 - autoencoder_output_loss: 0.1726 - val_loss: 0.4621 - val_autoencoder_output_loss: 0.1696\n",
      "Epoch 67/200\n",
      "134/134 [==============================] - 59s 437ms/step - loss: 0.2826 - autoencoder_output_loss: 0.1709 - val_loss: 0.1701 - val_autoencoder_output_loss: 0.1620\n",
      "Epoch 68/200\n",
      "134/134 [==============================] - 59s 441ms/step - loss: 0.1896 - autoencoder_output_loss: 0.1650 - val_loss: 0.1923 - val_autoencoder_output_loss: 0.1590\n",
      "Epoch 69/200\n",
      "134/134 [==============================] - 60s 447ms/step - loss: 0.1804 - autoencoder_output_loss: 0.1622 - val_loss: 0.1921 - val_autoencoder_output_loss: 0.1592\n",
      "Epoch 70/200\n",
      "134/134 [==============================] - 61s 456ms/step - loss: 0.1802 - autoencoder_output_loss: 0.1627 - val_loss: 0.1706 - val_autoencoder_output_loss: 0.1590\n",
      "Epoch 71/200\n",
      "134/134 [==============================] - 61s 454ms/step - loss: 0.1720 - autoencoder_output_loss: 0.1600 - val_loss: 0.1604 - val_autoencoder_output_loss: 0.1552\n",
      "Epoch 72/200\n",
      "134/134 [==============================] - 63s 469ms/step - loss: 0.1780 - autoencoder_output_loss: 0.1608 - val_loss: 0.1581 - val_autoencoder_output_loss: 0.1560\n",
      "Epoch 73/200\n",
      "134/134 [==============================] - 61s 454ms/step - loss: 0.1639 - autoencoder_output_loss: 0.1604 - val_loss: 0.1662 - val_autoencoder_output_loss: 0.1546\n",
      "Epoch 74/200\n",
      "134/134 [==============================] - 60s 449ms/step - loss: 0.1684 - autoencoder_output_loss: 0.1609 - val_loss: 0.1581 - val_autoencoder_output_loss: 0.1572\n",
      "Epoch 75/200\n",
      "134/134 [==============================] - 61s 456ms/step - loss: 0.1598 - autoencoder_output_loss: 0.1568 - val_loss: 0.1512 - val_autoencoder_output_loss: 0.1501\n",
      "Epoch 76/200\n",
      "134/134 [==============================] - 58s 436ms/step - loss: 0.1629 - autoencoder_output_loss: 0.1588 - val_loss: 0.1558 - val_autoencoder_output_loss: 0.1518\n",
      "Epoch 77/200\n",
      "134/134 [==============================] - 59s 441ms/step - loss: 0.1560 - autoencoder_output_loss: 0.1517 - val_loss: 0.1520 - val_autoencoder_output_loss: 0.1482\n",
      "Epoch 78/200\n",
      "134/134 [==============================] - 59s 441ms/step - loss: 0.1562 - autoencoder_output_loss: 0.1509 - val_loss: 0.1482 - val_autoencoder_output_loss: 0.1451\n",
      "Epoch 79/200\n",
      "134/134 [==============================] - 59s 441ms/step - loss: 0.1555 - autoencoder_output_loss: 0.1505 - val_loss: 0.1468 - val_autoencoder_output_loss: 0.1445\n",
      "Epoch 80/200\n",
      "134/134 [==============================] - 59s 437ms/step - loss: 0.1528 - autoencoder_output_loss: 0.1502 - val_loss: 0.1460 - val_autoencoder_output_loss: 0.1431\n",
      "Epoch 81/200\n",
      "134/134 [==============================] - 59s 438ms/step - loss: 0.1530 - autoencoder_output_loss: 0.1496 - val_loss: 0.1805 - val_autoencoder_output_loss: 0.1608\n",
      "Epoch 82/200\n",
      "134/134 [==============================] - 59s 441ms/step - loss: 0.1897 - autoencoder_output_loss: 0.1585 - val_loss: 0.1590 - val_autoencoder_output_loss: 0.1425\n",
      "Epoch 83/200\n",
      "134/134 [==============================] - 59s 443ms/step - loss: 0.1536 - autoencoder_output_loss: 0.1456 - val_loss: 0.1505 - val_autoencoder_output_loss: 0.1380\n",
      "Epoch 84/200\n",
      "134/134 [==============================] - 59s 441ms/step - loss: 0.1503 - autoencoder_output_loss: 0.1434 - val_loss: 0.1398 - val_autoencoder_output_loss: 0.1381\n",
      "Epoch 85/200\n",
      "134/134 [==============================] - 61s 455ms/step - loss: 0.1599 - autoencoder_output_loss: 0.1435 - val_loss: 0.1630 - val_autoencoder_output_loss: 0.1358\n",
      "Epoch 86/200\n",
      "134/134 [==============================] - 58s 434ms/step - loss: 0.1551 - autoencoder_output_loss: 0.1425 - val_loss: 0.1474 - val_autoencoder_output_loss: 0.1343\n",
      "Epoch 87/200\n",
      "134/134 [==============================] - 58s 435ms/step - loss: 0.1611 - autoencoder_output_loss: 0.1394 - val_loss: 0.1380 - val_autoencoder_output_loss: 0.1296\n",
      "Epoch 88/200\n",
      "134/134 [==============================] - 59s 439ms/step - loss: 0.1410 - autoencoder_output_loss: 0.1374 - val_loss: 0.1470 - val_autoencoder_output_loss: 0.1302\n",
      "Epoch 89/200\n",
      "134/134 [==============================] - 60s 449ms/step - loss: 0.1597 - autoencoder_output_loss: 0.1345 - val_loss: 0.1756 - val_autoencoder_output_loss: 0.1285\n",
      "Epoch 90/200\n",
      "134/134 [==============================] - 60s 447ms/step - loss: 0.2484 - autoencoder_output_loss: 0.1337 - val_loss: 0.1540 - val_autoencoder_output_loss: 0.1246\n",
      "Epoch 91/200\n",
      "134/134 [==============================] - 58s 436ms/step - loss: 0.1852 - autoencoder_output_loss: 0.1322 - val_loss: 0.1336 - val_autoencoder_output_loss: 0.1266\n",
      "Epoch 92/200\n",
      "134/134 [==============================] - 58s 436ms/step - loss: 0.1547 - autoencoder_output_loss: 0.1287 - val_loss: 0.1298 - val_autoencoder_output_loss: 0.1226\n",
      "Epoch 93/200\n",
      "134/134 [==============================] - 58s 435ms/step - loss: 0.1338 - autoencoder_output_loss: 0.1284 - val_loss: 0.1251 - val_autoencoder_output_loss: 0.1233\n",
      "Epoch 94/200\n",
      "134/134 [==============================] - 59s 438ms/step - loss: 0.1329 - autoencoder_output_loss: 0.1282 - val_loss: 0.1200 - val_autoencoder_output_loss: 0.1189\n",
      "Epoch 95/200\n",
      "134/134 [==============================] - 59s 438ms/step - loss: 0.1275 - autoencoder_output_loss: 0.1245 - val_loss: 0.1223 - val_autoencoder_output_loss: 0.1206\n",
      "Epoch 96/200\n",
      "134/134 [==============================] - 58s 434ms/step - loss: 0.1285 - autoencoder_output_loss: 0.1264 - val_loss: 0.1293 - val_autoencoder_output_loss: 0.1228\n",
      "Epoch 97/200\n",
      "134/134 [==============================] - 59s 444ms/step - loss: 0.1366 - autoencoder_output_loss: 0.1246 - val_loss: 0.1235 - val_autoencoder_output_loss: 0.1152\n",
      "Epoch 98/200\n",
      "134/134 [==============================] - 59s 443ms/step - loss: 0.1256 - autoencoder_output_loss: 0.1213 - val_loss: 0.1177 - val_autoencoder_output_loss: 0.1121\n",
      "Epoch 99/200\n",
      "134/134 [==============================] - 59s 437ms/step - loss: 0.1234 - autoencoder_output_loss: 0.1189 - val_loss: 0.1219 - val_autoencoder_output_loss: 0.1149\n",
      "Epoch 100/200\n",
      "134/134 [==============================] - 59s 440ms/step - loss: 0.1466 - autoencoder_output_loss: 0.1193 - val_loss: 0.2163 - val_autoencoder_output_loss: 0.1120\n",
      "\n",
      "Epoch 00100: saving model to ./log_weights/F_AE_64_weights_0.0078125.0100.hdf5\n",
      "Epoch 101/200\n",
      "134/134 [==============================] - 59s 442ms/step - loss: 0.1966 - autoencoder_output_loss: 0.1187 - val_loss: 0.1527 - val_autoencoder_output_loss: 0.1124\n",
      "Epoch 102/200\n",
      "134/134 [==============================] - 60s 446ms/step - loss: 0.1588 - autoencoder_output_loss: 0.1190 - val_loss: 0.1305 - val_autoencoder_output_loss: 0.1116\n",
      "Epoch 103/200\n",
      "134/134 [==============================] - 59s 441ms/step - loss: 0.1281 - autoencoder_output_loss: 0.1182 - val_loss: 0.1096 - val_autoencoder_output_loss: 0.1079\n",
      "Epoch 104/200\n",
      "134/134 [==============================] - 59s 438ms/step - loss: 0.1210 - autoencoder_output_loss: 0.1170 - val_loss: 0.1193 - val_autoencoder_output_loss: 0.1102\n",
      "Epoch 105/200\n",
      "134/134 [==============================] - 61s 452ms/step - loss: 0.1274 - autoencoder_output_loss: 0.1139 - val_loss: 0.1098 - val_autoencoder_output_loss: 0.1069\n",
      "Epoch 106/200\n",
      "134/134 [==============================] - 60s 450ms/step - loss: 0.1194 - autoencoder_output_loss: 0.1134 - val_loss: 0.1073 - val_autoencoder_output_loss: 0.1055\n",
      "Epoch 107/200\n",
      "134/134 [==============================] - 57s 427ms/step - loss: 0.1169 - autoencoder_output_loss: 0.1124 - val_loss: 0.1159 - val_autoencoder_output_loss: 0.1080\n",
      "Epoch 108/200\n",
      "134/134 [==============================] - 58s 430ms/step - loss: 0.1169 - autoencoder_output_loss: 0.1127 - val_loss: 0.1097 - val_autoencoder_output_loss: 0.1027\n",
      "Epoch 109/200\n",
      "134/134 [==============================] - 57s 427ms/step - loss: 0.1192 - autoencoder_output_loss: 0.1113 - val_loss: 0.1374 - val_autoencoder_output_loss: 0.1040\n",
      "Epoch 110/200\n",
      "134/134 [==============================] - 58s 436ms/step - loss: 0.2121 - autoencoder_output_loss: 0.1113 - val_loss: 0.1343 - val_autoencoder_output_loss: 0.1027\n",
      "Epoch 111/200\n",
      "134/134 [==============================] - 59s 444ms/step - loss: 0.1350 - autoencoder_output_loss: 0.1114 - val_loss: 0.1276 - val_autoencoder_output_loss: 0.1104\n",
      "Epoch 112/200\n",
      "134/134 [==============================] - 60s 448ms/step - loss: 0.1201 - autoencoder_output_loss: 0.1130 - val_loss: 0.1103 - val_autoencoder_output_loss: 0.1068\n",
      "Epoch 113/200\n",
      "134/134 [==============================] - 60s 445ms/step - loss: 0.1162 - autoencoder_output_loss: 0.1121 - val_loss: 0.1131 - val_autoencoder_output_loss: 0.1062\n",
      "Epoch 114/200\n",
      "134/134 [==============================] - 60s 444ms/step - loss: 0.1167 - autoencoder_output_loss: 0.1126 - val_loss: 0.1090 - val_autoencoder_output_loss: 0.1059\n",
      "Epoch 115/200\n",
      "134/134 [==============================] - 58s 431ms/step - loss: 0.1150 - autoencoder_output_loss: 0.1127 - val_loss: 0.1119 - val_autoencoder_output_loss: 0.1106\n",
      "Epoch 116/200\n",
      "134/134 [==============================] - 58s 433ms/step - loss: 0.1143 - autoencoder_output_loss: 0.1123 - val_loss: 0.1047 - val_autoencoder_output_loss: 0.1030\n",
      "Epoch 117/200\n",
      "134/134 [==============================] - 59s 439ms/step - loss: 0.1123 - autoencoder_output_loss: 0.1098 - val_loss: 0.1033 - val_autoencoder_output_loss: 0.1021\n",
      "Epoch 118/200\n",
      "134/134 [==============================] - 61s 452ms/step - loss: 0.1170 - autoencoder_output_loss: 0.1082 - val_loss: 0.1568 - val_autoencoder_output_loss: 0.1000\n",
      "Epoch 119/200\n",
      "134/134 [==============================] - 61s 455ms/step - loss: 0.3179 - autoencoder_output_loss: 0.1080 - val_loss: 0.1035 - val_autoencoder_output_loss: 0.0995\n",
      "Epoch 120/200\n",
      "134/134 [==============================] - 62s 460ms/step - loss: 0.1687 - autoencoder_output_loss: 0.1078 - val_loss: 0.1903 - val_autoencoder_output_loss: 0.1024\n",
      "Epoch 121/200\n",
      "134/134 [==============================] - 62s 459ms/step - loss: 0.1406 - autoencoder_output_loss: 0.1079 - val_loss: 0.1240 - val_autoencoder_output_loss: 0.1050\n",
      "Epoch 122/200\n",
      "134/134 [==============================] - 62s 461ms/step - loss: 0.1205 - autoencoder_output_loss: 0.1109 - val_loss: 0.1122 - val_autoencoder_output_loss: 0.1022\n",
      "Epoch 123/200\n",
      "134/134 [==============================] - 60s 445ms/step - loss: 0.1145 - autoencoder_output_loss: 0.1093 - val_loss: 0.1062 - val_autoencoder_output_loss: 0.1020\n",
      "Epoch 124/200\n",
      "134/134 [==============================] - 60s 448ms/step - loss: 0.1125 - autoencoder_output_loss: 0.1091 - val_loss: 0.1102 - val_autoencoder_output_loss: 0.1041\n",
      "Epoch 125/200\n",
      "134/134 [==============================] - 60s 448ms/step - loss: 0.1104 - autoencoder_output_loss: 0.1070 - val_loss: 0.1012 - val_autoencoder_output_loss: 0.0990\n",
      "Epoch 126/200\n",
      "134/134 [==============================] - 59s 443ms/step - loss: 0.1092 - autoencoder_output_loss: 0.1071 - val_loss: 0.1026 - val_autoencoder_output_loss: 0.1003\n",
      "Epoch 127/200\n",
      "134/134 [==============================] - 60s 448ms/step - loss: 0.1096 - autoencoder_output_loss: 0.1071 - val_loss: 0.1050 - val_autoencoder_output_loss: 0.1031\n",
      "Epoch 128/200\n",
      "134/134 [==============================] - 59s 442ms/step - loss: 0.1122 - autoencoder_output_loss: 0.1095 - val_loss: 0.1072 - val_autoencoder_output_loss: 0.1044\n",
      "Epoch 129/200\n",
      "134/134 [==============================] - 61s 452ms/step - loss: 0.1108 - autoencoder_output_loss: 0.1091 - val_loss: 0.1036 - val_autoencoder_output_loss: 0.1023\n",
      "Epoch 130/200\n",
      "134/134 [==============================] - 60s 447ms/step - loss: 0.1088 - autoencoder_output_loss: 0.1069 - val_loss: 0.1051 - val_autoencoder_output_loss: 0.1012\n",
      "Epoch 131/200\n",
      "134/134 [==============================] - 60s 448ms/step - loss: 0.1105 - autoencoder_output_loss: 0.1076 - val_loss: 0.1026 - val_autoencoder_output_loss: 0.1014\n",
      "Epoch 132/200\n",
      "134/134 [==============================] - 62s 459ms/step - loss: 0.1105 - autoencoder_output_loss: 0.1093 - val_loss: 0.1023 - val_autoencoder_output_loss: 0.1014\n",
      "Epoch 133/200\n",
      "134/134 [==============================] - 62s 461ms/step - loss: 0.1096 - autoencoder_output_loss: 0.1068 - val_loss: 0.1028 - val_autoencoder_output_loss: 0.0992\n",
      "Epoch 134/200\n",
      "134/134 [==============================] - 61s 456ms/step - loss: 0.1098 - autoencoder_output_loss: 0.1080 - val_loss: 0.1028 - val_autoencoder_output_loss: 0.1019\n",
      "Epoch 135/200\n",
      "134/134 [==============================] - 59s 441ms/step - loss: 0.1101 - autoencoder_output_loss: 0.1085 - val_loss: 0.1061 - val_autoencoder_output_loss: 0.0998\n",
      "Epoch 136/200\n",
      "134/134 [==============================] - 60s 446ms/step - loss: 0.1169 - autoencoder_output_loss: 0.1069 - val_loss: 0.1206 - val_autoencoder_output_loss: 0.0990\n",
      "Epoch 137/200\n",
      "134/134 [==============================] - 59s 444ms/step - loss: 0.1339 - autoencoder_output_loss: 0.1067 - val_loss: 0.1033 - val_autoencoder_output_loss: 0.0980\n",
      "Epoch 138/200\n",
      "134/134 [==============================] - 59s 442ms/step - loss: 0.1109 - autoencoder_output_loss: 0.1072 - val_loss: 0.1020 - val_autoencoder_output_loss: 0.1011\n",
      "Epoch 139/200\n",
      "134/134 [==============================] - 60s 445ms/step - loss: 0.1089 - autoencoder_output_loss: 0.1067 - val_loss: 0.0999 - val_autoencoder_output_loss: 0.0991\n",
      "Epoch 140/200\n",
      "134/134 [==============================] - 62s 459ms/step - loss: 0.1075 - autoencoder_output_loss: 0.1060 - val_loss: 0.1040 - val_autoencoder_output_loss: 0.1017\n",
      "Epoch 141/200\n",
      "134/134 [==============================] - 61s 455ms/step - loss: 0.1092 - autoencoder_output_loss: 0.1075 - val_loss: 0.1070 - val_autoencoder_output_loss: 0.1039\n",
      "Epoch 142/200\n",
      "134/134 [==============================] - 60s 448ms/step - loss: 0.1193 - autoencoder_output_loss: 0.1103 - val_loss: 0.1196 - val_autoencoder_output_loss: 0.1018\n",
      "Epoch 143/200\n",
      "134/134 [==============================] - 59s 441ms/step - loss: 0.1334 - autoencoder_output_loss: 0.1079 - val_loss: 0.1523 - val_autoencoder_output_loss: 0.1023\n",
      "Epoch 144/200\n",
      "134/134 [==============================] - 60s 445ms/step - loss: 0.1728 - autoencoder_output_loss: 0.1095 - val_loss: 0.1116 - val_autoencoder_output_loss: 0.1054\n",
      "Epoch 145/200\n",
      "134/134 [==============================] - 60s 449ms/step - loss: 0.1126 - autoencoder_output_loss: 0.1090 - val_loss: 0.1017 - val_autoencoder_output_loss: 0.0999\n",
      "Epoch 146/200\n",
      "134/134 [==============================] - 60s 446ms/step - loss: 0.1096 - autoencoder_output_loss: 0.1067 - val_loss: 0.1031 - val_autoencoder_output_loss: 0.0989\n",
      "Epoch 147/200\n",
      "134/134 [==============================] - 61s 455ms/step - loss: 0.1100 - autoencoder_output_loss: 0.1067 - val_loss: 0.1123 - val_autoencoder_output_loss: 0.1047\n",
      "Epoch 148/200\n",
      "134/134 [==============================] - 61s 453ms/step - loss: 0.1128 - autoencoder_output_loss: 0.1079 - val_loss: 0.1022 - val_autoencoder_output_loss: 0.0994\n",
      "Epoch 149/200\n",
      "134/134 [==============================] - 61s 457ms/step - loss: 0.1099 - autoencoder_output_loss: 0.1070 - val_loss: 0.0983 - val_autoencoder_output_loss: 0.0973\n",
      "Epoch 150/200\n",
      "134/134 [==============================] - 60s 447ms/step - loss: 0.1074 - autoencoder_output_loss: 0.1059 - val_loss: 0.1036 - val_autoencoder_output_loss: 0.1003\n",
      "Epoch 151/200\n",
      "134/134 [==============================] - 60s 448ms/step - loss: 0.1161 - autoencoder_output_loss: 0.1064 - val_loss: 0.1184 - val_autoencoder_output_loss: 0.0988\n",
      "Epoch 152/200\n",
      "134/134 [==============================] - 62s 461ms/step - loss: 0.1444 - autoencoder_output_loss: 0.1072 - val_loss: 0.1151 - val_autoencoder_output_loss: 0.1029\n",
      "Epoch 153/200\n",
      "134/134 [==============================] - 61s 457ms/step - loss: 0.1158 - autoencoder_output_loss: 0.1064 - val_loss: 0.1351 - val_autoencoder_output_loss: 0.0981\n",
      "Epoch 154/200\n",
      "134/134 [==============================] - 61s 456ms/step - loss: 0.1927 - autoencoder_output_loss: 0.1074 - val_loss: 0.1072 - val_autoencoder_output_loss: 0.1008\n",
      "Epoch 155/200\n",
      "134/134 [==============================] - 60s 447ms/step - loss: 0.1231 - autoencoder_output_loss: 0.1084 - val_loss: 0.1108 - val_autoencoder_output_loss: 0.1017\n",
      "Epoch 156/200\n",
      "134/134 [==============================] - 60s 447ms/step - loss: 0.1146 - autoencoder_output_loss: 0.1073 - val_loss: 0.1025 - val_autoencoder_output_loss: 0.1005\n",
      "Epoch 157/200\n",
      "134/134 [==============================] - 60s 444ms/step - loss: 0.1096 - autoencoder_output_loss: 0.1076 - val_loss: 0.1073 - val_autoencoder_output_loss: 0.1055\n",
      "Epoch 158/200\n",
      "134/134 [==============================] - 60s 445ms/step - loss: 0.1109 - autoencoder_output_loss: 0.1091 - val_loss: 0.1088 - val_autoencoder_output_loss: 0.1044\n",
      "Epoch 159/200\n",
      "134/134 [==============================] - 60s 445ms/step - loss: 0.1137 - autoencoder_output_loss: 0.1116 - val_loss: 0.1108 - val_autoencoder_output_loss: 0.1083\n",
      "Epoch 160/200\n",
      "134/134 [==============================] - 60s 446ms/step - loss: 0.1114 - autoencoder_output_loss: 0.1087 - val_loss: 0.1024 - val_autoencoder_output_loss: 0.0988\n",
      "Epoch 161/200\n",
      "134/134 [==============================] - 60s 449ms/step - loss: 0.1125 - autoencoder_output_loss: 0.1079 - val_loss: 0.1006 - val_autoencoder_output_loss: 0.0997\n",
      "Epoch 162/200\n",
      "134/134 [==============================] - 60s 448ms/step - loss: 0.1084 - autoencoder_output_loss: 0.1073 - val_loss: 0.1021 - val_autoencoder_output_loss: 0.1004\n",
      "Epoch 163/200\n",
      "134/134 [==============================] - 59s 440ms/step - loss: 0.1094 - autoencoder_output_loss: 0.1070 - val_loss: 0.1051 - val_autoencoder_output_loss: 0.1001\n",
      "Epoch 164/200\n",
      "134/134 [==============================] - 60s 449ms/step - loss: 0.1184 - autoencoder_output_loss: 0.1070 - val_loss: 0.1443 - val_autoencoder_output_loss: 0.1006\n",
      "Epoch 165/200\n",
      "134/134 [==============================] - 60s 446ms/step - loss: 0.2090 - autoencoder_output_loss: 0.1080 - val_loss: 0.1198 - val_autoencoder_output_loss: 0.0965\n",
      "Epoch 166/200\n",
      "134/134 [==============================] - 60s 445ms/step - loss: 0.1260 - autoencoder_output_loss: 0.1066 - val_loss: 0.1081 - val_autoencoder_output_loss: 0.1046\n",
      "Epoch 167/200\n",
      "134/134 [==============================] - 59s 439ms/step - loss: 0.1221 - autoencoder_output_loss: 0.1079 - val_loss: 0.1156 - val_autoencoder_output_loss: 0.1029\n",
      "Epoch 168/200\n",
      "134/134 [==============================] - 58s 435ms/step - loss: 0.1239 - autoencoder_output_loss: 0.1092 - val_loss: 0.1094 - val_autoencoder_output_loss: 0.0982\n",
      "Epoch 169/200\n",
      "134/134 [==============================] - 58s 435ms/step - loss: 0.1145 - autoencoder_output_loss: 0.1086 - val_loss: 0.1043 - val_autoencoder_output_loss: 0.1019\n",
      "Epoch 170/200\n",
      "134/134 [==============================] - 57s 424ms/step - loss: 0.1082 - autoencoder_output_loss: 0.1069 - val_loss: 0.1000 - val_autoencoder_output_loss: 0.0991\n",
      "Epoch 171/200\n",
      "134/134 [==============================] - 57s 428ms/step - loss: 0.1095 - autoencoder_output_loss: 0.1080 - val_loss: 0.1042 - val_autoencoder_output_loss: 0.1028\n",
      "Epoch 172/200\n",
      "134/134 [==============================] - 58s 431ms/step - loss: 0.1114 - autoencoder_output_loss: 0.1099 - val_loss: 0.1135 - val_autoencoder_output_loss: 0.1125\n",
      "Epoch 173/200\n",
      "134/134 [==============================] - 58s 429ms/step - loss: 0.1163 - autoencoder_output_loss: 0.1150 - val_loss: 0.1014 - val_autoencoder_output_loss: 0.1004\n",
      "Epoch 174/200\n",
      "134/134 [==============================] - 57s 426ms/step - loss: 0.1144 - autoencoder_output_loss: 0.1127 - val_loss: 0.1054 - val_autoencoder_output_loss: 0.1033\n",
      "Epoch 175/200\n",
      "134/134 [==============================] - 57s 426ms/step - loss: 0.1124 - autoencoder_output_loss: 0.1107 - val_loss: 0.1089 - val_autoencoder_output_loss: 0.1068\n",
      "Epoch 176/200\n",
      "134/134 [==============================] - 57s 427ms/step - loss: 0.1104 - autoencoder_output_loss: 0.1077 - val_loss: 0.1054 - val_autoencoder_output_loss: 0.1015\n",
      "Epoch 177/200\n",
      "134/134 [==============================] - 58s 432ms/step - loss: 0.1222 - autoencoder_output_loss: 0.1083 - val_loss: 0.1631 - val_autoencoder_output_loss: 0.0997\n",
      "Epoch 178/200\n",
      "134/134 [==============================] - 58s 433ms/step - loss: 0.2040 - autoencoder_output_loss: 0.1084 - val_loss: 0.1166 - val_autoencoder_output_loss: 0.1059\n",
      "Epoch 179/200\n",
      "134/134 [==============================] - 58s 434ms/step - loss: 0.1317 - autoencoder_output_loss: 0.1096 - val_loss: 0.1114 - val_autoencoder_output_loss: 0.1028\n",
      "Epoch 180/200\n",
      "134/134 [==============================] - 59s 444ms/step - loss: 0.1233 - autoencoder_output_loss: 0.1111 - val_loss: 0.1145 - val_autoencoder_output_loss: 0.1034\n",
      "Epoch 181/200\n",
      "134/134 [==============================] - 59s 438ms/step - loss: 0.1162 - autoencoder_output_loss: 0.1087 - val_loss: 0.1106 - val_autoencoder_output_loss: 0.1041\n",
      "Epoch 182/200\n",
      "134/134 [==============================] - 58s 429ms/step - loss: 0.1129 - autoencoder_output_loss: 0.1084 - val_loss: 0.1035 - val_autoencoder_output_loss: 0.1003\n",
      "Epoch 183/200\n",
      "134/134 [==============================] - 58s 433ms/step - loss: 0.1123 - autoencoder_output_loss: 0.1084 - val_loss: 0.1048 - val_autoencoder_output_loss: 0.1005\n",
      "Epoch 184/200\n",
      "134/134 [==============================] - 58s 431ms/step - loss: 0.1118 - autoencoder_output_loss: 0.1086 - val_loss: 0.1037 - val_autoencoder_output_loss: 0.1011\n",
      "Epoch 185/200\n",
      "134/134 [==============================] - 58s 431ms/step - loss: 0.1120 - autoencoder_output_loss: 0.1076 - val_loss: 0.1021 - val_autoencoder_output_loss: 0.1004\n",
      "Epoch 186/200\n",
      "134/134 [==============================] - 58s 433ms/step - loss: 0.1107 - autoencoder_output_loss: 0.1073 - val_loss: 0.1060 - val_autoencoder_output_loss: 0.1043\n",
      "Epoch 187/200\n",
      "134/134 [==============================] - 63s 471ms/step - loss: 0.1107 - autoencoder_output_loss: 0.1084 - val_loss: 0.1083 - val_autoencoder_output_loss: 0.1044\n",
      "Epoch 188/200\n",
      "134/134 [==============================] - 62s 466ms/step - loss: 0.1098 - autoencoder_output_loss: 0.1075 - val_loss: 0.0994 - val_autoencoder_output_loss: 0.0983\n",
      "Epoch 189/200\n",
      "134/134 [==============================] - 59s 441ms/step - loss: 0.1079 - autoencoder_output_loss: 0.1066 - val_loss: 0.1026 - val_autoencoder_output_loss: 0.1016\n",
      "Epoch 190/200\n",
      "134/134 [==============================] - 59s 438ms/step - loss: 0.1115 - autoencoder_output_loss: 0.1075 - val_loss: 0.1129 - val_autoencoder_output_loss: 0.1050\n",
      "Epoch 191/200\n",
      "134/134 [==============================] - 59s 437ms/step - loss: 0.1387 - autoencoder_output_loss: 0.1098 - val_loss: 0.1702 - val_autoencoder_output_loss: 0.1026\n",
      "Epoch 192/200\n",
      "134/134 [==============================] - 58s 436ms/step - loss: 0.1463 - autoencoder_output_loss: 0.1061 - val_loss: 0.1088 - val_autoencoder_output_loss: 0.1003\n",
      "Epoch 193/200\n",
      "134/134 [==============================] - 62s 460ms/step - loss: 0.1142 - autoencoder_output_loss: 0.1071 - val_loss: 0.1032 - val_autoencoder_output_loss: 0.1010\n",
      "Epoch 194/200\n",
      "134/134 [==============================] - 61s 456ms/step - loss: 0.1116 - autoencoder_output_loss: 0.1088 - val_loss: 0.1095 - val_autoencoder_output_loss: 0.1066\n",
      "Epoch 195/200\n",
      "134/134 [==============================] - 59s 442ms/step - loss: 0.1191 - autoencoder_output_loss: 0.1100 - val_loss: 0.1121 - val_autoencoder_output_loss: 0.1072\n",
      "Epoch 196/200\n",
      "134/134 [==============================] - 59s 441ms/step - loss: 0.1150 - autoencoder_output_loss: 0.1085 - val_loss: 0.1183 - val_autoencoder_output_loss: 0.1062\n",
      "Epoch 197/200\n",
      "134/134 [==============================] - 59s 437ms/step - loss: 0.1164 - autoencoder_output_loss: 0.1109 - val_loss: 0.1105 - val_autoencoder_output_loss: 0.1041\n",
      "Epoch 198/200\n",
      "134/134 [==============================] - 59s 439ms/step - loss: 0.1293 - autoencoder_output_loss: 0.1093 - val_loss: 0.1201 - val_autoencoder_output_loss: 0.1021\n",
      "Epoch 199/200\n",
      "134/134 [==============================] - 58s 435ms/step - loss: 0.1165 - autoencoder_output_loss: 0.1091 - val_loss: 0.1096 - val_autoencoder_output_loss: 0.1008\n",
      "Epoch 200/200\n",
      "134/134 [==============================] - 59s 439ms/step - loss: 0.1129 - autoencoder_output_loss: 0.1100 - val_loss: 0.1083 - val_autoencoder_output_loss: 0.1062\n",
      "\n",
      "Epoch 00200: saving model to ./log_weights/F_AE_64_weights_0.0078125.0200.hdf5\n"
     ]
    }
   ],
   "source": [
    "model_checkpoint=ModelCheckpoint('./log_weights/F_AE_'+str(key_feture_number)+'_weights_'+str(loss_weight_1)+'.{epoch:04d}.hdf5',period=100,save_weights_only=True,verbose=1)\n",
    "#print_weights = LambdaCallback(on_epoch_end=lambda batch, logs: print(F_AE.layers[1].get_weights()))\n",
    "\n",
    "F_AE_history = F_AE.fit(x_train, [x_train,x_train],\\\n",
    "                        epochs=epochs_number,\\\n",
    "                        batch_size=batch_size_value,\\\n",
    "                        shuffle=True,\\\n",
    "                        validation_data=(x_validate, [x_validate,x_validate]),\\\n",
    "                        callbacks=[model_checkpoint])"
   ]
  },
  {
   "cell_type": "code",
   "execution_count": 12,
   "metadata": {},
   "outputs": [
    {
     "data": {
      "image/png": "[encoded data removed]",
      "text/plain": [
       "<Figure size 432x288 with 1 Axes>"
      ]
     },
     "metadata": {},
     "output_type": "display_data"
    }
   ],
   "source": [
    "loss = F_AE_history.history['loss']\n",
    "val_loss = F_AE_history.history['val_loss']\n",
    "\n",
    "epochs = range(epochs_number)\n",
    "\n",
    "plt.plot(epochs, loss, 'bo', label='Training Loss')\n",
    "plt.plot(epochs, val_loss, 'r', label='Validation Loss')\n",
    "plt.xlabel('Epochs')\n",
    "plt.ylabel('Loss')\n",
    "plt.legend()\n",
    "plt.show()"
   ]
  },
  {
   "cell_type": "code",
   "execution_count": 13,
   "metadata": {},
   "outputs": [
    {
     "data": {
      "image/png": "[encoded data removed]",
      "text/plain": [
       "<Figure size 432x288 with 1 Axes>"
      ]
     },
     "metadata": {},
     "output_type": "display_data"
    }
   ],
   "source": [
    "plt.plot(epochs[250:], loss[250:], 'bo', label='Training Loss')\n",
    "plt.plot(epochs[250:], val_loss[250:], 'r', label='Validation Loss')\n",
    "plt.xlabel('Epochs')\n",
    "plt.ylabel('Loss')\n",
    "plt.legend()\n",
    "plt.show()"
   ]
  },
  {
   "cell_type": "code",
   "execution_count": 14,
   "metadata": {},
   "outputs": [
    {
     "name": "stdout",
     "output_type": "stream",
     "text": [
      "MSE for one-to-one map layer 0.29189888956831356\n",
      "MSE for feature selection layer 0.10811667459458696\n"
     ]
    }
   ],
   "source": [
    "p_data=F_AE.predict(x_test)\n",
    "numbers=x_test.shape[0]*x_test.shape[1]\n",
    "\n",
    "print(\"MSE for one-to-one map layer\",np.sum(np.power(np.array(p_data)[0]-x_test,2))/numbers)\n",
    "print(\"MSE for feature selection layer\",np.sum(np.power(np.array(p_data)[1]-x_test,2))/numbers)"
   ]
  },
  {
   "cell_type": "markdown",
   "metadata": {},
   "source": [
    "---\n",
    "### 3.1.2 Feature selection layer output\n",
    "---"
   ]
  },
  {
   "cell_type": "code",
   "execution_count": 15,
   "metadata": {},
   "outputs": [
    {
     "name": "stdout",
     "output_type": "stream",
     "text": [
      "64\n"
     ]
    }
   ],
   "source": [
    "FS_layer_output=feature_selection_output.predict(x_test)\n",
    "print(np.sum(FS_layer_output[0]>0))"
   ]
  },
  {
   "cell_type": "markdown",
   "metadata": {},
   "source": [
    "---\n",
    "### 3.1.3 Key features show\n",
    "---"
   ]
  },
  {
   "cell_type": "code",
   "execution_count": 16,
   "metadata": {},
   "outputs": [
    {
     "name": "stdout",
     "output_type": "stream",
     "text": [
      "19993\n"
     ]
    }
   ],
   "source": [
    "key_features=F.top_k_keepWeights_1(F_AE.get_layer(index=1).get_weights()[0],key_feture_number)\n",
    "print(np.sum(F_AE.get_layer(index=1).get_weights()[0]>0))"
   ]
  },
  {
   "cell_type": "markdown",
   "metadata": {},
   "source": [
    "# 4 Classifying"
   ]
  },
  {
   "cell_type": "markdown",
   "metadata": {},
   "source": [
    "### 4.1 Extra Trees"
   ]
  },
  {
   "cell_type": "code",
   "execution_count": 17,
   "metadata": {},
   "outputs": [
    {
     "name": "stdout",
     "output_type": "stream",
     "text": [
      "Training accuracy： 1.0\n",
      "Training accuracy： 1.0\n",
      "Testing accuracy： 0.7368421052631579\n",
      "Testing accuracy： 0.7368421052631579\n"
     ]
    }
   ],
   "source": [
    "train_feature=C_train_x\n",
    "train_label=C_train_y\n",
    "test_feature=C_test_x\n",
    "test_label=C_test_y\n",
    "p_seed=seed\n",
    "F.ETree(train_feature,train_label,test_feature,test_label,p_seed)"
   ]
  },
  {
   "cell_type": "code",
   "execution_count": 18,
   "metadata": {},
   "outputs": [],
   "source": [
    "selected_position_list=np.where(key_features>0)[0]"
   ]
  },
  {
   "cell_type": "markdown",
   "metadata": {},
   "source": [
    "---\n",
    "#### 4.1.1. On Identity Selection layer\n",
    "---\n",
    "\n",
    "a) with zeros"
   ]
  },
  {
   "cell_type": "code",
   "execution_count": 19,
   "metadata": {},
   "outputs": [
    {
     "name": "stdout",
     "output_type": "stream",
     "text": [
      "train_feature>0:  64\n",
      "(149, 19993)\n",
      "test_feature>0:  64\n",
      "(38, 19993)\n",
      "Training accuracy： 1.0\n",
      "Training accuracy： 1.0\n",
      "Testing accuracy： 0.631578947368421\n",
      "Testing accuracy： 0.631578947368421\n"
     ]
    }
   ],
   "source": [
    "train_feature=feature_selection_output.predict(C_train_x)\n",
    "print(\"train_feature>0: \",np.sum(train_feature[0]>0))\n",
    "print(train_feature.shape)\n",
    "train_label=C_train_y\n",
    "test_feature=feature_selection_output.predict(C_test_x)\n",
    "print(\"test_feature>0: \",np.sum(test_feature[0]>0))\n",
    "print(test_feature.shape)\n",
    "test_label=C_test_y\n",
    "p_seed=seed\n",
    "F.ETree(train_feature,train_label,test_feature,test_label,p_seed)"
   ]
  },
  {
   "cell_type": "markdown",
   "metadata": {},
   "source": [
    "---\n",
    "\n",
    "b) Sparse matrix"
   ]
  },
  {
   "cell_type": "code",
   "execution_count": 20,
   "metadata": {},
   "outputs": [
    {
     "name": "stdout",
     "output_type": "stream",
     "text": [
      "(149, 19993)\n",
      "(38, 19993)\n",
      "Training accuracy： 1.0\n",
      "Training accuracy： 1.0\n",
      "Testing accuracy： 0.631578947368421\n",
      "Testing accuracy： 0.631578947368421\n"
     ]
    }
   ],
   "source": [
    "train_feature=feature_selection_output.predict(C_train_x)\n",
    "print(train_feature.shape)\n",
    "train_label=C_train_y\n",
    "\n",
    "test_feature=feature_selection_output.predict(C_test_x)\n",
    "print(test_feature.shape)\n",
    "test_label=C_test_y\n",
    "\n",
    "train_feature_sparse=sparse.coo_matrix(train_feature)\n",
    "test_feature_sparse=sparse.coo_matrix(test_feature)\n",
    "\n",
    "p_seed=seed\n",
    "F.ETree(train_feature_sparse,train_label,test_feature_sparse,test_label,p_seed)"
   ]
  },
  {
   "cell_type": "markdown",
   "metadata": {},
   "source": [
    "---\n",
    "\n",
    "c) Compression"
   ]
  },
  {
   "cell_type": "code",
   "execution_count": 21,
   "metadata": {},
   "outputs": [
    {
     "name": "stdout",
     "output_type": "stream",
     "text": [
      "(149, 64)\n",
      "(38, 64)\n",
      "Training accuracy： 1.0\n",
      "Training accuracy： 1.0\n",
      "Testing accuracy： 0.5789473684210527\n",
      "Testing accuracy： 0.5789473684210527\n"
     ]
    }
   ],
   "source": [
    "train_feature_=feature_selection_output.predict(C_train_x)\n",
    "train_feature=F.compress_zero(train_feature_,key_feture_number)\n",
    "print(train_feature.shape)\n",
    "train_label=C_train_y\n",
    "\n",
    "test_feature_=feature_selection_output.predict(C_test_x)\n",
    "test_feature=F.compress_zero(test_feature_,key_feture_number)\n",
    "print(test_feature.shape)\n",
    "test_label=C_test_y\n",
    "\n",
    "p_seed=seed\n",
    "F.ETree(train_feature,train_label,test_feature,test_label,p_seed)"
   ]
  },
  {
   "cell_type": "markdown",
   "metadata": {},
   "source": [
    "---\n",
    "\n",
    "d) Compression with structure"
   ]
  },
  {
   "cell_type": "code",
   "execution_count": 22,
   "metadata": {},
   "outputs": [
    {
     "name": "stdout",
     "output_type": "stream",
     "text": [
      "(149, 64)\n",
      "(38, 64)\n",
      "Training accuracy： 1.0\n",
      "Training accuracy： 1.0\n",
      "Testing accuracy： 0.5789473684210527\n",
      "Testing accuracy： 0.5789473684210527\n"
     ]
    }
   ],
   "source": [
    "train_feature_=feature_selection_output.predict(C_train_x)\n",
    "train_feature=F.compress_zero_withkeystructure(train_feature_,selected_position_list)\n",
    "print(train_feature.shape)\n",
    "train_label=C_train_y\n",
    "\n",
    "test_feature_=feature_selection_output.predict(C_test_x)\n",
    "test_feature=F.compress_zero_withkeystructure(test_feature_,selected_position_list)\n",
    "print(test_feature.shape)\n",
    "test_label=C_test_y\n",
    "\n",
    "p_seed=seed\n",
    "F.ETree(train_feature,train_label,test_feature,test_label,p_seed)"
   ]
  },
  {
   "cell_type": "markdown",
   "metadata": {},
   "source": [
    "---\n",
    "#### 4.1.2. On Original Selection\n",
    "---\n",
    "\n",
    "a) with zeros"
   ]
  },
  {
   "cell_type": "code",
   "execution_count": 23,
   "metadata": {},
   "outputs": [
    {
     "name": "stdout",
     "output_type": "stream",
     "text": [
      "train_feature>0:  64\n",
      "(149, 19993)\n",
      "test_feature>0:  64\n",
      "(38, 19993)\n",
      "Training accuracy： 1.0\n",
      "Training accuracy： 1.0\n",
      "Testing accuracy： 0.631578947368421\n",
      "Testing accuracy： 0.631578947368421\n"
     ]
    }
   ],
   "source": [
    "train_feature=np.multiply(C_train_x, key_features)\n",
    "print(\"train_feature>0: \",np.sum(train_feature[0]>0))\n",
    "print(train_feature.shape)\n",
    "train_label=C_train_y\n",
    "\n",
    "test_feature=np.multiply(C_test_x, key_features)\n",
    "print(\"test_feature>0: \",np.sum(test_feature[0]>0))\n",
    "print(test_feature.shape)\n",
    "test_label=C_test_y\n",
    "\n",
    "p_seed=seed\n",
    "F.ETree(train_feature,train_label,test_feature,test_label,p_seed)"
   ]
  },
  {
   "cell_type": "markdown",
   "metadata": {},
   "source": [
    "---\n",
    "\n",
    "b) Sparse matrix"
   ]
  },
  {
   "cell_type": "code",
   "execution_count": 24,
   "metadata": {},
   "outputs": [
    {
     "name": "stdout",
     "output_type": "stream",
     "text": [
      "(149, 19993)\n",
      "(38, 19993)\n",
      "Training accuracy： 1.0\n",
      "Training accuracy： 1.0\n",
      "Testing accuracy： 0.631578947368421\n",
      "Testing accuracy： 0.631578947368421\n"
     ]
    }
   ],
   "source": [
    "train_feature=np.multiply(C_train_x, key_features)\n",
    "print(train_feature.shape)\n",
    "train_label=C_train_y\n",
    "\n",
    "test_feature=np.multiply(C_test_x, key_features)\n",
    "print(test_feature.shape)\n",
    "test_label=C_test_y\n",
    "\n",
    "train_feature_sparse=sparse.coo_matrix(train_feature)\n",
    "test_feature_sparse=sparse.coo_matrix(test_feature)\n",
    "\n",
    "p_seed=seed\n",
    "F.ETree(train_feature_sparse,train_label,test_feature_sparse,test_label,p_seed)"
   ]
  },
  {
   "cell_type": "markdown",
   "metadata": {},
   "source": [
    "---\n",
    "\n",
    "c) Compression"
   ]
  },
  {
   "cell_type": "code",
   "execution_count": 25,
   "metadata": {},
   "outputs": [
    {
     "name": "stdout",
     "output_type": "stream",
     "text": [
      "(149, 64)\n",
      "(38, 64)\n",
      "Training accuracy： 1.0\n",
      "Training accuracy： 1.0\n",
      "Testing accuracy： 0.5789473684210527\n",
      "Testing accuracy： 0.5789473684210527\n"
     ]
    }
   ],
   "source": [
    "train_feature_=np.multiply(C_train_x, key_features)\n",
    "train_feature=F.compress_zero(train_feature_,key_feture_number)\n",
    "print(train_feature.shape)\n",
    "train_label=C_train_y\n",
    "\n",
    "test_feature_=np.multiply(C_test_x, key_features)\n",
    "test_feature=F.compress_zero(test_feature_,key_feture_number)\n",
    "print(test_feature.shape)\n",
    "test_label=C_test_y\n",
    "\n",
    "p_seed=seed\n",
    "F.ETree(train_feature,train_label,test_feature,test_label,p_seed)"
   ]
  },
  {
   "cell_type": "markdown",
   "metadata": {},
   "source": [
    "---\n",
    "\n",
    "d) Compression with structure"
   ]
  },
  {
   "cell_type": "code",
   "execution_count": 26,
   "metadata": {},
   "outputs": [
    {
     "name": "stdout",
     "output_type": "stream",
     "text": [
      "(149, 64)\n",
      "(38, 64)\n",
      "Training accuracy： 1.0\n",
      "Training accuracy： 1.0\n",
      "Testing accuracy： 0.5789473684210527\n",
      "Testing accuracy： 0.5789473684210527\n"
     ]
    }
   ],
   "source": [
    "train_feature_=np.multiply(C_train_x, key_features)\n",
    "train_feature=F.compress_zero_withkeystructure(train_feature_,selected_position_list)\n",
    "print(train_feature.shape)\n",
    "train_label=C_train_y\n",
    "\n",
    "test_feature_=np.multiply(C_test_x, key_features)\n",
    "test_feature=F.compress_zero_withkeystructure(test_feature_,selected_position_list)\n",
    "print(test_feature.shape)\n",
    "test_label=C_test_y\n",
    "\n",
    "p_seed=seed\n",
    "F.ETree(train_feature,train_label,test_feature,test_label,p_seed)"
   ]
  },
  {
   "cell_type": "markdown",
   "metadata": {},
   "source": [
    "---\n",
    "#### 4.1.3. Latent space\n",
    "---"
   ]
  },
  {
   "cell_type": "code",
   "execution_count": 27,
   "metadata": {},
   "outputs": [
    {
     "name": "stdout",
     "output_type": "stream",
     "text": [
      "(149, 64)\n",
      "(38, 64)\n",
      "Training accuracy： 1.0\n",
      "Training accuracy： 1.0\n",
      "Testing accuracy： 0.7631578947368421\n",
      "Testing accuracy： 0.7631578947368421\n"
     ]
    }
   ],
   "source": [
    "train_feature=latent_encoder_score_F_AE.predict(C_train_x)\n",
    "print(train_feature.shape)\n",
    "train_label=C_train_y\n",
    "test_feature=latent_encoder_score_F_AE.predict(C_test_x)\n",
    "print(test_feature.shape)\n",
    "test_label=C_test_y\n",
    "p_seed=seed\n",
    "F.ETree(train_feature,train_label,test_feature,test_label,p_seed)"
   ]
  },
  {
   "cell_type": "code",
   "execution_count": 28,
   "metadata": {},
   "outputs": [
    {
     "name": "stdout",
     "output_type": "stream",
     "text": [
      "(149, 64)\n",
      "(38, 64)\n",
      "Training accuracy： 1.0\n",
      "Training accuracy： 1.0\n",
      "Testing accuracy： 0.6052631578947368\n",
      "Testing accuracy： 0.6052631578947368\n"
     ]
    }
   ],
   "source": [
    "train_feature=latent_encoder_choose_F_AE.predict(C_train_x)\n",
    "print(train_feature.shape)\n",
    "train_label=C_train_y\n",
    "test_feature=latent_encoder_choose_F_AE.predict(C_test_x)\n",
    "print(test_feature.shape)\n",
    "test_label=C_test_y\n",
    "p_seed=seed\n",
    "F.ETree(train_feature,train_label,test_feature,test_label,p_seed)"
   ]
  },
  {
   "cell_type": "markdown",
   "metadata": {},
   "source": [
    "---\n",
    "# 6 Feature group compare\n",
    "\n",
    "---"
   ]
  },
  {
   "cell_type": "code",
   "execution_count": 29,
   "metadata": {},
   "outputs": [],
   "source": [
    "Selected_Weights=F.top_k_keep(F_AE.get_layer(index=1).get_weights()[0],key_feture_number)"
   ]
  },
  {
   "cell_type": "code",
   "execution_count": 30,
   "metadata": {},
   "outputs": [],
   "source": [
    "selected_position_group=F.k_index_argsort_1d(Selected_Weights,key_feture_number)"
   ]
  },
  {
   "cell_type": "code",
   "execution_count": 31,
   "metadata": {},
   "outputs": [
    {
     "name": "stdout",
     "output_type": "stream",
     "text": [
      "(149, 64)\n",
      "(38, 64)\n"
     ]
    }
   ],
   "source": [
    "train_feature_=np.multiply(C_train_x, key_features)\n",
    "train_feature=F.compress_zero_withkeystructure(train_feature_,selected_position_group)\n",
    "print(train_feature.shape)\n",
    "train_label=C_train_y\n",
    "\n",
    "test_feature_=np.multiply(C_test_x, key_features)\n",
    "test_feature=F.compress_zero_withkeystructure(test_feature_,selected_position_group)\n",
    "print(test_feature.shape)\n",
    "test_label=C_test_y"
   ]
  },
  {
   "cell_type": "code",
   "execution_count": 32,
   "metadata": {},
   "outputs": [
    {
     "name": "stdout",
     "output_type": "stream",
     "text": [
      "Training accuracy： 1.0\n",
      "Training accuracy： 1.0\n",
      "Testing accuracy： 0.6578947368421053\n",
      "Testing accuracy： 0.6578947368421053\n"
     ]
    }
   ],
   "source": [
    "p_seed=seed\n",
    "F.ETree(train_feature[:,0:25],train_label,test_feature[:,0:25],test_label,p_seed)"
   ]
  },
  {
   "cell_type": "code",
   "execution_count": 33,
   "metadata": {},
   "outputs": [
    {
     "name": "stdout",
     "output_type": "stream",
     "text": [
      "Training accuracy： 1.0\n",
      "Training accuracy： 1.0\n",
      "Testing accuracy： 0.6578947368421053\n",
      "Testing accuracy： 0.6578947368421053\n"
     ]
    }
   ],
   "source": [
    "p_seed=seed\n",
    "F.ETree(train_feature[:,25:],train_label,test_feature[:,25:],test_label,p_seed)"
   ]
  },
  {
   "cell_type": "code",
   "execution_count": 34,
   "metadata": {},
   "outputs": [
    {
     "name": "stdout",
     "output_type": "stream",
     "text": [
      "Training accuracy： 1.0\n",
      "Training accuracy： 1.0\n",
      "Testing accuracy： 0.6052631578947368\n",
      "Testing accuracy： 0.6052631578947368\n"
     ]
    }
   ],
   "source": [
    "p_seed=seed\n",
    "F.ETree(train_feature[:,0:30],train_label,test_feature[:,0:30],test_label,p_seed)"
   ]
  },
  {
   "cell_type": "code",
   "execution_count": 35,
   "metadata": {},
   "outputs": [
    {
     "name": "stdout",
     "output_type": "stream",
     "text": [
      "Training accuracy： 1.0\n",
      "Training accuracy： 1.0\n",
      "Testing accuracy： 0.6578947368421053\n",
      "Testing accuracy： 0.6578947368421053\n"
     ]
    }
   ],
   "source": [
    "p_seed=seed\n",
    "F.ETree(train_feature[:,30:],train_label,test_feature[:,30:],test_label,p_seed)"
   ]
  },
  {
   "cell_type": "markdown",
   "metadata": {},
   "source": [
    "---\n",
    "# 7. Reconstruction loss\n",
    "---"
   ]
  },
  {
   "cell_type": "code",
   "execution_count": 36,
   "metadata": {},
   "outputs": [],
   "source": [
    "from sklearn.linear_model import LinearRegression\n",
    "\n",
    "def mse_check(train, test):\n",
    "    LR = LinearRegression(n_jobs = -1)\n",
    "    LR.fit(train[0], train[1])\n",
    "    MSELR = ((LR.predict(test[0]) - test[1]) ** 2).mean()\n",
    "    return MSELR"
   ]
  },
  {
   "cell_type": "code",
   "execution_count": 37,
   "metadata": {},
   "outputs": [
    {
     "name": "stdout",
     "output_type": "stream",
     "text": [
      "(149, 64)\n",
      "(38, 64)\n",
      "0.10041547767776429\n"
     ]
    }
   ],
   "source": [
    "train_feature_=np.multiply(C_train_x, key_features)\n",
    "C_train_selected_x=F.compress_zero_withkeystructure(train_feature_,selected_position_list)\n",
    "print(C_train_selected_x.shape)\n",
    "\n",
    "test_feature_=np.multiply(C_test_x, key_features)\n",
    "C_test_selected_x=F.compress_zero_withkeystructure(test_feature_,selected_position_list)\n",
    "print(C_test_selected_x.shape)\n",
    "\n",
    "\n",
    "train_feature_tuple=(C_train_selected_x,C_train_x)\n",
    "test_feature_tuple=(C_test_selected_x,C_test_x)\n",
    "\n",
    "reconstruction_loss=mse_check(train_feature_tuple, test_feature_tuple)\n",
    "print(reconstruction_loss)"
   ]
  },
  {
   "cell_type": "code",
   "execution_count": null,
   "metadata": {},
   "outputs": [],
   "source": []
  }
 ],
 "metadata": {
  "kernelspec": {
   "display_name": "Python 3",
   "language": "python",
   "name": "python3"
  },
  "language_info": {
   "codemirror_mode": {
    "name": "ipython",
    "version": 3
   },
   "file_extension": ".py",
   "mimetype": "text/x-python",
   "name": "python",
   "nbconvert_exporter": "python",
   "pygments_lexer": "ipython3",
   "version": "3.8.6"
  },
  "widgets": {
   "application/vnd.jupyter.widget-state+json": {
    "state": {},
    "version_major": 2,
    "version_minor": 0
   }
  }
 },
 "nbformat": 4,
 "nbformat_minor": 4
}
